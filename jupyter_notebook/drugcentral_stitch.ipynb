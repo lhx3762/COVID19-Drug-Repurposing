{
 "cells": [
  {
   "cell_type": "code",
   "execution_count": 99,
   "metadata": {},
   "outputs": [],
   "source": [
    "import pandas as pd\n",
    "import numpy as np\n",
    "import os\n",
    "from collections import OrderedDict\n",
    "import pubchempy as pcp\n",
    "import json"
   ]
  },
  {
   "cell_type": "code",
   "execution_count": 102,
   "metadata": {},
   "outputs": [],
   "source": [
    "def save_dict_file(dictvar, file):\n",
    "    with open(file, 'w') as file:\n",
    "        file.write(json.dumps(dictvar))"
   ]
  },
  {
   "cell_type": "code",
   "execution_count": 104,
   "metadata": {},
   "outputs": [],
   "source": [
    "covid19_drugs = ['sapanisertib', 'rapamycin', 'zotatifin', 'verdinexor', 'chloroquine', 'dabrafenib', 'sanglifehrin a', 'fk-506', 'pevonedistat', 'tomivosertib', 'captopril', 'lisinopril', 'camostat', 'nafamostat', 'chloramphenicol', 'tigecycline', 'linezolid']"
   ]
  },
  {
   "cell_type": "code",
   "execution_count": 144,
   "metadata": {},
   "outputs": [],
   "source": [
    "def update_node_file(new_nodes, node_file='dataset/diseases.nodes'):\n",
    "    # grab the current existing nodes from the file\n",
    "    if os.path.getsize(node_file) > 0:\n",
    "        curr_nodes = pd.read_table(node_file, header=None).iloc[:,0].tolist()\n",
    "    else:\n",
    "        curr_nodes = []\n",
    "    # add the new nodes, remove duplicates, and sort\n",
    "    curr_nodes = curr_nodes + new_nodes\n",
    "    curr_nodes = list(set(curr_nodes))\n",
    "    curr_nodes.sort()\n",
    "    # update the file\n",
    "    curr_nodes = pd.DataFrame({ 'nodes': curr_nodes })\n",
    "    curr_nodes.to_csv(node_file, header=False, index=False)"
   ]
  },
  {
   "cell_type": "code",
   "execution_count": 259,
   "metadata": {},
   "outputs": [],
   "source": [
    "def store_df(df, file):\n",
    "    df.to_csv(file, header=True, index=False)"
   ]
  },
  {
   "cell_type": "code",
   "execution_count": 3,
   "metadata": {},
   "outputs": [],
   "source": [
    "# dataset paths\n",
    "# drug central\n",
    "dc_path = 'raw-dataset/drugcentral-drug_indications.tsv'\n",
    "# stitch\n",
    "st_path = 'raw-dataset/stitch-9606.actions.tsv'"
   ]
  },
  {
   "cell_type": "markdown",
   "metadata": {},
   "source": [
    "## Drug Central"
   ]
  },
  {
   "cell_type": "code",
   "execution_count": 5,
   "metadata": {},
   "outputs": [
    {
     "data": {
      "text/html": [
       "<div>\n",
       "<style scoped>\n",
       "    .dataframe tbody tr th:only-of-type {\n",
       "        vertical-align: middle;\n",
       "    }\n",
       "\n",
       "    .dataframe tbody tr th {\n",
       "        vertical-align: top;\n",
       "    }\n",
       "\n",
       "    .dataframe thead th {\n",
       "        text-align: right;\n",
       "    }\n",
       "</style>\n",
       "<table border=\"1\" class=\"dataframe\">\n",
       "  <thead>\n",
       "    <tr style=\"text-align: right;\">\n",
       "      <th></th>\n",
       "      <th>DRUG_ID</th>\n",
       "      <th>DRUG_NAME</th>\n",
       "      <th>INDICATION_FDB</th>\n",
       "      <th>UMLS_CUI</th>\n",
       "      <th>SNOMEDCT_CUI</th>\n",
       "      <th>DOID</th>\n",
       "    </tr>\n",
       "  </thead>\n",
       "  <tbody>\n",
       "    <tr>\n",
       "      <th>0</th>\n",
       "      <td>965</td>\n",
       "      <td>drostanolone propionate</td>\n",
       "      <td>Malignant tumor of breast</td>\n",
       "      <td>C0006142</td>\n",
       "      <td>254837009.0</td>\n",
       "      <td>DOID:1612</td>\n",
       "    </tr>\n",
       "    <tr>\n",
       "      <th>1</th>\n",
       "      <td>318</td>\n",
       "      <td>benzbromarone</td>\n",
       "      <td>Gout</td>\n",
       "      <td>C0018099</td>\n",
       "      <td>90560007.0</td>\n",
       "      <td>DOID:13189</td>\n",
       "    </tr>\n",
       "    <tr>\n",
       "      <th>2</th>\n",
       "      <td>318</td>\n",
       "      <td>benzbromarone</td>\n",
       "      <td>Hyperuricemia</td>\n",
       "      <td>C0740394</td>\n",
       "      <td>35885006.0</td>\n",
       "      <td>DOID:1920</td>\n",
       "    </tr>\n",
       "    <tr>\n",
       "      <th>3</th>\n",
       "      <td>1031</td>\n",
       "      <td>epitizide</td>\n",
       "      <td>Hypertensive disorder</td>\n",
       "      <td>C0020538</td>\n",
       "      <td>38341003.0</td>\n",
       "      <td>DOID:10763</td>\n",
       "    </tr>\n",
       "    <tr>\n",
       "      <th>4</th>\n",
       "      <td>3578</td>\n",
       "      <td>tafenoquine</td>\n",
       "      <td>Malaria</td>\n",
       "      <td>C0024530</td>\n",
       "      <td>61462000.0</td>\n",
       "      <td>DOID:12365</td>\n",
       "    </tr>\n",
       "  </tbody>\n",
       "</table>\n",
       "</div>"
      ],
      "text/plain": [
       "   DRUG_ID                DRUG_NAME             INDICATION_FDB  UMLS_CUI  \\\n",
       "0      965  drostanolone propionate  Malignant tumor of breast  C0006142   \n",
       "1      318            benzbromarone                       Gout  C0018099   \n",
       "2      318            benzbromarone              Hyperuricemia  C0740394   \n",
       "3     1031                epitizide      Hypertensive disorder  C0020538   \n",
       "4     3578              tafenoquine                    Malaria  C0024530   \n",
       "\n",
       "   SNOMEDCT_CUI        DOID  \n",
       "0   254837009.0   DOID:1612  \n",
       "1    90560007.0  DOID:13189  \n",
       "2    35885006.0   DOID:1920  \n",
       "3    38341003.0  DOID:10763  \n",
       "4    61462000.0  DOID:12365  "
      ]
     },
     "execution_count": 5,
     "metadata": {},
     "output_type": "execute_result"
    }
   ],
   "source": [
    "# grab drugs and diseases from drug central\n",
    "dc = pd.read_table(dc_path)\n",
    "dc.head()"
   ]
  },
  {
   "cell_type": "code",
   "execution_count": 42,
   "metadata": {},
   "outputs": [
    {
     "data": {
      "text/plain": [
       "747                            Systemic Dermatomyositis\n",
       "761                               Otitis Externa Eczema\n",
       "766       Osteoarthritis in Patients at High Ulcer Risk\n",
       "772      Post-Op Gynecological Infection due to E. Coli\n",
       "781                   Bronchospasm Prevention with COPD\n",
       "                              ...                      \n",
       "10352        Maintenance of Healing Erosive Esophagitis\n",
       "10355                   Duodenal Ulcer due to H. Pylori\n",
       "10356                 Gastric Hypersecretory Conditions\n",
       "10357     Pathological Gastric Hypersecretory Condition\n",
       "10363                  Myocardial Infarction Prevention\n",
       "Name: INDICATION_FDB, Length: 2489, dtype: object"
      ]
     },
     "execution_count": 42,
     "metadata": {},
     "output_type": "execute_result"
    }
   ],
   "source": [
    "dc['INDICATION_FDB'][dc.isna()['UMLS_CUI']]"
   ]
  },
  {
   "cell_type": "markdown",
   "metadata": {},
   "source": [
    "### Remove NAs"
   ]
  },
  {
   "cell_type": "code",
   "execution_count": 45,
   "metadata": {},
   "outputs": [],
   "source": [
    "# remove dc rows with invalid UMLS_CUI\n",
    "dc = dc.dropna(subset=['UMLS_CUI'])"
   ]
  },
  {
   "cell_type": "code",
   "execution_count": 47,
   "metadata": {},
   "outputs": [
    {
     "name": "stdout",
     "output_type": "stream",
     "text": [
      "There are in total 8469 rows of drug-disease edges (valid UMLS CUI) in drug central\n"
     ]
    }
   ],
   "source": [
    "print('There are in total %d rows of drug-disease edges (valid UMLS CUI) in drug central' % (dc.shape[0]))"
   ]
  },
  {
   "cell_type": "markdown",
   "metadata": {},
   "source": [
    "### Drugs"
   ]
  },
  {
   "cell_type": "code",
   "execution_count": 48,
   "metadata": {},
   "outputs": [],
   "source": [
    "dc_drugs = dc['DRUG_NAME'].tolist()"
   ]
  },
  {
   "cell_type": "code",
   "execution_count": 78,
   "metadata": {},
   "outputs": [],
   "source": [
    "def fetch_drug_compounds(drugs):\n",
    "    drugs = list(set(drugs))\n",
    "    res = {}\n",
    "    for drug in drugs:\n",
    "        res[drug] = pcp.get_compounds(drug, 'name')\n",
    "    return(res)"
   ]
  },
  {
   "cell_type": "code",
   "execution_count": 79,
   "metadata": {},
   "outputs": [],
   "source": [
    "drugs_compounds = fetch_drug_compounds(dc_drugs)"
   ]
  },
  {
   "cell_type": "code",
   "execution_count": 96,
   "metadata": {},
   "outputs": [],
   "source": [
    "def clean_drug_compounds(drugs):\n",
    "    cleaned = {}\n",
    "    for drug in drugs:\n",
    "        if len(drugs[drug]) == 0: continue\n",
    "        compounds = [compound.cid for compound in drugs[drug]]\n",
    "        cleaned[drug] = compounds\n",
    "    return(cleaned)"
   ]
  },
  {
   "cell_type": "markdown",
   "metadata": {},
   "source": [
    "There exist some synonyms, specifically:\n",
    "\n",
    "```\n",
    "46853873 cyanocobalamin cobalamin      --> cobalamin\n",
    "12560 benzamycin erythromycin          --> erythromycin\n",
    "4594 esomeprazole omeprazole           --> omeprazole\n",
    "70683024 lipegfilgrastim pegfilgrastim --> pegfilgrastim\n",
    "9833444 pancreozymin sincalide         --> sincalide\n",
    "772 bemiparin heparin                  --> heparin\n",
    "5311507 clopenthixol zuclopenthixol    --> clopenthixol\n",
    "3083544 arformoterol formoterol        --> formoterol\n",
    "```"
   ]
  },
  {
   "cell_type": "code",
   "execution_count": 116,
   "metadata": {},
   "outputs": [],
   "source": [
    "cleaned_drugs_compounds = clean_drug_compounds(drugs_compounds)\n",
    "save_dict_file(cleaned_drugs_compounds, 'dataset/drugs.compounds')"
   ]
  },
  {
   "cell_type": "code",
   "execution_count": 233,
   "metadata": {},
   "outputs": [],
   "source": [
    "def reverse_drugs_compounds(drugs):\n",
    "    res = {}\n",
    "    dup = {}\n",
    "    for drug in drugs:\n",
    "        compounds = drugs[drug]\n",
    "        if len(compounds) > 1: dup[drug] = compounds\n",
    "        for compound in compounds:\n",
    "            if compound in res:\n",
    "                res[compound] = res[compound] + ', ' + drug\n",
    "            else: res[compound] = drug\n",
    "    return(res, dup)"
   ]
  },
  {
   "cell_type": "code",
   "execution_count": 234,
   "metadata": {},
   "outputs": [],
   "source": [
    "compounds_drugs, duplicates_drug_compounds = reverse_drugs_compounds(cleaned_drugs_compounds)"
   ]
  },
  {
   "cell_type": "markdown",
   "metadata": {},
   "source": [
    "### Diseases"
   ]
  },
  {
   "cell_type": "code",
   "execution_count": 151,
   "metadata": {},
   "outputs": [
    {
     "data": {
      "text/html": [
       "<div>\n",
       "<style scoped>\n",
       "    .dataframe tbody tr th:only-of-type {\n",
       "        vertical-align: middle;\n",
       "    }\n",
       "\n",
       "    .dataframe tbody tr th {\n",
       "        vertical-align: top;\n",
       "    }\n",
       "\n",
       "    .dataframe thead th {\n",
       "        text-align: right;\n",
       "    }\n",
       "</style>\n",
       "<table border=\"1\" class=\"dataframe\">\n",
       "  <thead>\n",
       "    <tr style=\"text-align: right;\">\n",
       "      <th></th>\n",
       "      <th>DRUG_ID</th>\n",
       "      <th>DRUG_NAME</th>\n",
       "      <th>INDICATION_FDB</th>\n",
       "      <th>UMLS_CUI</th>\n",
       "      <th>SNOMEDCT_CUI</th>\n",
       "      <th>DOID</th>\n",
       "    </tr>\n",
       "  </thead>\n",
       "  <tbody>\n",
       "    <tr>\n",
       "      <th>0</th>\n",
       "      <td>965</td>\n",
       "      <td>drostanolone propionate</td>\n",
       "      <td>Malignant tumor of breast</td>\n",
       "      <td>C0006142</td>\n",
       "      <td>254837009.0</td>\n",
       "      <td>DOID:1612</td>\n",
       "    </tr>\n",
       "    <tr>\n",
       "      <th>1</th>\n",
       "      <td>318</td>\n",
       "      <td>benzbromarone</td>\n",
       "      <td>Gout</td>\n",
       "      <td>C0018099</td>\n",
       "      <td>90560007.0</td>\n",
       "      <td>DOID:13189</td>\n",
       "    </tr>\n",
       "    <tr>\n",
       "      <th>2</th>\n",
       "      <td>318</td>\n",
       "      <td>benzbromarone</td>\n",
       "      <td>Hyperuricemia</td>\n",
       "      <td>C0740394</td>\n",
       "      <td>35885006.0</td>\n",
       "      <td>DOID:1920</td>\n",
       "    </tr>\n",
       "    <tr>\n",
       "      <th>3</th>\n",
       "      <td>1031</td>\n",
       "      <td>epitizide</td>\n",
       "      <td>Hypertensive disorder</td>\n",
       "      <td>C0020538</td>\n",
       "      <td>38341003.0</td>\n",
       "      <td>DOID:10763</td>\n",
       "    </tr>\n",
       "    <tr>\n",
       "      <th>4</th>\n",
       "      <td>3578</td>\n",
       "      <td>tafenoquine</td>\n",
       "      <td>Malaria</td>\n",
       "      <td>C0024530</td>\n",
       "      <td>61462000.0</td>\n",
       "      <td>DOID:12365</td>\n",
       "    </tr>\n",
       "  </tbody>\n",
       "</table>\n",
       "</div>"
      ],
      "text/plain": [
       "   DRUG_ID                DRUG_NAME             INDICATION_FDB  UMLS_CUI  \\\n",
       "0      965  drostanolone propionate  Malignant tumor of breast  C0006142   \n",
       "1      318            benzbromarone                       Gout  C0018099   \n",
       "2      318            benzbromarone              Hyperuricemia  C0740394   \n",
       "3     1031                epitizide      Hypertensive disorder  C0020538   \n",
       "4     3578              tafenoquine                    Malaria  C0024530   \n",
       "\n",
       "   SNOMEDCT_CUI        DOID  \n",
       "0   254837009.0   DOID:1612  \n",
       "1    90560007.0  DOID:13189  \n",
       "2    35885006.0   DOID:1920  \n",
       "3    38341003.0  DOID:10763  \n",
       "4    61462000.0  DOID:12365  "
      ]
     },
     "execution_count": 151,
     "metadata": {},
     "output_type": "execute_result"
    }
   ],
   "source": [
    "dc = dc[dc['DRUG_NAME'].isin(cleaned_drugs_compounds.keys())]\n",
    "dc.head()"
   ]
  },
  {
   "cell_type": "code",
   "execution_count": 143,
   "metadata": {},
   "outputs": [],
   "source": [
    "# filter diseases by the available drugs\n",
    "dc_diseases = dc[dc['DRUG_NAME'].isin(cleaned_drugs_compounds.keys())]['UMLS_CUI'].tolist()"
   ]
  },
  {
   "cell_type": "code",
   "execution_count": 145,
   "metadata": {},
   "outputs": [],
   "source": [
    "update_node_file(dc_diseases)"
   ]
  },
  {
   "cell_type": "markdown",
   "metadata": {},
   "source": [
    "## STITCH"
   ]
  },
  {
   "cell_type": "code",
   "execution_count": 214,
   "metadata": {
    "scrolled": true
   },
   "outputs": [
    {
     "data": {
      "text/html": [
       "<div>\n",
       "<style scoped>\n",
       "    .dataframe tbody tr th:only-of-type {\n",
       "        vertical-align: middle;\n",
       "    }\n",
       "\n",
       "    .dataframe tbody tr th {\n",
       "        vertical-align: top;\n",
       "    }\n",
       "\n",
       "    .dataframe thead th {\n",
       "        text-align: right;\n",
       "    }\n",
       "</style>\n",
       "<table border=\"1\" class=\"dataframe\">\n",
       "  <thead>\n",
       "    <tr style=\"text-align: right;\">\n",
       "      <th></th>\n",
       "      <th>item_id_a</th>\n",
       "      <th>item_id_b</th>\n",
       "      <th>mode</th>\n",
       "      <th>action</th>\n",
       "      <th>a_is_acting</th>\n",
       "      <th>score</th>\n",
       "    </tr>\n",
       "  </thead>\n",
       "  <tbody>\n",
       "    <tr>\n",
       "      <th>0</th>\n",
       "      <td>9606.ENSP00000170630</td>\n",
       "      <td>CIDm00010461</td>\n",
       "      <td>expression</td>\n",
       "      <td>NaN</td>\n",
       "      <td>f</td>\n",
       "      <td>150</td>\n",
       "    </tr>\n",
       "    <tr>\n",
       "      <th>1</th>\n",
       "      <td>CIDm00010461</td>\n",
       "      <td>9606.ENSP00000170630</td>\n",
       "      <td>expression</td>\n",
       "      <td>NaN</td>\n",
       "      <td>t</td>\n",
       "      <td>150</td>\n",
       "    </tr>\n",
       "    <tr>\n",
       "      <th>2</th>\n",
       "      <td>9606.ENSP00000353915</td>\n",
       "      <td>CIDs23627457</td>\n",
       "      <td>binding</td>\n",
       "      <td>NaN</td>\n",
       "      <td>f</td>\n",
       "      <td>191</td>\n",
       "    </tr>\n",
       "    <tr>\n",
       "      <th>3</th>\n",
       "      <td>CIDs23627457</td>\n",
       "      <td>9606.ENSP00000353915</td>\n",
       "      <td>binding</td>\n",
       "      <td>NaN</td>\n",
       "      <td>f</td>\n",
       "      <td>191</td>\n",
       "    </tr>\n",
       "    <tr>\n",
       "      <th>4</th>\n",
       "      <td>9606.ENSP00000256906</td>\n",
       "      <td>CIDs44408029</td>\n",
       "      <td>binding</td>\n",
       "      <td>NaN</td>\n",
       "      <td>f</td>\n",
       "      <td>521</td>\n",
       "    </tr>\n",
       "  </tbody>\n",
       "</table>\n",
       "</div>"
      ],
      "text/plain": [
       "              item_id_a             item_id_b        mode action a_is_acting  \\\n",
       "0  9606.ENSP00000170630          CIDm00010461  expression    NaN           f   \n",
       "1          CIDm00010461  9606.ENSP00000170630  expression    NaN           t   \n",
       "2  9606.ENSP00000353915          CIDs23627457     binding    NaN           f   \n",
       "3          CIDs23627457  9606.ENSP00000353915     binding    NaN           f   \n",
       "4  9606.ENSP00000256906          CIDs44408029     binding    NaN           f   \n",
       "\n",
       "   score  \n",
       "0    150  \n",
       "1    150  \n",
       "2    191  \n",
       "3    191  \n",
       "4    521  "
      ]
     },
     "execution_count": 214,
     "metadata": {},
     "output_type": "execute_result"
    }
   ],
   "source": [
    "st = pd.read_table(st_path)\n",
    "st.head()"
   ]
  },
  {
   "cell_type": "code",
   "execution_count": 215,
   "metadata": {},
   "outputs": [
    {
     "data": {
      "text/plain": [
       "(21773491, 6)"
      ]
     },
     "execution_count": 215,
     "metadata": {},
     "output_type": "execute_result"
    }
   ],
   "source": [
    "st.shape"
   ]
  },
  {
   "cell_type": "code",
   "execution_count": 216,
   "metadata": {},
   "outputs": [
    {
     "data": {
      "text/plain": [
       "(18745253, 6)"
      ]
     },
     "execution_count": 216,
     "metadata": {},
     "output_type": "execute_result"
    }
   ],
   "source": [
    "modes = ['activation', 'binding', 'catalysis', 'inhibition', 'reaction']\n",
    "st = st[st['mode'].str.contains('|'.join(modes), na=False)]\n",
    "st.shape"
   ]
  },
  {
   "cell_type": "code",
   "execution_count": 217,
   "metadata": {},
   "outputs": [],
   "source": [
    "# filter s.t. item_a contains compounds\n",
    "st = st[st['item_id_a'].str.contains('CID')]"
   ]
  },
  {
   "cell_type": "code",
   "execution_count": 218,
   "metadata": {},
   "outputs": [
    {
     "data": {
      "text/plain": [
       "(9458945, 6)"
      ]
     },
     "execution_count": 218,
     "metadata": {},
     "output_type": "execute_result"
    }
   ],
   "source": [
    "st.shape"
   ]
  },
  {
   "cell_type": "code",
   "execution_count": 219,
   "metadata": {},
   "outputs": [
    {
     "data": {
      "text/html": [
       "<div>\n",
       "<style scoped>\n",
       "    .dataframe tbody tr th:only-of-type {\n",
       "        vertical-align: middle;\n",
       "    }\n",
       "\n",
       "    .dataframe tbody tr th {\n",
       "        vertical-align: top;\n",
       "    }\n",
       "\n",
       "    .dataframe thead th {\n",
       "        text-align: right;\n",
       "    }\n",
       "</style>\n",
       "<table border=\"1\" class=\"dataframe\">\n",
       "  <thead>\n",
       "    <tr style=\"text-align: right;\">\n",
       "      <th></th>\n",
       "      <th>item_id_a</th>\n",
       "      <th>item_id_b</th>\n",
       "      <th>mode</th>\n",
       "      <th>action</th>\n",
       "      <th>a_is_acting</th>\n",
       "      <th>score</th>\n",
       "    </tr>\n",
       "  </thead>\n",
       "  <tbody>\n",
       "    <tr>\n",
       "      <th>3</th>\n",
       "      <td>CIDs23627457</td>\n",
       "      <td>9606.ENSP00000353915</td>\n",
       "      <td>binding</td>\n",
       "      <td>NaN</td>\n",
       "      <td>f</td>\n",
       "      <td>191</td>\n",
       "    </tr>\n",
       "    <tr>\n",
       "      <th>5</th>\n",
       "      <td>CIDs44408029</td>\n",
       "      <td>9606.ENSP00000256906</td>\n",
       "      <td>binding</td>\n",
       "      <td>NaN</td>\n",
       "      <td>f</td>\n",
       "      <td>521</td>\n",
       "    </tr>\n",
       "    <tr>\n",
       "      <th>9</th>\n",
       "      <td>CIDs23590374</td>\n",
       "      <td>9606.ENSP00000267377</td>\n",
       "      <td>binding</td>\n",
       "      <td>NaN</td>\n",
       "      <td>f</td>\n",
       "      <td>159</td>\n",
       "    </tr>\n",
       "    <tr>\n",
       "      <th>13</th>\n",
       "      <td>CIDs73351473</td>\n",
       "      <td>9606.ENSP00000295589</td>\n",
       "      <td>binding</td>\n",
       "      <td>NaN</td>\n",
       "      <td>f</td>\n",
       "      <td>407</td>\n",
       "    </tr>\n",
       "    <tr>\n",
       "      <th>17</th>\n",
       "      <td>CIDs10666045</td>\n",
       "      <td>9606.ENSP00000336630</td>\n",
       "      <td>binding</td>\n",
       "      <td>NaN</td>\n",
       "      <td>f</td>\n",
       "      <td>209</td>\n",
       "    </tr>\n",
       "  </tbody>\n",
       "</table>\n",
       "</div>"
      ],
      "text/plain": [
       "       item_id_a             item_id_b     mode action a_is_acting  score\n",
       "3   CIDs23627457  9606.ENSP00000353915  binding    NaN           f    191\n",
       "5   CIDs44408029  9606.ENSP00000256906  binding    NaN           f    521\n",
       "9   CIDs23590374  9606.ENSP00000267377  binding    NaN           f    159\n",
       "13  CIDs73351473  9606.ENSP00000295589  binding    NaN           f    407\n",
       "17  CIDs10666045  9606.ENSP00000336630  binding    NaN           f    209"
      ]
     },
     "execution_count": 219,
     "metadata": {},
     "output_type": "execute_result"
    }
   ],
   "source": [
    "st.head()"
   ]
  },
  {
   "cell_type": "markdown",
   "metadata": {},
   "source": [
    "### Filter compounds"
   ]
  },
  {
   "cell_type": "code",
   "execution_count": 220,
   "metadata": {},
   "outputs": [],
   "source": [
    "st_compounds = [int(compound[4:]) for compound in st['item_id_a'].tolist()]"
   ]
  },
  {
   "cell_type": "code",
   "execution_count": 221,
   "metadata": {},
   "outputs": [],
   "source": [
    "st['compound_id'] = st_compounds"
   ]
  },
  {
   "cell_type": "code",
   "execution_count": 222,
   "metadata": {},
   "outputs": [
    {
     "data": {
      "text/html": [
       "<div>\n",
       "<style scoped>\n",
       "    .dataframe tbody tr th:only-of-type {\n",
       "        vertical-align: middle;\n",
       "    }\n",
       "\n",
       "    .dataframe tbody tr th {\n",
       "        vertical-align: top;\n",
       "    }\n",
       "\n",
       "    .dataframe thead th {\n",
       "        text-align: right;\n",
       "    }\n",
       "</style>\n",
       "<table border=\"1\" class=\"dataframe\">\n",
       "  <thead>\n",
       "    <tr style=\"text-align: right;\">\n",
       "      <th></th>\n",
       "      <th>item_id_a</th>\n",
       "      <th>item_id_b</th>\n",
       "      <th>mode</th>\n",
       "      <th>action</th>\n",
       "      <th>a_is_acting</th>\n",
       "      <th>score</th>\n",
       "      <th>compound_id</th>\n",
       "    </tr>\n",
       "  </thead>\n",
       "  <tbody>\n",
       "    <tr>\n",
       "      <th>3</th>\n",
       "      <td>CIDs23627457</td>\n",
       "      <td>9606.ENSP00000353915</td>\n",
       "      <td>binding</td>\n",
       "      <td>NaN</td>\n",
       "      <td>f</td>\n",
       "      <td>191</td>\n",
       "      <td>23627457</td>\n",
       "    </tr>\n",
       "    <tr>\n",
       "      <th>5</th>\n",
       "      <td>CIDs44408029</td>\n",
       "      <td>9606.ENSP00000256906</td>\n",
       "      <td>binding</td>\n",
       "      <td>NaN</td>\n",
       "      <td>f</td>\n",
       "      <td>521</td>\n",
       "      <td>44408029</td>\n",
       "    </tr>\n",
       "    <tr>\n",
       "      <th>9</th>\n",
       "      <td>CIDs23590374</td>\n",
       "      <td>9606.ENSP00000267377</td>\n",
       "      <td>binding</td>\n",
       "      <td>NaN</td>\n",
       "      <td>f</td>\n",
       "      <td>159</td>\n",
       "      <td>23590374</td>\n",
       "    </tr>\n",
       "    <tr>\n",
       "      <th>13</th>\n",
       "      <td>CIDs73351473</td>\n",
       "      <td>9606.ENSP00000295589</td>\n",
       "      <td>binding</td>\n",
       "      <td>NaN</td>\n",
       "      <td>f</td>\n",
       "      <td>407</td>\n",
       "      <td>73351473</td>\n",
       "    </tr>\n",
       "    <tr>\n",
       "      <th>17</th>\n",
       "      <td>CIDs10666045</td>\n",
       "      <td>9606.ENSP00000336630</td>\n",
       "      <td>binding</td>\n",
       "      <td>NaN</td>\n",
       "      <td>f</td>\n",
       "      <td>209</td>\n",
       "      <td>10666045</td>\n",
       "    </tr>\n",
       "  </tbody>\n",
       "</table>\n",
       "</div>"
      ],
      "text/plain": [
       "       item_id_a             item_id_b     mode action a_is_acting  score  \\\n",
       "3   CIDs23627457  9606.ENSP00000353915  binding    NaN           f    191   \n",
       "5   CIDs44408029  9606.ENSP00000256906  binding    NaN           f    521   \n",
       "9   CIDs23590374  9606.ENSP00000267377  binding    NaN           f    159   \n",
       "13  CIDs73351473  9606.ENSP00000295589  binding    NaN           f    407   \n",
       "17  CIDs10666045  9606.ENSP00000336630  binding    NaN           f    209   \n",
       "\n",
       "    compound_id  \n",
       "3      23627457  \n",
       "5      44408029  \n",
       "9      23590374  \n",
       "13     73351473  \n",
       "17     10666045  "
      ]
     },
     "execution_count": 222,
     "metadata": {},
     "output_type": "execute_result"
    }
   ],
   "source": [
    "st.head()"
   ]
  },
  {
   "cell_type": "code",
   "execution_count": 223,
   "metadata": {},
   "outputs": [],
   "source": [
    "# filter by the compounds found in drug central\n",
    "st = st[st['compound_id'].isin(compounds_drugs.keys())]"
   ]
  },
  {
   "cell_type": "code",
   "execution_count": 173,
   "metadata": {},
   "outputs": [],
   "source": [
    "genes = [gene[5:] for gene in st['item_id_b'].tolist()]"
   ]
  },
  {
   "cell_type": "code",
   "execution_count": 176,
   "metadata": {},
   "outputs": [],
   "source": [
    "cleaned_genes = list(set(genes))"
   ]
  },
  {
   "cell_type": "code",
   "execution_count": 179,
   "metadata": {},
   "outputs": [],
   "source": [
    "with open('raw-dataset/stitch-genes', 'w') as file:\n",
    "    for gene in cleaned_genes:\n",
    "        file.write(gene + '\\n')"
   ]
  },
  {
   "cell_type": "markdown",
   "metadata": {},
   "source": [
    "### Gene conversion"
   ]
  },
  {
   "cell_type": "code",
   "execution_count": 181,
   "metadata": {},
   "outputs": [
    {
     "data": {
      "text/html": [
       "<div>\n",
       "<style scoped>\n",
       "    .dataframe tbody tr th:only-of-type {\n",
       "        vertical-align: middle;\n",
       "    }\n",
       "\n",
       "    .dataframe tbody tr th {\n",
       "        vertical-align: top;\n",
       "    }\n",
       "\n",
       "    .dataframe thead th {\n",
       "        text-align: right;\n",
       "    }\n",
       "</style>\n",
       "<table border=\"1\" class=\"dataframe\">\n",
       "  <thead>\n",
       "    <tr style=\"text-align: right;\">\n",
       "      <th></th>\n",
       "      <th>initial_alias</th>\n",
       "      <th>converted_alias</th>\n",
       "      <th>name</th>\n",
       "      <th>description</th>\n",
       "      <th>namespace</th>\n",
       "    </tr>\n",
       "  </thead>\n",
       "  <tbody>\n",
       "    <tr>\n",
       "      <th>0</th>\n",
       "      <td>ENSP00000314992</td>\n",
       "      <td>ENSG00000180245</td>\n",
       "      <td>RRH</td>\n",
       "      <td>retinal pigment epithelium-derived rhodopsin h...</td>\n",
       "      <td>ENSP</td>\n",
       "    </tr>\n",
       "    <tr>\n",
       "      <th>1</th>\n",
       "      <td>ENSP00000230122</td>\n",
       "      <td>ENSG00000112365</td>\n",
       "      <td>ZBTB24</td>\n",
       "      <td>zinc finger and BTB domain containing 24 [Sour...</td>\n",
       "      <td>ENSP</td>\n",
       "    </tr>\n",
       "    <tr>\n",
       "      <th>2</th>\n",
       "      <td>ENSP00000357591</td>\n",
       "      <td>ENSG00000173626</td>\n",
       "      <td>TRAPPC3L</td>\n",
       "      <td>trafficking protein particle complex 3 like [S...</td>\n",
       "      <td>ENSP</td>\n",
       "    </tr>\n",
       "    <tr>\n",
       "      <th>3</th>\n",
       "      <td>ENSP00000368552</td>\n",
       "      <td>ENSG00000124523</td>\n",
       "      <td>SIRT5</td>\n",
       "      <td>sirtuin 5 [Source:HGNC Symbol;Acc:HGNC:14933]</td>\n",
       "      <td>ENSP</td>\n",
       "    </tr>\n",
       "    <tr>\n",
       "      <th>4</th>\n",
       "      <td>ENSP00000261845</td>\n",
       "      <td>ENSG00000069956</td>\n",
       "      <td>MAPK6</td>\n",
       "      <td>mitogen-activated protein kinase 6 [Source:HGN...</td>\n",
       "      <td>ENSP</td>\n",
       "    </tr>\n",
       "  </tbody>\n",
       "</table>\n",
       "</div>"
      ],
      "text/plain": [
       "     initial_alias  converted_alias      name  \\\n",
       "0  ENSP00000314992  ENSG00000180245       RRH   \n",
       "1  ENSP00000230122  ENSG00000112365    ZBTB24   \n",
       "2  ENSP00000357591  ENSG00000173626  TRAPPC3L   \n",
       "3  ENSP00000368552  ENSG00000124523     SIRT5   \n",
       "4  ENSP00000261845  ENSG00000069956     MAPK6   \n",
       "\n",
       "                                         description namespace  \n",
       "0  retinal pigment epithelium-derived rhodopsin h...      ENSP  \n",
       "1  zinc finger and BTB domain containing 24 [Sour...      ENSP  \n",
       "2  trafficking protein particle complex 3 like [S...      ENSP  \n",
       "3      sirtuin 5 [Source:HGNC Symbol;Acc:HGNC:14933]      ENSP  \n",
       "4  mitogen-activated protein kinase 6 [Source:HGN...      ENSP  "
      ]
     },
     "execution_count": 181,
     "metadata": {},
     "output_type": "execute_result"
    }
   ],
   "source": [
    "gene_path = 'raw-dataset/stitch-genes_conversion.csv'\n",
    "genes_alias = pd.read_csv(gene_path)\n",
    "genes_alias.head()"
   ]
  },
  {
   "cell_type": "code",
   "execution_count": 190,
   "metadata": {},
   "outputs": [
    {
     "data": {
      "text/plain": [
       "(8325, 5)"
      ]
     },
     "execution_count": 190,
     "metadata": {},
     "output_type": "execute_result"
    }
   ],
   "source": [
    "genes_alias = genes_alias[genes_alias['name'] != 'None']\n",
    "genes_alias.shape"
   ]
  },
  {
   "cell_type": "code",
   "execution_count": 192,
   "metadata": {},
   "outputs": [
    {
     "name": "stdout",
     "output_type": "stream",
     "text": [
      "8325 8325\n"
     ]
    }
   ],
   "source": [
    "genes_alias_init = genes_alias['initial_alias'].tolist()\n",
    "genes_alias_name = genes_alias['name'].tolist()\n",
    "print(len(genes_alias_init), len(genes_alias_name))"
   ]
  },
  {
   "cell_type": "code",
   "execution_count": 193,
   "metadata": {},
   "outputs": [],
   "source": [
    "genes_conversion = {genes_alias_init[i]: genes_alias_name[i] for i in range(len(genes_alias_init))}"
   ]
  },
  {
   "cell_type": "markdown",
   "metadata": {},
   "source": [
    "Note, multiple ENSPs can be mapped into the same gene name:\n",
    "\n",
    "```\n",
    "RTEL1 ENSP00000359035 ENSP00000457868\n",
    "IFNA6 ENSP00000369558 ENSP00000259555\n",
    "TRPV1 ENSP00000382659 ENSP00000459962\n",
    "SHOX2 ENSP00000398704 ENSP00000419362\n",
    "```"
   ]
  },
  {
   "cell_type": "code",
   "execution_count": 198,
   "metadata": {},
   "outputs": [],
   "source": [
    "update_node_file(list(set(genes_alias_name)), 'dataset/genes.nodes')"
   ]
  },
  {
   "cell_type": "markdown",
   "metadata": {},
   "source": [
    "### Update the main STITCH dataframe"
   ]
  },
  {
   "cell_type": "code",
   "execution_count": 202,
   "metadata": {},
   "outputs": [],
   "source": [
    "genes = [genes_conversion[gene[5:]] if gene[5:] in genes_conversion else None\\\n",
    "         for gene in st['item_id_b'].tolist()]"
   ]
  },
  {
   "cell_type": "code",
   "execution_count": 224,
   "metadata": {},
   "outputs": [],
   "source": [
    "st['gene_names'] = genes"
   ]
  },
  {
   "cell_type": "code",
   "execution_count": 225,
   "metadata": {},
   "outputs": [
    {
     "data": {
      "text/plain": [
       "(182310, 8)"
      ]
     },
     "execution_count": 225,
     "metadata": {},
     "output_type": "execute_result"
    }
   ],
   "source": [
    "st = st.dropna(subset=['gene_names'])\n",
    "st.shape"
   ]
  },
  {
   "cell_type": "code",
   "execution_count": 227,
   "metadata": {
    "scrolled": true
   },
   "outputs": [
    {
     "data": {
      "text/html": [
       "<div>\n",
       "<style scoped>\n",
       "    .dataframe tbody tr th:only-of-type {\n",
       "        vertical-align: middle;\n",
       "    }\n",
       "\n",
       "    .dataframe tbody tr th {\n",
       "        vertical-align: top;\n",
       "    }\n",
       "\n",
       "    .dataframe thead th {\n",
       "        text-align: right;\n",
       "    }\n",
       "</style>\n",
       "<table border=\"1\" class=\"dataframe\">\n",
       "  <thead>\n",
       "    <tr style=\"text-align: right;\">\n",
       "      <th></th>\n",
       "      <th>compound_id</th>\n",
       "      <th>gene_names</th>\n",
       "      <th>mode</th>\n",
       "    </tr>\n",
       "  </thead>\n",
       "  <tbody>\n",
       "    <tr>\n",
       "      <th>145</th>\n",
       "      <td>4768</td>\n",
       "      <td>LTB4R</td>\n",
       "      <td>binding</td>\n",
       "    </tr>\n",
       "    <tr>\n",
       "      <th>242</th>\n",
       "      <td>5709</td>\n",
       "      <td>CCKBR</td>\n",
       "      <td>binding</td>\n",
       "    </tr>\n",
       "    <tr>\n",
       "      <th>284</th>\n",
       "      <td>21800</td>\n",
       "      <td>PPARA</td>\n",
       "      <td>binding</td>\n",
       "    </tr>\n",
       "    <tr>\n",
       "      <th>482</th>\n",
       "      <td>3878</td>\n",
       "      <td>TMPRSS7</td>\n",
       "      <td>inhibition</td>\n",
       "    </tr>\n",
       "    <tr>\n",
       "      <th>492</th>\n",
       "      <td>5361092</td>\n",
       "      <td>OPRK1</td>\n",
       "      <td>binding</td>\n",
       "    </tr>\n",
       "    <tr>\n",
       "      <th>...</th>\n",
       "      <td>...</td>\n",
       "      <td>...</td>\n",
       "      <td>...</td>\n",
       "    </tr>\n",
       "    <tr>\n",
       "      <th>21772695</th>\n",
       "      <td>753</td>\n",
       "      <td>CD8A</td>\n",
       "      <td>binding</td>\n",
       "    </tr>\n",
       "    <tr>\n",
       "      <th>21772853</th>\n",
       "      <td>4893</td>\n",
       "      <td>GPR63</td>\n",
       "      <td>binding</td>\n",
       "    </tr>\n",
       "    <tr>\n",
       "      <th>21772982</th>\n",
       "      <td>753</td>\n",
       "      <td>RGPD3</td>\n",
       "      <td>binding</td>\n",
       "    </tr>\n",
       "    <tr>\n",
       "      <th>21773316</th>\n",
       "      <td>8966</td>\n",
       "      <td>NPY4R</td>\n",
       "      <td>binding</td>\n",
       "    </tr>\n",
       "    <tr>\n",
       "      <th>21773480</th>\n",
       "      <td>9829523</td>\n",
       "      <td>HMOX1</td>\n",
       "      <td>inhibition</td>\n",
       "    </tr>\n",
       "  </tbody>\n",
       "</table>\n",
       "<p>182310 rows × 3 columns</p>\n",
       "</div>"
      ],
      "text/plain": [
       "          compound_id gene_names        mode\n",
       "145              4768      LTB4R     binding\n",
       "242              5709      CCKBR     binding\n",
       "284             21800      PPARA     binding\n",
       "482              3878    TMPRSS7  inhibition\n",
       "492           5361092      OPRK1     binding\n",
       "...               ...        ...         ...\n",
       "21772695          753       CD8A     binding\n",
       "21772853         4893      GPR63     binding\n",
       "21772982          753      RGPD3     binding\n",
       "21773316         8966      NPY4R     binding\n",
       "21773480      9829523      HMOX1  inhibition\n",
       "\n",
       "[182310 rows x 3 columns]"
      ]
     },
     "execution_count": 227,
     "metadata": {},
     "output_type": "execute_result"
    }
   ],
   "source": [
    "st = st[['compound_id', 'gene_names', 'mode']]\n",
    "st"
   ]
  },
  {
   "cell_type": "code",
   "execution_count": 260,
   "metadata": {},
   "outputs": [],
   "source": [
    "store_df(st, 'dataset/drug-gene-all.edges')"
   ]
  },
  {
   "cell_type": "markdown",
   "metadata": {},
   "source": [
    "## Reconcile compound IDs\n",
    "\n",
    "Which compound IDs should we use if a drug can be mapped to multiple IDs?"
   ]
  },
  {
   "cell_type": "code",
   "execution_count": 230,
   "metadata": {},
   "outputs": [],
   "source": [
    "st_compounds = st['compound_id'].tolist()"
   ]
  },
  {
   "cell_type": "code",
   "execution_count": 249,
   "metadata": {},
   "outputs": [],
   "source": [
    "found_duplicates = []\n",
    "for compound in st_compounds:\n",
    "    drug = compounds_drugs[compound]\n",
    "    if drug in duplicates_drug_compounds:\n",
    "        found_duplicates.append((drug, compound))"
   ]
  },
  {
   "cell_type": "code",
   "execution_count": 255,
   "metadata": {},
   "outputs": [
    {
     "data": {
      "text/plain": [
       "[('N-Acetyltyrosine', 68310),\n",
       " ('Polymyxin B', 4868),\n",
       " ('Vitamin E', 2116),\n",
       " ('Vitamin E', 14985),\n",
       " ('acarbose', 41774),\n",
       " ('acarbose', 441184),\n",
       " ('acarbose', 444254),\n",
       " ('acetylcarnitine', 1),\n",
       " ('alatrofloxacin', 3086677),\n",
       " ('alfacalcidol', 2091),\n",
       " ('alfacalcidol', 5282181),\n",
       " ('amphotericin B', 1972),\n",
       " ('amphotericin B', 5280965),\n",
       " ('aprotinin', 16130295),\n",
       " ('argatroban', 92721),\n",
       " ('artemisinin', 2240),\n",
       " ('artemisinin', 68827),\n",
       " ('artemisinin', 452191),\n",
       " ('artemisinin', 9838675),\n",
       " ('artenimol', 107770),\n",
       " ('artenimol', 11832956),\n",
       " ('artesunate', 65664),\n",
       " ('artesunate', 6917864),\n",
       " ('asenapine', 163091),\n",
       " ('asenapine', 3036780),\n",
       " ('asenapine', 9903970),\n",
       " ('aspartic acid', 424),\n",
       " ('aspartic acid', 5960),\n",
       " ('aspartic acid', 83887),\n",
       " ('auranofin', 6918453),\n",
       " ('aurothioglucose', 6104),\n",
       " ('avibactam', 9835049),\n",
       " ('aztreonam', 2274),\n",
       " ('aztreonam', 5742832),\n",
       " ('beclabuvir', 25016295),\n",
       " ('beraprost', 2352),\n",
       " ('beraprost', 5282428),\n",
       " ('beraprost', 6917951),\n",
       " ('betamethasone dipropionate', 21800),\n",
       " ('bleomycin', 5360373),\n",
       " ('bleomycin', 5460769),\n",
       " ('buprenorphine', 644073),\n",
       " ('calcifediol', 1593),\n",
       " ('calcifediol', 5283731),\n",
       " ('calcipotriene', 5288783),\n",
       " ('carbenoxolone', 2561),\n",
       " ('carbenoxolone', 21913),\n",
       " ('carbenoxolone', 46936354),\n",
       " ('carboprost', 5281074),\n",
       " ('caspofungin', 2826718),\n",
       " ('cefdinir', 6398970),\n",
       " ('cefdinir', 6915944),\n",
       " ('cefepime', 2622),\n",
       " ('cefepime', 5479537),\n",
       " ('cefixime', 2675),\n",
       " ('cefixime', 5362065),\n",
       " ('cefixime', 6321411),\n",
       " ('cefotaxime', 5742673),\n",
       " ('ceftazidime', 5481173),\n",
       " ('ceftizoxime', 2655),\n",
       " ('ceftizoxime', 6533629),\n",
       " ('cefuroxime', 5479529),\n",
       " ('chondroitin sulfate', 24766),\n",
       " ('chymopapain', 9001),\n",
       " ('ciclosporin', 5280754),\n",
       " ('ciclosporin', 5284373),\n",
       " ('ciclosporin', 6435893),\n",
       " ('cisapride', 2769),\n",
       " ('cisapride', 5311047),\n",
       " ('clindamycin', 2786),\n",
       " ('clindamycin', 446598),\n",
       " ('clindamycin phosphate', 32603),\n",
       " ('clindamycin phosphate', 443385),\n",
       " ('clomifene', 2800),\n",
       " ('clopenthixol', 5372683),\n",
       " ('cobalamin', 5460183),\n",
       " ('colistin', 5311054),\n",
       " ('cyanocobalamin', 5460135),\n",
       " ('cysteine', 594),\n",
       " ('cysteine', 5862),\n",
       " ('cysteine', 92851),\n",
       " ('cytisine', 10235),\n",
       " ('dalfopristin', 5366),\n",
       " ('dalfopristin', 6323289),\n",
       " ('desmopressin', 27991),\n",
       " ('desmopressin', 5311065),\n",
       " ('desmopressin', 16051933),\n",
       " ('dihydrotachysterol', 3070),\n",
       " ('dihydrotachysterol', 5311071),\n",
       " ('dihydrotachysterol', 5702045),\n",
       " ('dosulepin', 3155),\n",
       " ('doxepin', 3158),\n",
       " ('doxepin', 667468),\n",
       " ('doxepin', 667477),\n",
       " ('ecallantide', 44152182),\n",
       " ('eldecalcitol', 6438982),\n",
       " ('eplerenone', 150310),\n",
       " ('eplerenone', 443872),\n",
       " ('epoprostenol', 5282411),\n",
       " ('erythromycin ethyl succinate', 3256),\n",
       " ('erythromycin ethyl succinate', 443953),\n",
       " ('esomeprazole', 9579578),\n",
       " ('etomidate', 36339),\n",
       " ('famotidine', 3325),\n",
       " ('famotidine', 5702160),\n",
       " ('felypressin', 5956),\n",
       " ('felypressin', 14257662),\n",
       " ('fludrocortisone acetate', 3370),\n",
       " ('fludrocortisone acetate', 225609),\n",
       " ('fluvastatin', 3403),\n",
       " ('fluvastatin', 446155),\n",
       " ('formoterol', 3410),\n",
       " ('fosinopril', 55891),\n",
       " ('fosinopril', 6708482),\n",
       " ('fosinopril', 9601226),\n",
       " ('gentamicin', 3467),\n",
       " ('gentamicin', 441305),\n",
       " ('granisetron', 5284566),\n",
       " ('guanabenz', 3517),\n",
       " ('guanfacine', 3519),\n",
       " ('homatropine', 3623),\n",
       " ('homatropine', 5282593),\n",
       " ('hydroxocobalamin', 24836902),\n",
       " ('hyoscyamine', 3661),\n",
       " ('hyoscyamine', 154417),\n",
       " ('hyoscyamine', 174174),\n",
       " ('iloprost', 54313),\n",
       " ('iloprost', 5311181),\n",
       " ('iloprost', 6435378),\n",
       " ('ipratropium', 3746),\n",
       " ('ipratropium', 43232),\n",
       " ('itraconazole', 3793),\n",
       " ('itraconazole', 55283),\n",
       " ('itraconazole', 6917738),\n",
       " ('ivermectin', 6321424),\n",
       " ('ketoconazole', 3823),\n",
       " ('ketoconazole', 47576),\n",
       " ('ketoconazole', 456201),\n",
       " ('liraglutide', 16134956),\n",
       " ('lubiprostone', 157920),\n",
       " ('lubiprostone', 656719),\n",
       " ('mefloquine', 4046),\n",
       " ('mefloquine', 40692),\n",
       " ('mefloquine', 456309),\n",
       " ('mefloquine', 3000506),\n",
       " ('methscopolamine', 71183),\n",
       " ('methylprednisolone acetate', 5877),\n",
       " ('methylprednisolone succinate', 16923),\n",
       " ('micafungin', 477468),\n",
       " ('nebivolol', 71301),\n",
       " ('nebivolol', 9844194),\n",
       " ('norelgestromin', 62930),\n",
       " ('norelgestromin', 13752005),\n",
       " ('norgestimate', 6540478),\n",
       " ('nystatin', 4568),\n",
       " ('nystatin', 6433272),\n",
       " ('octatropine methylbromide', 6647),\n",
       " ('octatropine methylbromide', 657201),\n",
       " ('octreotide', 448601),\n",
       " ('octreotide', 6400441),\n",
       " ('oxiconazole', 5353853),\n",
       " ('paclitaxel', 4666),\n",
       " ('paclitaxel', 36314),\n",
       " ('paclitaxel', 5352019),\n",
       " ('phendimetrazine', 12460),\n",
       " ('phendimetrazine', 30487),\n",
       " ('phenylpropanolamine', 4786),\n",
       " ('phenylpropanolamine', 10297),\n",
       " ('phenylpropanolamine', 26934),\n",
       " ('phenylpropanolamine', 162265),\n",
       " ('pimecrolimus', 3055172),\n",
       " ('pimecrolimus', 17753757),\n",
       " ('plicamycin', 163659),\n",
       " ('polaprezinc', 439224),\n",
       " ('quinidine', 1065),\n",
       " ('quinidine', 441074),\n",
       " ('reboxetine', 65856),\n",
       " ('rifaximin', 72111),\n",
       " ('rifaximin', 6436173),\n",
       " ('ritodrine', 31728),\n",
       " ('romidepsin', 3425),\n",
       " ('romidepsin', 5352062),\n",
       " ('rosuvastatin', 446157),\n",
       " ('saxagliptin', 11243969),\n",
       " ('scopolamine', 5184),\n",
       " ('scopolamine', 5809),\n",
       " ('scopolamine', 153311),\n",
       " ('scopolamine', 3000322),\n",
       " ('scopolamine', 11968014),\n",
       " ('sennosides', 5199),\n",
       " ('sermorelin', 16129620),\n",
       " ('simeprevir', 24873435),\n",
       " ('tacrolimus', 445643),\n",
       " ('telithromycin', 73658),\n",
       " ('telithromycin', 3002190),\n",
       " ('telithromycin', 5496803),\n",
       " ('temocapril', 5393),\n",
       " ('temsirolimus', 148191),\n",
       " ('temsirolimus', 6918289),\n",
       " ('temsirolimus', 9876533),\n",
       " ('temsirolimus', 23724530),\n",
       " ('teriparatide', 16129682),\n",
       " ('thiamine', 1130),\n",
       " ('tocofersolan', 71406),\n",
       " ('tofogliflozin', 46908928),\n",
       " ('tranylcypromine', 5530),\n",
       " ('tranylcypromine', 19493),\n",
       " ('tranylcypromine', 26070),\n",
       " ('tranylcypromine', 441233),\n",
       " ('tripamide', 636401),\n",
       " ('troleandomycin', 17675),\n",
       " ('troleandomycin', 202225),\n",
       " ('trospium', 5596),\n",
       " ('tyloxapol', 8814),\n",
       " ('tyloxapol', 71388),\n",
       " ('varenicline', 170361),\n",
       " ('varenicline', 5310966),\n",
       " ('vildagliptin', 5251896),\n",
       " ('vildagliptin', 6918537),\n",
       " ('vildagliptin', 11077541),\n",
       " ('vildagliptin', 24848920),\n",
       " ('vinblastine', 13342),\n",
       " ('vincristine', 5978),\n",
       " ('vinorelbine', 5672),\n",
       " ('vinorelbine', 5311497),\n",
       " ('vinorelbine', 44424639),\n",
       " ('ximelagatran', 656635),\n",
       " ('ximelagatran', 9574101)]"
      ]
     },
     "execution_count": 255,
     "metadata": {},
     "output_type": "execute_result"
    }
   ],
   "source": [
    "found_duplicates = sorted(list(set([i for i in found_duplicates])))\n",
    "found_duplicates"
   ]
  },
  {
   "cell_type": "code",
   "execution_count": 256,
   "metadata": {},
   "outputs": [],
   "source": [
    "# re-clean the cleaned_drugs_compounds variable\n",
    "prev = '-'\n",
    "for item in found_duplicates:\n",
    "    drug = item[0]\n",
    "    if prev != drug:\n",
    "        prev = drug\n",
    "        cleaned_drugs_compounds[drug] = []\n",
    "    cleaned_drugs_compounds[drug].append(item[1])"
   ]
  },
  {
   "cell_type": "code",
   "execution_count": 269,
   "metadata": {},
   "outputs": [],
   "source": [
    "save_dict_file(cleaned_drugs_compounds, 'dataset/drugs.compounds')"
   ]
  },
  {
   "cell_type": "code",
   "execution_count": 264,
   "metadata": {},
   "outputs": [
    {
     "name": "stdout",
     "output_type": "stream",
     "text": [
      "8123 8123\n"
     ]
    }
   ],
   "source": [
    "# create all disease - drug associations\n",
    "dc_drugs = dc[dc['DRUG_NAME'].isin(cleaned_drugs_compounds.keys())]['DRUG_NAME'].tolist()\n",
    "dc_diseases = dc[dc['DRUG_NAME'].isin(cleaned_drugs_compounds.keys())]['UMLS_CUI'].tolist()\n",
    "print(len(dc_drugs), len(dc_diseases))"
   ]
  },
  {
   "cell_type": "code",
   "execution_count": 266,
   "metadata": {},
   "outputs": [],
   "source": [
    "treat_drugs = []\n",
    "treat_diseases = []\n",
    "for i, drug in enumerate(dc_drugs):\n",
    "    disease = dc_diseases[i]\n",
    "    for compound in cleaned_drugs_compounds[drug]:\n",
    "        treat_drugs.append(compound)\n",
    "        treat_diseases.append(disease)"
   ]
  },
  {
   "cell_type": "code",
   "execution_count": 270,
   "metadata": {},
   "outputs": [],
   "source": [
    "treat_df = pd.DataFrame(data={ 'compound_id': treat_drugs, 'diseases': treat_diseases })"
   ]
  },
  {
   "cell_type": "code",
   "execution_count": 272,
   "metadata": {},
   "outputs": [],
   "source": [
    "store_df(treat_df, 'dataset/drug-disease-treat.edges')"
   ]
  },
  {
   "cell_type": "code",
   "execution_count": 274,
   "metadata": {},
   "outputs": [],
   "source": [
    "update_node_file(treat_drugs, 'dataset/drugs.nodes')"
   ]
  },
  {
   "cell_type": "code",
   "execution_count": null,
   "metadata": {},
   "outputs": [],
   "source": []
  }
 ],
 "metadata": {
  "kernelspec": {
   "display_name": "hst956",
   "language": "python",
   "name": "hst956"
  },
  "language_info": {
   "codemirror_mode": {
    "name": "ipython",
    "version": 3
   },
   "file_extension": ".py",
   "mimetype": "text/x-python",
   "name": "python",
   "nbconvert_exporter": "python",
   "pygments_lexer": "ipython3",
   "version": "3.8.2"
  }
 },
 "nbformat": 4,
 "nbformat_minor": 4
}
