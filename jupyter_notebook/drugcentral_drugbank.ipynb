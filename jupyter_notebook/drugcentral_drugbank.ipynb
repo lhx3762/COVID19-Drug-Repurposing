{
 "cells": [
  {
   "cell_type": "code",
   "execution_count": 1,
   "metadata": {},
   "outputs": [],
   "source": [
    "import pandas as pd\n",
    "import numpy as np\n",
    "import os\n",
    "from collections import OrderedDict\n",
    "import json"
   ]
  },
  {
   "cell_type": "code",
   "execution_count": 2,
   "metadata": {},
   "outputs": [],
   "source": [
    "def save_dict_file(dictvar, file):\n",
    "    with open(file, 'w') as file:\n",
    "        file.write(json.dumps(dictvar))"
   ]
  },
  {
   "cell_type": "code",
   "execution_count": 3,
   "metadata": {},
   "outputs": [],
   "source": [
    "covid19_drugs = ['sapanisertib', 'rapamycin', 'zotatifin', 'verdinexor', 'chloroquine', 'dabrafenib', 'sanglifehrin a', 'fk-506', 'pevonedistat', 'tomivosertib', 'captopril', 'lisinopril', 'camostat', 'nafamostat', 'chloramphenicol', 'tigecycline', 'linezolid']"
   ]
  },
  {
   "cell_type": "code",
   "execution_count": 4,
   "metadata": {},
   "outputs": [],
   "source": [
    "def update_node_file(new_nodes, node_file='../data/clean/diseases.nodes'):\n",
    "    # grab the current existing nodes from the file\n",
    "    if os.path.getsize(node_file) > 0:\n",
    "        curr_nodes = pd.read_table(node_file, header=None).iloc[:,0].tolist()\n",
    "    else:\n",
    "        curr_nodes = []\n",
    "    # add the new nodes, remove duplicates, and sort\n",
    "    curr_nodes = curr_nodes + new_nodes\n",
    "    curr_nodes = list(set(curr_nodes))\n",
    "    curr_nodes.sort()\n",
    "    # update the file\n",
    "    curr_nodes = pd.DataFrame({ 'nodes': curr_nodes })\n",
    "    curr_nodes.to_csv(node_file, header=False, index=False)"
   ]
  },
  {
   "cell_type": "code",
   "execution_count": 5,
   "metadata": {},
   "outputs": [],
   "source": [
    "def store_df(df, file):\n",
    "    df.to_csv(file, header=True, index=False)"
   ]
  },
  {
   "cell_type": "code",
   "execution_count": 6,
   "metadata": {},
   "outputs": [],
   "source": [
    "# dataset paths\n",
    "# drug central\n",
    "dc_path = '../data/raw/drugcentral-drug_indications.tsv'\n",
    "# drug bank\n",
    "db_path_vocabs = '../data/raw/drugbank-vocab.csv'\n",
    "db_path_link_carrier   = '../data/raw/drugbank-carrier_links.csv'\n",
    "db_path_link_enzyme    = '../data/raw/drugbank-enzyme_links.csv'\n",
    "db_path_link_target    = '../data/raw/drugbank-target_links.csv'\n",
    "db_path_link_transport = '../data/raw/drugbank-transporter_links.csv'"
   ]
  },
  {
   "cell_type": "markdown",
   "metadata": {},
   "source": [
    "# CSV Exploration\n",
    "\n",
    "## DrugBank"
   ]
  },
  {
   "cell_type": "code",
   "execution_count": 7,
   "metadata": {},
   "outputs": [
    {
     "data": {
      "text/html": [
       "<div>\n",
       "<style scoped>\n",
       "    .dataframe tbody tr th:only-of-type {\n",
       "        vertical-align: middle;\n",
       "    }\n",
       "\n",
       "    .dataframe tbody tr th {\n",
       "        vertical-align: top;\n",
       "    }\n",
       "\n",
       "    .dataframe thead th {\n",
       "        text-align: right;\n",
       "    }\n",
       "</style>\n",
       "<table border=\"1\" class=\"dataframe\">\n",
       "  <thead>\n",
       "    <tr style=\"text-align: right;\">\n",
       "      <th></th>\n",
       "      <th>DrugBank ID</th>\n",
       "      <th>Accession Numbers</th>\n",
       "      <th>Common name</th>\n",
       "      <th>CAS</th>\n",
       "      <th>UNII</th>\n",
       "      <th>Synonyms</th>\n",
       "      <th>Standard InChI Key</th>\n",
       "    </tr>\n",
       "  </thead>\n",
       "  <tbody>\n",
       "    <tr>\n",
       "      <th>0</th>\n",
       "      <td>DB00001</td>\n",
       "      <td>BIOD00024 | BTD00024</td>\n",
       "      <td>Lepirudin</td>\n",
       "      <td>138068-37-8</td>\n",
       "      <td>Y43GF64R34</td>\n",
       "      <td>Hirudin variant-1 | Lepirudin recombinant</td>\n",
       "      <td>NaN</td>\n",
       "    </tr>\n",
       "    <tr>\n",
       "      <th>1</th>\n",
       "      <td>DB00002</td>\n",
       "      <td>BIOD00071 | BTD00071</td>\n",
       "      <td>Cetuximab</td>\n",
       "      <td>205923-56-4</td>\n",
       "      <td>PQX0D8J21J</td>\n",
       "      <td>Cetuximab | Cétuximab | Cetuximabum</td>\n",
       "      <td>NaN</td>\n",
       "    </tr>\n",
       "    <tr>\n",
       "      <th>2</th>\n",
       "      <td>DB00003</td>\n",
       "      <td>BIOD00001 | BTD00001</td>\n",
       "      <td>Dornase alfa</td>\n",
       "      <td>143831-71-4</td>\n",
       "      <td>953A26OA1Y</td>\n",
       "      <td>Deoxyribonuclease (human clone 18-1 protein mo...</td>\n",
       "      <td>NaN</td>\n",
       "    </tr>\n",
       "    <tr>\n",
       "      <th>3</th>\n",
       "      <td>DB00004</td>\n",
       "      <td>BIOD00084 | BTD00084</td>\n",
       "      <td>Denileukin diftitox</td>\n",
       "      <td>173146-27-5</td>\n",
       "      <td>25E79B5CTM</td>\n",
       "      <td>Denileukin | Interleukin-2/diptheria toxin fus...</td>\n",
       "      <td>NaN</td>\n",
       "    </tr>\n",
       "    <tr>\n",
       "      <th>4</th>\n",
       "      <td>DB00005</td>\n",
       "      <td>BIOD00052 | BTD00052</td>\n",
       "      <td>Etanercept</td>\n",
       "      <td>185243-69-0</td>\n",
       "      <td>OP401G7OJC</td>\n",
       "      <td>Etanercept | etanercept-szzs | etanercept-ykro...</td>\n",
       "      <td>NaN</td>\n",
       "    </tr>\n",
       "  </tbody>\n",
       "</table>\n",
       "</div>"
      ],
      "text/plain": [
       "  DrugBank ID     Accession Numbers          Common name          CAS  \\\n",
       "0     DB00001  BIOD00024 | BTD00024            Lepirudin  138068-37-8   \n",
       "1     DB00002  BIOD00071 | BTD00071            Cetuximab  205923-56-4   \n",
       "2     DB00003  BIOD00001 | BTD00001         Dornase alfa  143831-71-4   \n",
       "3     DB00004  BIOD00084 | BTD00084  Denileukin diftitox  173146-27-5   \n",
       "4     DB00005  BIOD00052 | BTD00052           Etanercept  185243-69-0   \n",
       "\n",
       "         UNII                                           Synonyms  \\\n",
       "0  Y43GF64R34          Hirudin variant-1 | Lepirudin recombinant   \n",
       "1  PQX0D8J21J                Cetuximab | Cétuximab | Cetuximabum   \n",
       "2  953A26OA1Y  Deoxyribonuclease (human clone 18-1 protein mo...   \n",
       "3  25E79B5CTM  Denileukin | Interleukin-2/diptheria toxin fus...   \n",
       "4  OP401G7OJC  Etanercept | etanercept-szzs | etanercept-ykro...   \n",
       "\n",
       "  Standard InChI Key  \n",
       "0                NaN  \n",
       "1                NaN  \n",
       "2                NaN  \n",
       "3                NaN  \n",
       "4                NaN  "
      ]
     },
     "execution_count": 7,
     "metadata": {},
     "output_type": "execute_result"
    }
   ],
   "source": [
    "db_vocab = pd.read_csv(db_path_vocabs)\n",
    "db_vocab.head()"
   ]
  },
  {
   "cell_type": "code",
   "execution_count": 8,
   "metadata": {
    "scrolled": true
   },
   "outputs": [
    {
     "data": {
      "text/html": [
       "<div>\n",
       "<style scoped>\n",
       "    .dataframe tbody tr th:only-of-type {\n",
       "        vertical-align: middle;\n",
       "    }\n",
       "\n",
       "    .dataframe tbody tr th {\n",
       "        vertical-align: top;\n",
       "    }\n",
       "\n",
       "    .dataframe thead th {\n",
       "        text-align: right;\n",
       "    }\n",
       "</style>\n",
       "<table border=\"1\" class=\"dataframe\">\n",
       "  <thead>\n",
       "    <tr style=\"text-align: right;\">\n",
       "      <th></th>\n",
       "      <th>DrugBank ID</th>\n",
       "      <th>Name</th>\n",
       "      <th>Type</th>\n",
       "      <th>UniProt ID</th>\n",
       "      <th>UniProt Name</th>\n",
       "    </tr>\n",
       "  </thead>\n",
       "  <tbody>\n",
       "    <tr>\n",
       "      <th>0</th>\n",
       "      <td>DB00023</td>\n",
       "      <td>Asparaginase Escherichia coli</td>\n",
       "      <td>BiotechDrug</td>\n",
       "      <td>P05543</td>\n",
       "      <td>Thyroxine-binding globulin</td>\n",
       "    </tr>\n",
       "    <tr>\n",
       "      <th>1</th>\n",
       "      <td>DB00059</td>\n",
       "      <td>Pegaspargase</td>\n",
       "      <td>BiotechDrug</td>\n",
       "      <td>P05543</td>\n",
       "      <td>Thyroxine-binding globulin</td>\n",
       "    </tr>\n",
       "    <tr>\n",
       "      <th>2</th>\n",
       "      <td>DB00070</td>\n",
       "      <td>Hyaluronidase (ovine)</td>\n",
       "      <td>BiotechDrug</td>\n",
       "      <td>P02768</td>\n",
       "      <td>Serum albumin</td>\n",
       "    </tr>\n",
       "    <tr>\n",
       "      <th>3</th>\n",
       "      <td>DB00126</td>\n",
       "      <td>Ascorbic acid</td>\n",
       "      <td>SmallMoleculeDrug</td>\n",
       "      <td>P02768</td>\n",
       "      <td>Serum albumin</td>\n",
       "    </tr>\n",
       "    <tr>\n",
       "      <th>4</th>\n",
       "      <td>DB00132</td>\n",
       "      <td>alpha-Linolenic acid</td>\n",
       "      <td>SmallMoleculeDrug</td>\n",
       "      <td>O15540</td>\n",
       "      <td>Fatty acid-binding protein, brain</td>\n",
       "    </tr>\n",
       "  </tbody>\n",
       "</table>\n",
       "</div>"
      ],
      "text/plain": [
       "  DrugBank ID                           Name               Type UniProt ID  \\\n",
       "0     DB00023  Asparaginase Escherichia coli        BiotechDrug     P05543   \n",
       "1     DB00059                   Pegaspargase        BiotechDrug     P05543   \n",
       "2     DB00070          Hyaluronidase (ovine)        BiotechDrug     P02768   \n",
       "3     DB00126                  Ascorbic acid  SmallMoleculeDrug     P02768   \n",
       "4     DB00132           alpha-Linolenic acid  SmallMoleculeDrug     O15540   \n",
       "\n",
       "                        UniProt Name  \n",
       "0         Thyroxine-binding globulin  \n",
       "1         Thyroxine-binding globulin  \n",
       "2                      Serum albumin  \n",
       "3                      Serum albumin  \n",
       "4  Fatty acid-binding protein, brain  "
      ]
     },
     "execution_count": 8,
     "metadata": {},
     "output_type": "execute_result"
    }
   ],
   "source": [
    "db_link_carrier = pd.read_csv(db_path_link_carrier)\n",
    "db_link_carrier.head()"
   ]
  },
  {
   "cell_type": "code",
   "execution_count": 9,
   "metadata": {},
   "outputs": [
    {
     "data": {
      "text/html": [
       "<div>\n",
       "<style scoped>\n",
       "    .dataframe tbody tr th:only-of-type {\n",
       "        vertical-align: middle;\n",
       "    }\n",
       "\n",
       "    .dataframe tbody tr th {\n",
       "        vertical-align: top;\n",
       "    }\n",
       "\n",
       "    .dataframe thead th {\n",
       "        text-align: right;\n",
       "    }\n",
       "</style>\n",
       "<table border=\"1\" class=\"dataframe\">\n",
       "  <thead>\n",
       "    <tr style=\"text-align: right;\">\n",
       "      <th></th>\n",
       "      <th>DrugBank ID</th>\n",
       "      <th>Name</th>\n",
       "      <th>Type</th>\n",
       "      <th>UniProt ID</th>\n",
       "      <th>UniProt Name</th>\n",
       "    </tr>\n",
       "  </thead>\n",
       "  <tbody>\n",
       "    <tr>\n",
       "      <th>0</th>\n",
       "      <td>DB00006</td>\n",
       "      <td>Bivalirudin</td>\n",
       "      <td>SmallMoleculeDrug</td>\n",
       "      <td>P05164</td>\n",
       "      <td>Myeloperoxidase</td>\n",
       "    </tr>\n",
       "    <tr>\n",
       "      <th>1</th>\n",
       "      <td>DB00007</td>\n",
       "      <td>Leuprolide</td>\n",
       "      <td>SmallMoleculeDrug</td>\n",
       "      <td>P08684</td>\n",
       "      <td>Cytochrome P450 3A4</td>\n",
       "    </tr>\n",
       "    <tr>\n",
       "      <th>2</th>\n",
       "      <td>DB00008</td>\n",
       "      <td>Peginterferon alfa-2a</td>\n",
       "      <td>BiotechDrug</td>\n",
       "      <td>P05177</td>\n",
       "      <td>Cytochrome P450 1A2</td>\n",
       "    </tr>\n",
       "    <tr>\n",
       "      <th>3</th>\n",
       "      <td>DB00011</td>\n",
       "      <td>Interferon alfa-n1</td>\n",
       "      <td>BiotechDrug</td>\n",
       "      <td>P05177</td>\n",
       "      <td>Cytochrome P450 1A2</td>\n",
       "    </tr>\n",
       "    <tr>\n",
       "      <th>4</th>\n",
       "      <td>DB00013</td>\n",
       "      <td>Urokinase</td>\n",
       "      <td>BiotechDrug</td>\n",
       "      <td>P39900</td>\n",
       "      <td>Macrophage metalloelastase</td>\n",
       "    </tr>\n",
       "  </tbody>\n",
       "</table>\n",
       "</div>"
      ],
      "text/plain": [
       "  DrugBank ID                   Name               Type UniProt ID  \\\n",
       "0     DB00006            Bivalirudin  SmallMoleculeDrug     P05164   \n",
       "1     DB00007             Leuprolide  SmallMoleculeDrug     P08684   \n",
       "2     DB00008  Peginterferon alfa-2a        BiotechDrug     P05177   \n",
       "3     DB00011     Interferon alfa-n1        BiotechDrug     P05177   \n",
       "4     DB00013              Urokinase        BiotechDrug     P39900   \n",
       "\n",
       "                 UniProt Name  \n",
       "0             Myeloperoxidase  \n",
       "1         Cytochrome P450 3A4  \n",
       "2         Cytochrome P450 1A2  \n",
       "3         Cytochrome P450 1A2  \n",
       "4  Macrophage metalloelastase  "
      ]
     },
     "execution_count": 9,
     "metadata": {},
     "output_type": "execute_result"
    }
   ],
   "source": [
    "db_link_enzyme = pd.read_csv(db_path_link_enzyme)\n",
    "db_link_enzyme.head()"
   ]
  },
  {
   "cell_type": "code",
   "execution_count": 10,
   "metadata": {},
   "outputs": [
    {
     "data": {
      "text/html": [
       "<div>\n",
       "<style scoped>\n",
       "    .dataframe tbody tr th:only-of-type {\n",
       "        vertical-align: middle;\n",
       "    }\n",
       "\n",
       "    .dataframe tbody tr th {\n",
       "        vertical-align: top;\n",
       "    }\n",
       "\n",
       "    .dataframe thead th {\n",
       "        text-align: right;\n",
       "    }\n",
       "</style>\n",
       "<table border=\"1\" class=\"dataframe\">\n",
       "  <thead>\n",
       "    <tr style=\"text-align: right;\">\n",
       "      <th></th>\n",
       "      <th>DrugBank ID</th>\n",
       "      <th>Name</th>\n",
       "      <th>Type</th>\n",
       "      <th>UniProt ID</th>\n",
       "      <th>UniProt Name</th>\n",
       "    </tr>\n",
       "  </thead>\n",
       "  <tbody>\n",
       "    <tr>\n",
       "      <th>0</th>\n",
       "      <td>DB00001</td>\n",
       "      <td>Lepirudin</td>\n",
       "      <td>BiotechDrug</td>\n",
       "      <td>P00734</td>\n",
       "      <td>Prothrombin</td>\n",
       "    </tr>\n",
       "    <tr>\n",
       "      <th>1</th>\n",
       "      <td>DB00002</td>\n",
       "      <td>Cetuximab</td>\n",
       "      <td>BiotechDrug</td>\n",
       "      <td>P00533</td>\n",
       "      <td>Epidermal growth factor receptor</td>\n",
       "    </tr>\n",
       "    <tr>\n",
       "      <th>2</th>\n",
       "      <td>DB00002</td>\n",
       "      <td>Cetuximab</td>\n",
       "      <td>BiotechDrug</td>\n",
       "      <td>O75015</td>\n",
       "      <td>Low affinity immunoglobulin gamma Fc region re...</td>\n",
       "    </tr>\n",
       "    <tr>\n",
       "      <th>3</th>\n",
       "      <td>DB00002</td>\n",
       "      <td>Cetuximab</td>\n",
       "      <td>BiotechDrug</td>\n",
       "      <td>P00736</td>\n",
       "      <td>Complement C1r subcomponent</td>\n",
       "    </tr>\n",
       "    <tr>\n",
       "      <th>4</th>\n",
       "      <td>DB00002</td>\n",
       "      <td>Cetuximab</td>\n",
       "      <td>BiotechDrug</td>\n",
       "      <td>P02745</td>\n",
       "      <td>Complement C1q subcomponent subunit A</td>\n",
       "    </tr>\n",
       "  </tbody>\n",
       "</table>\n",
       "</div>"
      ],
      "text/plain": [
       "  DrugBank ID       Name         Type UniProt ID  \\\n",
       "0     DB00001  Lepirudin  BiotechDrug     P00734   \n",
       "1     DB00002  Cetuximab  BiotechDrug     P00533   \n",
       "2     DB00002  Cetuximab  BiotechDrug     O75015   \n",
       "3     DB00002  Cetuximab  BiotechDrug     P00736   \n",
       "4     DB00002  Cetuximab  BiotechDrug     P02745   \n",
       "\n",
       "                                        UniProt Name  \n",
       "0                                        Prothrombin  \n",
       "1                   Epidermal growth factor receptor  \n",
       "2  Low affinity immunoglobulin gamma Fc region re...  \n",
       "3                        Complement C1r subcomponent  \n",
       "4              Complement C1q subcomponent subunit A  "
      ]
     },
     "execution_count": 10,
     "metadata": {},
     "output_type": "execute_result"
    }
   ],
   "source": [
    "db_link_target = pd.read_csv(db_path_link_target)\n",
    "db_link_target.head()"
   ]
  },
  {
   "cell_type": "code",
   "execution_count": 11,
   "metadata": {},
   "outputs": [
    {
     "data": {
      "text/html": [
       "<div>\n",
       "<style scoped>\n",
       "    .dataframe tbody tr th:only-of-type {\n",
       "        vertical-align: middle;\n",
       "    }\n",
       "\n",
       "    .dataframe tbody tr th {\n",
       "        vertical-align: top;\n",
       "    }\n",
       "\n",
       "    .dataframe thead th {\n",
       "        text-align: right;\n",
       "    }\n",
       "</style>\n",
       "<table border=\"1\" class=\"dataframe\">\n",
       "  <thead>\n",
       "    <tr style=\"text-align: right;\">\n",
       "      <th></th>\n",
       "      <th>DrugBank ID</th>\n",
       "      <th>Name</th>\n",
       "      <th>Type</th>\n",
       "      <th>UniProt ID</th>\n",
       "      <th>UniProt Name</th>\n",
       "    </tr>\n",
       "  </thead>\n",
       "  <tbody>\n",
       "    <tr>\n",
       "      <th>0</th>\n",
       "      <td>DB00027</td>\n",
       "      <td>Gramicidin D</td>\n",
       "      <td>SmallMoleculeDrug</td>\n",
       "      <td>P08183</td>\n",
       "      <td>Multidrug resistance protein 1</td>\n",
       "    </tr>\n",
       "    <tr>\n",
       "      <th>1</th>\n",
       "      <td>DB00067</td>\n",
       "      <td>Vasopressin</td>\n",
       "      <td>SmallMoleculeDrug</td>\n",
       "      <td>Q92887</td>\n",
       "      <td>Canalicular multispecific organic anion transp...</td>\n",
       "    </tr>\n",
       "    <tr>\n",
       "      <th>2</th>\n",
       "      <td>DB00091</td>\n",
       "      <td>Cyclosporine</td>\n",
       "      <td>SmallMoleculeDrug</td>\n",
       "      <td>P08183</td>\n",
       "      <td>Multidrug resistance protein 1</td>\n",
       "    </tr>\n",
       "    <tr>\n",
       "      <th>3</th>\n",
       "      <td>DB00091</td>\n",
       "      <td>Cyclosporine</td>\n",
       "      <td>SmallMoleculeDrug</td>\n",
       "      <td>O95342</td>\n",
       "      <td>Bile salt export pump</td>\n",
       "    </tr>\n",
       "    <tr>\n",
       "      <th>4</th>\n",
       "      <td>DB00091</td>\n",
       "      <td>Cyclosporine</td>\n",
       "      <td>SmallMoleculeDrug</td>\n",
       "      <td>Q12908</td>\n",
       "      <td>Ileal sodium/bile acid cotransporter</td>\n",
       "    </tr>\n",
       "  </tbody>\n",
       "</table>\n",
       "</div>"
      ],
      "text/plain": [
       "  DrugBank ID          Name               Type UniProt ID  \\\n",
       "0     DB00027  Gramicidin D  SmallMoleculeDrug     P08183   \n",
       "1     DB00067   Vasopressin  SmallMoleculeDrug     Q92887   \n",
       "2     DB00091  Cyclosporine  SmallMoleculeDrug     P08183   \n",
       "3     DB00091  Cyclosporine  SmallMoleculeDrug     O95342   \n",
       "4     DB00091  Cyclosporine  SmallMoleculeDrug     Q12908   \n",
       "\n",
       "                                        UniProt Name  \n",
       "0                     Multidrug resistance protein 1  \n",
       "1  Canalicular multispecific organic anion transp...  \n",
       "2                     Multidrug resistance protein 1  \n",
       "3                              Bile salt export pump  \n",
       "4               Ileal sodium/bile acid cotransporter  "
      ]
     },
     "execution_count": 11,
     "metadata": {},
     "output_type": "execute_result"
    }
   ],
   "source": [
    "db_link_transport = pd.read_csv(db_path_link_transport)\n",
    "db_link_transport.head()"
   ]
  },
  {
   "cell_type": "markdown",
   "metadata": {},
   "source": [
    "## Drug Central"
   ]
  },
  {
   "cell_type": "code",
   "execution_count": 12,
   "metadata": {},
   "outputs": [
    {
     "data": {
      "text/html": [
       "<div>\n",
       "<style scoped>\n",
       "    .dataframe tbody tr th:only-of-type {\n",
       "        vertical-align: middle;\n",
       "    }\n",
       "\n",
       "    .dataframe tbody tr th {\n",
       "        vertical-align: top;\n",
       "    }\n",
       "\n",
       "    .dataframe thead th {\n",
       "        text-align: right;\n",
       "    }\n",
       "</style>\n",
       "<table border=\"1\" class=\"dataframe\">\n",
       "  <thead>\n",
       "    <tr style=\"text-align: right;\">\n",
       "      <th></th>\n",
       "      <th>DRUG_ID</th>\n",
       "      <th>DRUG_NAME</th>\n",
       "      <th>INDICATION_FDB</th>\n",
       "      <th>UMLS_CUI</th>\n",
       "      <th>SNOMEDCT_CUI</th>\n",
       "      <th>DOID</th>\n",
       "    </tr>\n",
       "  </thead>\n",
       "  <tbody>\n",
       "    <tr>\n",
       "      <th>0</th>\n",
       "      <td>965</td>\n",
       "      <td>drostanolone propionate</td>\n",
       "      <td>Malignant tumor of breast</td>\n",
       "      <td>C0006142</td>\n",
       "      <td>254837009.0</td>\n",
       "      <td>DOID:1612</td>\n",
       "    </tr>\n",
       "    <tr>\n",
       "      <th>1</th>\n",
       "      <td>318</td>\n",
       "      <td>benzbromarone</td>\n",
       "      <td>Gout</td>\n",
       "      <td>C0018099</td>\n",
       "      <td>90560007.0</td>\n",
       "      <td>DOID:13189</td>\n",
       "    </tr>\n",
       "    <tr>\n",
       "      <th>2</th>\n",
       "      <td>318</td>\n",
       "      <td>benzbromarone</td>\n",
       "      <td>Hyperuricemia</td>\n",
       "      <td>C0740394</td>\n",
       "      <td>35885006.0</td>\n",
       "      <td>DOID:1920</td>\n",
       "    </tr>\n",
       "    <tr>\n",
       "      <th>3</th>\n",
       "      <td>1031</td>\n",
       "      <td>epitizide</td>\n",
       "      <td>Hypertensive disorder</td>\n",
       "      <td>C0020538</td>\n",
       "      <td>38341003.0</td>\n",
       "      <td>DOID:10763</td>\n",
       "    </tr>\n",
       "    <tr>\n",
       "      <th>4</th>\n",
       "      <td>3578</td>\n",
       "      <td>tafenoquine</td>\n",
       "      <td>Malaria</td>\n",
       "      <td>C0024530</td>\n",
       "      <td>61462000.0</td>\n",
       "      <td>DOID:12365</td>\n",
       "    </tr>\n",
       "  </tbody>\n",
       "</table>\n",
       "</div>"
      ],
      "text/plain": [
       "   DRUG_ID                DRUG_NAME             INDICATION_FDB  UMLS_CUI  \\\n",
       "0      965  drostanolone propionate  Malignant tumor of breast  C0006142   \n",
       "1      318            benzbromarone                       Gout  C0018099   \n",
       "2      318            benzbromarone              Hyperuricemia  C0740394   \n",
       "3     1031                epitizide      Hypertensive disorder  C0020538   \n",
       "4     3578              tafenoquine                    Malaria  C0024530   \n",
       "\n",
       "   SNOMEDCT_CUI        DOID  \n",
       "0   254837009.0   DOID:1612  \n",
       "1    90560007.0  DOID:13189  \n",
       "2    35885006.0   DOID:1920  \n",
       "3    38341003.0  DOID:10763  \n",
       "4    61462000.0  DOID:12365  "
      ]
     },
     "execution_count": 12,
     "metadata": {},
     "output_type": "execute_result"
    }
   ],
   "source": [
    "# grab drugs and diseases from drug central\n",
    "dc = pd.read_table(dc_path)\n",
    "dc.head()"
   ]
  },
  {
   "cell_type": "code",
   "execution_count": 13,
   "metadata": {},
   "outputs": [
    {
     "data": {
      "text/plain": [
       "747                            Systemic Dermatomyositis\n",
       "761                               Otitis Externa Eczema\n",
       "766       Osteoarthritis in Patients at High Ulcer Risk\n",
       "772      Post-Op Gynecological Infection due to E. Coli\n",
       "781                   Bronchospasm Prevention with COPD\n",
       "                              ...                      \n",
       "10352        Maintenance of Healing Erosive Esophagitis\n",
       "10355                   Duodenal Ulcer due to H. Pylori\n",
       "10356                 Gastric Hypersecretory Conditions\n",
       "10357     Pathological Gastric Hypersecretory Condition\n",
       "10363                  Myocardial Infarction Prevention\n",
       "Name: INDICATION_FDB, Length: 2489, dtype: object"
      ]
     },
     "execution_count": 13,
     "metadata": {},
     "output_type": "execute_result"
    }
   ],
   "source": [
    "dc['INDICATION_FDB'][dc.isna()['UMLS_CUI']]"
   ]
  },
  {
   "cell_type": "markdown",
   "metadata": {},
   "source": [
    "### Remove invalid UMLS CUI"
   ]
  },
  {
   "cell_type": "code",
   "execution_count": 14,
   "metadata": {},
   "outputs": [],
   "source": [
    "# remove dc rows with invalid UMLS_CUI\n",
    "dc = dc.dropna(subset=['UMLS_CUI'])"
   ]
  },
  {
   "cell_type": "code",
   "execution_count": 15,
   "metadata": {},
   "outputs": [
    {
     "name": "stdout",
     "output_type": "stream",
     "text": [
      "There are in total 8469 rows of drug-disease edges (valid UMLS CUI) in drug central\n"
     ]
    }
   ],
   "source": [
    "print('There are in total %d rows of drug-disease edges (valid UMLS CUI) in drug central' % (dc.shape[0]))"
   ]
  },
  {
   "cell_type": "markdown",
   "metadata": {},
   "source": [
    "### Drugs"
   ]
  },
  {
   "cell_type": "code",
   "execution_count": 16,
   "metadata": {},
   "outputs": [],
   "source": [
    "dc_drugs = dc['DRUG_NAME'].tolist()\n",
    "dc_drugs = [drug.lower() for drug in dc_drugs]"
   ]
  },
  {
   "cell_type": "code",
   "execution_count": 17,
   "metadata": {},
   "outputs": [],
   "source": [
    "db_drugs_commonnames = [drug.lower() for drug in db_vocab['Common name'].tolist()]\n",
    "db_drugs_synonyms = [str(drug).lower() for drug in db_vocab['Synonyms'].tolist()]\n",
    "db_drugs_id = db_vocab['DrugBank ID'].tolist()"
   ]
  },
  {
   "cell_type": "code",
   "execution_count": 18,
   "metadata": {},
   "outputs": [
    {
     "data": {
      "text/plain": [
       "2301"
      ]
     },
     "execution_count": 18,
     "metadata": {},
     "output_type": "execute_result"
    }
   ],
   "source": [
    "dc_unique_drugs = list(set(dc_drugs))\n",
    "len(dc_unique_drugs)"
   ]
  },
  {
   "cell_type": "code",
   "execution_count": 19,
   "metadata": {},
   "outputs": [],
   "source": [
    "drugs_dict = {}\n",
    "drugs_not_found = []\n",
    "for drug in dc_unique_drugs:\n",
    "    for i in range(len(db_drugs_commonnames)):\n",
    "        if drug in db_drugs_commonnames[i] or drug in db_drugs_synonyms[i]:\n",
    "            drugs_dict[drug] = db_drugs_id[i]\n",
    "            break\n",
    "    if drug not in drugs_dict: drugs_not_found.append(drug)"
   ]
  },
  {
   "cell_type": "code",
   "execution_count": 21,
   "metadata": {},
   "outputs": [],
   "source": [
    "dc_drugs_dbid = [drugs_dict[drug] if drug in drugs_dict else None for drug in dc_drugs]"
   ]
  },
  {
   "cell_type": "code",
   "execution_count": 22,
   "metadata": {
    "scrolled": true
   },
   "outputs": [
    {
     "data": {
      "text/html": [
       "<div>\n",
       "<style scoped>\n",
       "    .dataframe tbody tr th:only-of-type {\n",
       "        vertical-align: middle;\n",
       "    }\n",
       "\n",
       "    .dataframe tbody tr th {\n",
       "        vertical-align: top;\n",
       "    }\n",
       "\n",
       "    .dataframe thead th {\n",
       "        text-align: right;\n",
       "    }\n",
       "</style>\n",
       "<table border=\"1\" class=\"dataframe\">\n",
       "  <thead>\n",
       "    <tr style=\"text-align: right;\">\n",
       "      <th></th>\n",
       "      <th>DRUG_ID</th>\n",
       "      <th>DRUG_NAME</th>\n",
       "      <th>INDICATION_FDB</th>\n",
       "      <th>UMLS_CUI</th>\n",
       "      <th>SNOMEDCT_CUI</th>\n",
       "      <th>DOID</th>\n",
       "      <th>DRUGBANK_ID</th>\n",
       "    </tr>\n",
       "  </thead>\n",
       "  <tbody>\n",
       "    <tr>\n",
       "      <th>0</th>\n",
       "      <td>965</td>\n",
       "      <td>drostanolone propionate</td>\n",
       "      <td>Malignant tumor of breast</td>\n",
       "      <td>C0006142</td>\n",
       "      <td>254837009.0</td>\n",
       "      <td>DOID:1612</td>\n",
       "      <td>DB14655</td>\n",
       "    </tr>\n",
       "    <tr>\n",
       "      <th>1</th>\n",
       "      <td>318</td>\n",
       "      <td>benzbromarone</td>\n",
       "      <td>Gout</td>\n",
       "      <td>C0018099</td>\n",
       "      <td>90560007.0</td>\n",
       "      <td>DOID:13189</td>\n",
       "      <td>DB12319</td>\n",
       "    </tr>\n",
       "    <tr>\n",
       "      <th>2</th>\n",
       "      <td>318</td>\n",
       "      <td>benzbromarone</td>\n",
       "      <td>Hyperuricemia</td>\n",
       "      <td>C0740394</td>\n",
       "      <td>35885006.0</td>\n",
       "      <td>DOID:1920</td>\n",
       "      <td>DB12319</td>\n",
       "    </tr>\n",
       "    <tr>\n",
       "      <th>3</th>\n",
       "      <td>1031</td>\n",
       "      <td>epitizide</td>\n",
       "      <td>Hypertensive disorder</td>\n",
       "      <td>C0020538</td>\n",
       "      <td>38341003.0</td>\n",
       "      <td>DOID:10763</td>\n",
       "      <td>DB13989</td>\n",
       "    </tr>\n",
       "    <tr>\n",
       "      <th>4</th>\n",
       "      <td>3578</td>\n",
       "      <td>tafenoquine</td>\n",
       "      <td>Malaria</td>\n",
       "      <td>C0024530</td>\n",
       "      <td>61462000.0</td>\n",
       "      <td>DOID:12365</td>\n",
       "      <td>DB06608</td>\n",
       "    </tr>\n",
       "  </tbody>\n",
       "</table>\n",
       "</div>"
      ],
      "text/plain": [
       "   DRUG_ID                DRUG_NAME             INDICATION_FDB  UMLS_CUI  \\\n",
       "0      965  drostanolone propionate  Malignant tumor of breast  C0006142   \n",
       "1      318            benzbromarone                       Gout  C0018099   \n",
       "2      318            benzbromarone              Hyperuricemia  C0740394   \n",
       "3     1031                epitizide      Hypertensive disorder  C0020538   \n",
       "4     3578              tafenoquine                    Malaria  C0024530   \n",
       "\n",
       "   SNOMEDCT_CUI        DOID DRUGBANK_ID  \n",
       "0   254837009.0   DOID:1612     DB14655  \n",
       "1    90560007.0  DOID:13189     DB12319  \n",
       "2    35885006.0   DOID:1920     DB12319  \n",
       "3    38341003.0  DOID:10763     DB13989  \n",
       "4    61462000.0  DOID:12365     DB06608  "
      ]
     },
     "execution_count": 22,
     "metadata": {},
     "output_type": "execute_result"
    }
   ],
   "source": [
    "dc['DRUGBANK_ID'] = dc_drugs_dbid\n",
    "dc.head()"
   ]
  },
  {
   "cell_type": "code",
   "execution_count": 23,
   "metadata": {},
   "outputs": [
    {
     "data": {
      "text/html": [
       "<div>\n",
       "<style scoped>\n",
       "    .dataframe tbody tr th:only-of-type {\n",
       "        vertical-align: middle;\n",
       "    }\n",
       "\n",
       "    .dataframe tbody tr th {\n",
       "        vertical-align: top;\n",
       "    }\n",
       "\n",
       "    .dataframe thead th {\n",
       "        text-align: right;\n",
       "    }\n",
       "</style>\n",
       "<table border=\"1\" class=\"dataframe\">\n",
       "  <thead>\n",
       "    <tr style=\"text-align: right;\">\n",
       "      <th></th>\n",
       "      <th>DRUGBANK_ID</th>\n",
       "      <th>UMLS_CUI</th>\n",
       "    </tr>\n",
       "  </thead>\n",
       "  <tbody>\n",
       "    <tr>\n",
       "      <th>0</th>\n",
       "      <td>DB14655</td>\n",
       "      <td>C0006142</td>\n",
       "    </tr>\n",
       "    <tr>\n",
       "      <th>1</th>\n",
       "      <td>DB12319</td>\n",
       "      <td>C0018099</td>\n",
       "    </tr>\n",
       "    <tr>\n",
       "      <th>2</th>\n",
       "      <td>DB12319</td>\n",
       "      <td>C0740394</td>\n",
       "    </tr>\n",
       "    <tr>\n",
       "      <th>3</th>\n",
       "      <td>DB13989</td>\n",
       "      <td>C0020538</td>\n",
       "    </tr>\n",
       "    <tr>\n",
       "      <th>4</th>\n",
       "      <td>DB06608</td>\n",
       "      <td>C0024530</td>\n",
       "    </tr>\n",
       "  </tbody>\n",
       "</table>\n",
       "</div>"
      ],
      "text/plain": [
       "  DRUGBANK_ID  UMLS_CUI\n",
       "0     DB14655  C0006142\n",
       "1     DB12319  C0018099\n",
       "2     DB12319  C0740394\n",
       "3     DB13989  C0020538\n",
       "4     DB06608  C0024530"
      ]
     },
     "execution_count": 23,
     "metadata": {},
     "output_type": "execute_result"
    }
   ],
   "source": [
    "dc = dc.dropna(subset=['DRUGBANK_ID'])\n",
    "dc = dc[['DRUGBANK_ID', 'UMLS_CUI']]\n",
    "dc.head()"
   ]
  },
  {
   "cell_type": "code",
   "execution_count": 24,
   "metadata": {},
   "outputs": [],
   "source": [
    "# store diseases\n",
    "dc_diseases = dc['UMLS_CUI'].tolist()\n",
    "update_node_file(dc_diseases)"
   ]
  },
  {
   "cell_type": "code",
   "execution_count": 25,
   "metadata": {},
   "outputs": [],
   "source": [
    "# store drugs\n",
    "dc_drugs = dc['DRUGBANK_ID'].tolist()\n",
    "update_node_file(dc_drugs, node_file='../data/clean/drugs.nodes')"
   ]
  },
  {
   "cell_type": "code",
   "execution_count": 26,
   "metadata": {},
   "outputs": [],
   "source": [
    "# store drug-treat-disease\n",
    "store_df(dc, '../data/clean/drug-disease-treat.edges')"
   ]
  },
  {
   "cell_type": "markdown",
   "metadata": {},
   "source": [
    "### Protein-gene name conversion"
   ]
  },
  {
   "cell_type": "code",
   "execution_count": 27,
   "metadata": {},
   "outputs": [],
   "source": [
    "# combine all protein IDs\n",
    "protein_ids = db_link_carrier['UniProt ID'].tolist() + \\\n",
    "              db_link_enzyme['UniProt ID'].tolist() + \\\n",
    "              db_link_target['UniProt ID'].tolist() + \\\n",
    "              db_link_transport['UniProt ID'].tolist()\n",
    "protein_ids = list(set(protein_ids))"
   ]
  },
  {
   "cell_type": "code",
   "execution_count": 27,
   "metadata": {},
   "outputs": [],
   "source": [
    "with open('../data/raw/db-proteins', 'w') as file:\n",
    "    for protein in protein_ids:\n",
    "        file.write(protein + '\\n')\n",
    "# use UniProt website to fetch gene names"
   ]
  },
  {
   "cell_type": "code",
   "execution_count": 28,
   "metadata": {},
   "outputs": [
    {
     "data": {
      "text/html": [
       "<div>\n",
       "<style scoped>\n",
       "    .dataframe tbody tr th:only-of-type {\n",
       "        vertical-align: middle;\n",
       "    }\n",
       "\n",
       "    .dataframe tbody tr th {\n",
       "        vertical-align: top;\n",
       "    }\n",
       "\n",
       "    .dataframe thead th {\n",
       "        text-align: right;\n",
       "    }\n",
       "</style>\n",
       "<table border=\"1\" class=\"dataframe\">\n",
       "  <thead>\n",
       "    <tr style=\"text-align: right;\">\n",
       "      <th></th>\n",
       "      <th>From</th>\n",
       "      <th>To</th>\n",
       "    </tr>\n",
       "  </thead>\n",
       "  <tbody>\n",
       "    <tr>\n",
       "      <th>0</th>\n",
       "      <td>O00483</td>\n",
       "      <td>NDUFA4</td>\n",
       "    </tr>\n",
       "    <tr>\n",
       "      <th>1</th>\n",
       "      <td>P55786</td>\n",
       "      <td>NPEPPS</td>\n",
       "    </tr>\n",
       "    <tr>\n",
       "      <th>2</th>\n",
       "      <td>P40859</td>\n",
       "      <td>soxA</td>\n",
       "    </tr>\n",
       "    <tr>\n",
       "      <th>3</th>\n",
       "      <td>P16788</td>\n",
       "      <td>UL97</td>\n",
       "    </tr>\n",
       "    <tr>\n",
       "      <th>4</th>\n",
       "      <td>P19793</td>\n",
       "      <td>RXRA</td>\n",
       "    </tr>\n",
       "  </tbody>\n",
       "</table>\n",
       "</div>"
      ],
      "text/plain": [
       "     From      To\n",
       "0  O00483  NDUFA4\n",
       "1  P55786  NPEPPS\n",
       "2  P40859    soxA\n",
       "3  P16788    UL97\n",
       "4  P19793    RXRA"
      ]
     },
     "execution_count": 28,
     "metadata": {},
     "output_type": "execute_result"
    }
   ],
   "source": [
    "protein_gene_df = pd.read_table('../data/raw/db-protein-gene')\n",
    "protein_gene_df.head()"
   ]
  },
  {
   "cell_type": "code",
   "execution_count": 29,
   "metadata": {},
   "outputs": [],
   "source": [
    "protein_ids = protein_gene_df['From'].tolist()\n",
    "gene_names = [str(gene).upper() for gene in protein_gene_df['To'].tolist()]"
   ]
  },
  {
   "cell_type": "code",
   "execution_count": 30,
   "metadata": {
    "scrolled": true
   },
   "outputs": [],
   "source": [
    "# create a conversion dict\n",
    "protein_gene_dict = {protein: gene_names[i] for i, protein in enumerate(protein_ids)}"
   ]
  },
  {
   "cell_type": "code",
   "execution_count": 34,
   "metadata": {},
   "outputs": [],
   "source": [
    "def fetch_drug_protein_df(df, conv_dict):\n",
    "    gene_names = [conv_dict[protein] if protein in conv_dict else None for protein in df['UniProt ID'].tolist()]\n",
    "    drugs = df['DrugBank ID'].tolist()\n",
    "    res = pd.DataFrame(data={ 'DRUGS': drugs, 'GENES': gene_names })\n",
    "    res = res.dropna(subset=['GENES'])\n",
    "    return(res)"
   ]
  },
  {
   "cell_type": "code",
   "execution_count": 35,
   "metadata": {},
   "outputs": [],
   "source": [
    "db_link_carrier = fetch_drug_protein_df(db_link_carrier, protein_gene_dict)\n",
    "db_link_enzyme = fetch_drug_protein_df(db_link_enzyme, protein_gene_dict)\n",
    "db_link_target = fetch_drug_protein_df(db_link_target, protein_gene_dict)\n",
    "db_link_transport = fetch_drug_protein_df(db_link_transport, protein_gene_dict)"
   ]
  },
  {
   "cell_type": "code",
   "execution_count": 36,
   "metadata": {},
   "outputs": [],
   "source": [
    "# store drug-gene-[action]\n",
    "store_df(db_link_carrier, '../data/clean/drug-gene-carrier.edges')\n",
    "store_df(db_link_enzyme, '../data/clean/drug-gene-enzyme.edges')\n",
    "store_df(db_link_target, '../data/clean/drug-gene-target.edges')\n",
    "store_df(db_link_transport, '../data/clean/drug-gene-transport.edges')"
   ]
  },
  {
   "cell_type": "code",
   "execution_count": 35,
   "metadata": {},
   "outputs": [],
   "source": [
    "# store genes\n",
    "update_node_file(gene_names, '../data/clean/genes.nodes')"
   ]
  },
  {
   "cell_type": "code",
   "execution_count": 37,
   "metadata": {},
   "outputs": [],
   "source": [
    "# update drugs\n",
    "update_node_file(db_link_carrier['DRUGS'].tolist(), node_file='../data/clean/drugs.nodes')\n",
    "update_node_file(db_link_enzyme['DRUGS'].tolist(), node_file='../data/clean/drugs.nodes')\n",
    "update_node_file(db_link_target['DRUGS'].tolist(), node_file='../data/clean/drugs.nodes')\n",
    "update_node_file(db_link_transport['DRUGS'].tolist(), node_file='../data/clean/drugs.nodes')"
   ]
  },
  {
   "cell_type": "code",
   "execution_count": null,
   "metadata": {},
   "outputs": [],
   "source": []
  }
 ],
 "metadata": {
  "kernelspec": {
   "display_name": "hst956",
   "language": "python",
   "name": "hst956"
  },
  "language_info": {
   "codemirror_mode": {
    "name": "ipython",
    "version": 3
   },
   "file_extension": ".py",
   "mimetype": "text/x-python",
   "name": "python",
   "nbconvert_exporter": "python",
   "pygments_lexer": "ipython3",
   "version": "3.7.7"
  }
 },
 "nbformat": 4,
 "nbformat_minor": 4
}
