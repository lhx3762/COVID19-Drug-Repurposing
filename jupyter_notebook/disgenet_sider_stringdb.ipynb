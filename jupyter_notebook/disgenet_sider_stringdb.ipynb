{
 "cells": [
  {
   "cell_type": "code",
   "execution_count": 142,
   "metadata": {},
   "outputs": [],
   "source": [
    "import pandas as pd\n",
    "import os\n",
    "from zipfile import ZipFile \n",
    "import re\n",
    "import collections\n",
    "import numpy as np\n",
    "import xmltodict\n",
    "import gzip\n",
    "import pubchempy as pcp"
   ]
  },
  {
   "cell_type": "code",
   "execution_count": 16,
   "metadata": {},
   "outputs": [],
   "source": [
    "ENSP_geneid_path = os.path.join('../data/raw', 'ENSP_geneid.csv')\n",
    "ENSP_geneid = pd.read_csv(ENSP_geneid_path)"
   ]
  },
  {
   "cell_type": "code",
   "execution_count": 17,
   "metadata": {},
   "outputs": [],
   "source": [
    "gene_mapping = {ensp:geneid for (ensp, geneid) in zip(ENSP_geneid['initial_alias'], (ENSP_geneid['name']))}"
   ]
  },
  {
   "cell_type": "code",
   "execution_count": 56,
   "metadata": {},
   "outputs": [
    {
     "data": {
      "text/html": [
       "<div>\n",
       "<style scoped>\n",
       "    .dataframe tbody tr th:only-of-type {\n",
       "        vertical-align: middle;\n",
       "    }\n",
       "\n",
       "    .dataframe tbody tr th {\n",
       "        vertical-align: top;\n",
       "    }\n",
       "\n",
       "    .dataframe thead th {\n",
       "        text-align: right;\n",
       "    }\n",
       "</style>\n",
       "<table border=\"1\" class=\"dataframe\">\n",
       "  <thead>\n",
       "    <tr style=\"text-align: right;\">\n",
       "      <th></th>\n",
       "      <th>DrugBank ID</th>\n",
       "      <th>Accession Numbers</th>\n",
       "      <th>Common name</th>\n",
       "      <th>CAS</th>\n",
       "      <th>UNII</th>\n",
       "      <th>Synonyms</th>\n",
       "      <th>Standard InChI Key</th>\n",
       "    </tr>\n",
       "  </thead>\n",
       "  <tbody>\n",
       "    <tr>\n",
       "      <th>0</th>\n",
       "      <td>DB00001</td>\n",
       "      <td>BIOD00024 | BTD00024</td>\n",
       "      <td>lepirudin</td>\n",
       "      <td>138068-37-8</td>\n",
       "      <td>Y43GF64R34</td>\n",
       "      <td>hirudin variant-1 | lepirudin recombinant</td>\n",
       "      <td>NaN</td>\n",
       "    </tr>\n",
       "    <tr>\n",
       "      <th>1</th>\n",
       "      <td>DB00002</td>\n",
       "      <td>BIOD00071 | BTD00071</td>\n",
       "      <td>cetuximab</td>\n",
       "      <td>205923-56-4</td>\n",
       "      <td>PQX0D8J21J</td>\n",
       "      <td>cetuximab | cétuximab | cetuximabum</td>\n",
       "      <td>NaN</td>\n",
       "    </tr>\n",
       "    <tr>\n",
       "      <th>2</th>\n",
       "      <td>DB00003</td>\n",
       "      <td>BIOD00001 | BTD00001</td>\n",
       "      <td>dornase alfa</td>\n",
       "      <td>143831-71-4</td>\n",
       "      <td>953A26OA1Y</td>\n",
       "      <td>deoxyribonuclease (human clone 18-1 protein mo...</td>\n",
       "      <td>NaN</td>\n",
       "    </tr>\n",
       "    <tr>\n",
       "      <th>3</th>\n",
       "      <td>DB00004</td>\n",
       "      <td>BIOD00084 | BTD00084</td>\n",
       "      <td>denileukin diftitox</td>\n",
       "      <td>173146-27-5</td>\n",
       "      <td>25E79B5CTM</td>\n",
       "      <td>denileukin | interleukin-2/diptheria toxin fus...</td>\n",
       "      <td>NaN</td>\n",
       "    </tr>\n",
       "    <tr>\n",
       "      <th>4</th>\n",
       "      <td>DB00005</td>\n",
       "      <td>BIOD00052 | BTD00052</td>\n",
       "      <td>etanercept</td>\n",
       "      <td>185243-69-0</td>\n",
       "      <td>OP401G7OJC</td>\n",
       "      <td>etanercept | etanercept-szzs | etanercept-ykro...</td>\n",
       "      <td>NaN</td>\n",
       "    </tr>\n",
       "    <tr>\n",
       "      <th>...</th>\n",
       "      <td>...</td>\n",
       "      <td>...</td>\n",
       "      <td>...</td>\n",
       "      <td>...</td>\n",
       "      <td>...</td>\n",
       "      <td>...</td>\n",
       "      <td>...</td>\n",
       "    </tr>\n",
       "    <tr>\n",
       "      <th>13558</th>\n",
       "      <td>DB15672</td>\n",
       "      <td>NaN</td>\n",
       "      <td>rilematovir</td>\n",
       "      <td>1383450-81-4</td>\n",
       "      <td>NQ99E8OH3P</td>\n",
       "      <td>rilematovir</td>\n",
       "      <td>GTQTUABHRCWVLL-UHFFFAOYSA-N</td>\n",
       "    </tr>\n",
       "    <tr>\n",
       "      <th>13559</th>\n",
       "      <td>DB15673</td>\n",
       "      <td>NaN</td>\n",
       "      <td>lenacapavir</td>\n",
       "      <td>2189684-44-2</td>\n",
       "      <td>A9A0O6FB4H</td>\n",
       "      <td>lenacapavir</td>\n",
       "      <td>BRYXUCLEHAUSDY-WEWMWRJBSA-N</td>\n",
       "    </tr>\n",
       "    <tr>\n",
       "      <th>13560</th>\n",
       "      <td>DB15674</td>\n",
       "      <td>NaN</td>\n",
       "      <td>sisunatovir</td>\n",
       "      <td>1903763-82-5</td>\n",
       "      <td>KE63TTO7WK</td>\n",
       "      <td>sisunatovir</td>\n",
       "      <td>JOPCJJSYRPUEDS-UHFFFAOYSA-N</td>\n",
       "    </tr>\n",
       "    <tr>\n",
       "      <th>13561</th>\n",
       "      <td>DB15675</td>\n",
       "      <td>NaN</td>\n",
       "      <td>baloxavir</td>\n",
       "      <td>1985605-59-1</td>\n",
       "      <td>4G86Y4JT3F</td>\n",
       "      <td>baloxavir</td>\n",
       "      <td>FIDLLEYNNRGVFR-CTNGQTDRSA-N</td>\n",
       "    </tr>\n",
       "    <tr>\n",
       "      <th>13562</th>\n",
       "      <td>DB15676</td>\n",
       "      <td>NaN</td>\n",
       "      <td>balstilimab</td>\n",
       "      <td>2148321-77-9</td>\n",
       "      <td>1Q2QT5M7EO</td>\n",
       "      <td>balstilimab</td>\n",
       "      <td>NaN</td>\n",
       "    </tr>\n",
       "  </tbody>\n",
       "</table>\n",
       "<p>13563 rows × 7 columns</p>\n",
       "</div>"
      ],
      "text/plain": [
       "      DrugBank ID     Accession Numbers          Common name           CAS  \\\n",
       "0         DB00001  BIOD00024 | BTD00024            lepirudin   138068-37-8   \n",
       "1         DB00002  BIOD00071 | BTD00071            cetuximab   205923-56-4   \n",
       "2         DB00003  BIOD00001 | BTD00001         dornase alfa   143831-71-4   \n",
       "3         DB00004  BIOD00084 | BTD00084  denileukin diftitox   173146-27-5   \n",
       "4         DB00005  BIOD00052 | BTD00052           etanercept   185243-69-0   \n",
       "...           ...                   ...                  ...           ...   \n",
       "13558     DB15672                   NaN          rilematovir  1383450-81-4   \n",
       "13559     DB15673                   NaN          lenacapavir  2189684-44-2   \n",
       "13560     DB15674                   NaN          sisunatovir  1903763-82-5   \n",
       "13561     DB15675                   NaN            baloxavir  1985605-59-1   \n",
       "13562     DB15676                   NaN          balstilimab  2148321-77-9   \n",
       "\n",
       "             UNII                                           Synonyms  \\\n",
       "0      Y43GF64R34          hirudin variant-1 | lepirudin recombinant   \n",
       "1      PQX0D8J21J                cetuximab | cétuximab | cetuximabum   \n",
       "2      953A26OA1Y  deoxyribonuclease (human clone 18-1 protein mo...   \n",
       "3      25E79B5CTM  denileukin | interleukin-2/diptheria toxin fus...   \n",
       "4      OP401G7OJC  etanercept | etanercept-szzs | etanercept-ykro...   \n",
       "...           ...                                                ...   \n",
       "13558  NQ99E8OH3P                                        rilematovir   \n",
       "13559  A9A0O6FB4H                                        lenacapavir   \n",
       "13560  KE63TTO7WK                                        sisunatovir   \n",
       "13561  4G86Y4JT3F                                          baloxavir   \n",
       "13562  1Q2QT5M7EO                                        balstilimab   \n",
       "\n",
       "                Standard InChI Key  \n",
       "0                              NaN  \n",
       "1                              NaN  \n",
       "2                              NaN  \n",
       "3                              NaN  \n",
       "4                              NaN  \n",
       "...                            ...  \n",
       "13558  GTQTUABHRCWVLL-UHFFFAOYSA-N  \n",
       "13559  BRYXUCLEHAUSDY-WEWMWRJBSA-N  \n",
       "13560  JOPCJJSYRPUEDS-UHFFFAOYSA-N  \n",
       "13561  FIDLLEYNNRGVFR-CTNGQTDRSA-N  \n",
       "13562                          NaN  \n",
       "\n",
       "[13563 rows x 7 columns]"
      ]
     },
     "execution_count": 56,
     "metadata": {},
     "output_type": "execute_result"
    }
   ],
   "source": [
    "db_vocab = pd.read_csv('../data/raw/drugbank_vocabulary.csv')\n",
    "db_vocab['Common name'] = db_vocab['Common name'].str.lower()\n",
    "db_vocab['Synonyms'] = db_vocab['Synonyms'].str.lower()\n",
    "db_vocab"
   ]
  },
  {
   "cell_type": "code",
   "execution_count": 186,
   "metadata": {},
   "outputs": [],
   "source": [
    "sider_names = pd.read_csv('../data/raw/sider_drug_names.tsv', sep='\\t', header=None)\n",
    "sider_names[0] = sider_names[0].str.split('CID1',expand=True)[1]\n",
    "sider_names_dict = {drug_id:drug_name for (drug_id, drug_name) in zip(sider_names[0], sider_names[1])}"
   ]
  },
  {
   "cell_type": "markdown",
   "metadata": {},
   "source": [
    "### get possible genes, disease drugs from other file"
   ]
  },
  {
   "cell_type": "code",
   "execution_count": 5,
   "metadata": {},
   "outputs": [],
   "source": [
    "all_genes = pd.read_csv('../data/clean/genes.nodes',header=None)"
   ]
  },
  {
   "cell_type": "code",
   "execution_count": 6,
   "metadata": {},
   "outputs": [
    {
     "data": {
      "text/html": [
       "<div>\n",
       "<style scoped>\n",
       "    .dataframe tbody tr th:only-of-type {\n",
       "        vertical-align: middle;\n",
       "    }\n",
       "\n",
       "    .dataframe tbody tr th {\n",
       "        vertical-align: top;\n",
       "    }\n",
       "\n",
       "    .dataframe thead th {\n",
       "        text-align: right;\n",
       "    }\n",
       "</style>\n",
       "<table border=\"1\" class=\"dataframe\">\n",
       "  <thead>\n",
       "    <tr style=\"text-align: right;\">\n",
       "      <th></th>\n",
       "      <th>0</th>\n",
       "    </tr>\n",
       "  </thead>\n",
       "  <tbody>\n",
       "    <tr>\n",
       "      <th>0</th>\n",
       "      <td>A1BG</td>\n",
       "    </tr>\n",
       "    <tr>\n",
       "      <th>1</th>\n",
       "      <td>A1CF</td>\n",
       "    </tr>\n",
       "    <tr>\n",
       "      <th>2</th>\n",
       "      <td>AACS</td>\n",
       "    </tr>\n",
       "    <tr>\n",
       "      <th>3</th>\n",
       "      <td>AADAC</td>\n",
       "    </tr>\n",
       "    <tr>\n",
       "      <th>4</th>\n",
       "      <td>AADACL2</td>\n",
       "    </tr>\n",
       "  </tbody>\n",
       "</table>\n",
       "</div>"
      ],
      "text/plain": [
       "         0\n",
       "0     A1BG\n",
       "1     A1CF\n",
       "2     AACS\n",
       "3    AADAC\n",
       "4  AADACL2"
      ]
     },
     "execution_count": 6,
     "metadata": {},
     "output_type": "execute_result"
    }
   ],
   "source": [
    "all_genes.head()"
   ]
  },
  {
   "cell_type": "code",
   "execution_count": 7,
   "metadata": {},
   "outputs": [
    {
     "data": {
      "text/html": [
       "<div>\n",
       "<style scoped>\n",
       "    .dataframe tbody tr th:only-of-type {\n",
       "        vertical-align: middle;\n",
       "    }\n",
       "\n",
       "    .dataframe tbody tr th {\n",
       "        vertical-align: top;\n",
       "    }\n",
       "\n",
       "    .dataframe thead th {\n",
       "        text-align: right;\n",
       "    }\n",
       "</style>\n",
       "<table border=\"1\" class=\"dataframe\">\n",
       "  <thead>\n",
       "    <tr style=\"text-align: right;\">\n",
       "      <th></th>\n",
       "      <th>0</th>\n",
       "    </tr>\n",
       "  </thead>\n",
       "  <tbody>\n",
       "    <tr>\n",
       "      <th>0</th>\n",
       "      <td>C0000737</td>\n",
       "    </tr>\n",
       "    <tr>\n",
       "      <th>1</th>\n",
       "      <td>C0000810</td>\n",
       "    </tr>\n",
       "    <tr>\n",
       "      <th>2</th>\n",
       "      <td>C0000880</td>\n",
       "    </tr>\n",
       "    <tr>\n",
       "      <th>3</th>\n",
       "      <td>C0001126</td>\n",
       "    </tr>\n",
       "    <tr>\n",
       "      <th>4</th>\n",
       "      <td>C0001144</td>\n",
       "    </tr>\n",
       "  </tbody>\n",
       "</table>\n",
       "</div>"
      ],
      "text/plain": [
       "          0\n",
       "0  C0000737\n",
       "1  C0000810\n",
       "2  C0000880\n",
       "3  C0001126\n",
       "4  C0001144"
      ]
     },
     "execution_count": 7,
     "metadata": {},
     "output_type": "execute_result"
    }
   ],
   "source": [
    "all_disease = pd.read_csv('../data/clean/diseases.nodes',header=None)\n",
    "all_disease.head()"
   ]
  },
  {
   "cell_type": "code",
   "execution_count": 8,
   "metadata": {},
   "outputs": [
    {
     "data": {
      "text/html": [
       "<div>\n",
       "<style scoped>\n",
       "    .dataframe tbody tr th:only-of-type {\n",
       "        vertical-align: middle;\n",
       "    }\n",
       "\n",
       "    .dataframe tbody tr th {\n",
       "        vertical-align: top;\n",
       "    }\n",
       "\n",
       "    .dataframe thead th {\n",
       "        text-align: right;\n",
       "    }\n",
       "</style>\n",
       "<table border=\"1\" class=\"dataframe\">\n",
       "  <thead>\n",
       "    <tr style=\"text-align: right;\">\n",
       "      <th></th>\n",
       "      <th>0</th>\n",
       "    </tr>\n",
       "  </thead>\n",
       "  <tbody>\n",
       "    <tr>\n",
       "      <th>0</th>\n",
       "      <td>1</td>\n",
       "    </tr>\n",
       "    <tr>\n",
       "      <th>1</th>\n",
       "      <td>137</td>\n",
       "    </tr>\n",
       "    <tr>\n",
       "      <th>2</th>\n",
       "      <td>174</td>\n",
       "    </tr>\n",
       "    <tr>\n",
       "      <th>3</th>\n",
       "      <td>176</td>\n",
       "    </tr>\n",
       "    <tr>\n",
       "      <th>4</th>\n",
       "      <td>204</td>\n",
       "    </tr>\n",
       "    <tr>\n",
       "      <th>...</th>\n",
       "      <td>...</td>\n",
       "    </tr>\n",
       "    <tr>\n",
       "      <th>2518</th>\n",
       "      <td>139031013</td>\n",
       "    </tr>\n",
       "    <tr>\n",
       "      <th>2519</th>\n",
       "      <td>139266768</td>\n",
       "    </tr>\n",
       "    <tr>\n",
       "      <th>2520</th>\n",
       "      <td>139595263</td>\n",
       "    </tr>\n",
       "    <tr>\n",
       "      <th>2521</th>\n",
       "      <td>145712321</td>\n",
       "    </tr>\n",
       "    <tr>\n",
       "      <th>2522</th>\n",
       "      <td>145721395</td>\n",
       "    </tr>\n",
       "  </tbody>\n",
       "</table>\n",
       "<p>2523 rows × 1 columns</p>\n",
       "</div>"
      ],
      "text/plain": [
       "              0\n",
       "0             1\n",
       "1           137\n",
       "2           174\n",
       "3           176\n",
       "4           204\n",
       "...         ...\n",
       "2518  139031013\n",
       "2519  139266768\n",
       "2520  139595263\n",
       "2521  145712321\n",
       "2522  145721395\n",
       "\n",
       "[2523 rows x 1 columns]"
      ]
     },
     "execution_count": 8,
     "metadata": {},
     "output_type": "execute_result"
    }
   ],
   "source": [
    "all_drugs = pd.read_csv('../data/clean/drugs.nodes',header=None)\n",
    "all_drugs"
   ]
  },
  {
   "cell_type": "markdown",
   "metadata": {},
   "source": [
    "### Disgenet"
   ]
  },
  {
   "cell_type": "code",
   "execution_count": 9,
   "metadata": {},
   "outputs": [],
   "source": [
    "disgenet_path = os.path.join('../data/raw', 'curated_gene_disease_associations.tsv.gz')\n",
    "with gzip.open(disgenet_path) as file:\n",
    "    disgenet = pd.read_csv(file, sep='\\t', engine='python')"
   ]
  },
  {
   "cell_type": "code",
   "execution_count": 10,
   "metadata": {},
   "outputs": [],
   "source": [
    "disgenet = disgenet[['geneSymbol', 'diseaseId', 'diseaseSemanticType']]"
   ]
  },
  {
   "cell_type": "code",
   "execution_count": 11,
   "metadata": {},
   "outputs": [],
   "source": [
    "# filter genes\n",
    "disgenet = disgenet[(disgenet['geneSymbol'].isin(all_genes[0]))]\n",
    "\n",
    "# filter disease\n",
    "disgenet = disgenet[disgenet['diseaseId'].isin(all_disease[0])]"
   ]
  },
  {
   "cell_type": "code",
   "execution_count": 12,
   "metadata": {},
   "outputs": [
    {
     "data": {
      "text/html": [
       "<div>\n",
       "<style scoped>\n",
       "    .dataframe tbody tr th:only-of-type {\n",
       "        vertical-align: middle;\n",
       "    }\n",
       "\n",
       "    .dataframe tbody tr th {\n",
       "        vertical-align: top;\n",
       "    }\n",
       "\n",
       "    .dataframe thead th {\n",
       "        text-align: right;\n",
       "    }\n",
       "</style>\n",
       "<table border=\"1\" class=\"dataframe\">\n",
       "  <thead>\n",
       "    <tr style=\"text-align: right;\">\n",
       "      <th></th>\n",
       "      <th>geneSymbol</th>\n",
       "      <th>diseaseId</th>\n",
       "      <th>diseaseSemanticType</th>\n",
       "    </tr>\n",
       "  </thead>\n",
       "  <tbody>\n",
       "    <tr>\n",
       "      <th>1</th>\n",
       "      <td>A1BG</td>\n",
       "      <td>C0036341</td>\n",
       "      <td>Mental or Behavioral Dysfunction</td>\n",
       "    </tr>\n",
       "    <tr>\n",
       "      <th>28</th>\n",
       "      <td>NAT1</td>\n",
       "      <td>C0001973</td>\n",
       "      <td>Mental or Behavioral Dysfunction</td>\n",
       "    </tr>\n",
       "    <tr>\n",
       "      <th>30</th>\n",
       "      <td>NAT1</td>\n",
       "      <td>C0005684</td>\n",
       "      <td>Neoplastic Process</td>\n",
       "    </tr>\n",
       "    <tr>\n",
       "      <th>37</th>\n",
       "      <td>NAT1</td>\n",
       "      <td>C0033578</td>\n",
       "      <td>Neoplastic Process</td>\n",
       "    </tr>\n",
       "    <tr>\n",
       "      <th>41</th>\n",
       "      <td>NAT1</td>\n",
       "      <td>C0376358</td>\n",
       "      <td>Neoplastic Process</td>\n",
       "    </tr>\n",
       "    <tr>\n",
       "      <th>...</th>\n",
       "      <td>...</td>\n",
       "      <td>...</td>\n",
       "      <td>...</td>\n",
       "    </tr>\n",
       "    <tr>\n",
       "      <th>81564</th>\n",
       "      <td>OCLN</td>\n",
       "      <td>C0006142</td>\n",
       "      <td>Neoplastic Process</td>\n",
       "    </tr>\n",
       "    <tr>\n",
       "      <th>81567</th>\n",
       "      <td>OCLN</td>\n",
       "      <td>C0007820</td>\n",
       "      <td>Disease or Syndrome</td>\n",
       "    </tr>\n",
       "    <tr>\n",
       "      <th>81568</th>\n",
       "      <td>OCLN</td>\n",
       "      <td>C0019156</td>\n",
       "      <td>Disease or Syndrome</td>\n",
       "    </tr>\n",
       "    <tr>\n",
       "      <th>81576</th>\n",
       "      <td>OCLN</td>\n",
       "      <td>C0678222</td>\n",
       "      <td>Neoplastic Process</td>\n",
       "    </tr>\n",
       "    <tr>\n",
       "      <th>81585</th>\n",
       "      <td>CASP12</td>\n",
       "      <td>C0011854</td>\n",
       "      <td>Disease or Syndrome</td>\n",
       "    </tr>\n",
       "  </tbody>\n",
       "</table>\n",
       "<p>11413 rows × 3 columns</p>\n",
       "</div>"
      ],
      "text/plain": [
       "      geneSymbol diseaseId               diseaseSemanticType\n",
       "1           A1BG  C0036341  Mental or Behavioral Dysfunction\n",
       "28          NAT1  C0001973  Mental or Behavioral Dysfunction\n",
       "30          NAT1  C0005684                Neoplastic Process\n",
       "37          NAT1  C0033578                Neoplastic Process\n",
       "41          NAT1  C0376358                Neoplastic Process\n",
       "...          ...       ...                               ...\n",
       "81564       OCLN  C0006142                Neoplastic Process\n",
       "81567       OCLN  C0007820               Disease or Syndrome\n",
       "81568       OCLN  C0019156               Disease or Syndrome\n",
       "81576       OCLN  C0678222                Neoplastic Process\n",
       "81585     CASP12  C0011854               Disease or Syndrome\n",
       "\n",
       "[11413 rows x 3 columns]"
      ]
     },
     "execution_count": 12,
     "metadata": {},
     "output_type": "execute_result"
    }
   ],
   "source": [
    "disgenet"
   ]
  },
  {
   "cell_type": "code",
   "execution_count": null,
   "metadata": {},
   "outputs": [],
   "source": [
    "disgenet[['geneSymbol', 'diseaseId']].to_csv('../data/clean/gene-disease-association.edges',header=None,index=False)"
   ]
  },
  {
   "cell_type": "markdown",
   "metadata": {},
   "source": [
    "After filtering, only 57526 overlap with STITCH and drugcentral"
   ]
  },
  {
   "cell_type": "markdown",
   "metadata": {},
   "source": [
    "### Use Side effect data from Decagon"
   ]
  },
  {
   "cell_type": "code",
   "execution_count": 314,
   "metadata": {},
   "outputs": [],
   "source": [
    "decagon_path = os.path.join('../data/raw', 'bio-decagon-combo.tar.gz')\n",
    "with gzip.open(decagon_path) as file:\n",
    "    decagon = pd.read_csv(file)\n",
    "decagon.columns = ['drug1','drug2','se_id', 'se']"
   ]
  },
  {
   "cell_type": "code",
   "execution_count": 315,
   "metadata": {},
   "outputs": [],
   "source": [
    "decagon = decagon.dropna()\n",
    "duplicate = decagon[['drug1', 'drug2']]\n",
    "decagon = duplicate.drop_duplicates()"
   ]
  },
  {
   "cell_type": "code",
   "execution_count": 316,
   "metadata": {},
   "outputs": [
    {
     "name": "stderr",
     "output_type": "stream",
     "text": [
      "/home/haoxin/anaconda3/envs/pytorch-geometric/lib/python3.7/site-packages/ipykernel_launcher.py:1: SettingWithCopyWarning: \n",
      "A value is trying to be set on a copy of a slice from a DataFrame.\n",
      "Try using .loc[row_indexer,col_indexer] = value instead\n",
      "\n",
      "See the caveats in the documentation: https://pandas.pydata.org/pandas-docs/stable/user_guide/indexing.html#returning-a-view-versus-a-copy\n",
      "  \"\"\"Entry point for launching an IPython kernel.\n",
      "/home/haoxin/anaconda3/envs/pytorch-geometric/lib/python3.7/site-packages/ipykernel_launcher.py:2: SettingWithCopyWarning: \n",
      "A value is trying to be set on a copy of a slice from a DataFrame.\n",
      "Try using .loc[row_indexer,col_indexer] = value instead\n",
      "\n",
      "See the caveats in the documentation: https://pandas.pydata.org/pandas-docs/stable/user_guide/indexing.html#returning-a-view-versus-a-copy\n",
      "  \n"
     ]
    }
   ],
   "source": [
    "decagon['drug1'] = decagon['drug1'].str.split('CID0',expand=True)[1]\n",
    "decagon['drug2'] = decagon['drug2'].str.split('CID0',expand=True)[1]"
   ]
  },
  {
   "cell_type": "code",
   "execution_count": 298,
   "metadata": {},
   "outputs": [],
   "source": [
    "# decagon['drug1'] = decagon['drug1'].map(sider_names_dict)\n",
    "# decagon['drug2'] = decagon['drug2'].map(sider_names_dict)"
   ]
  },
  {
   "cell_type": "code",
   "execution_count": 317,
   "metadata": {},
   "outputs": [
    {
     "name": "stderr",
     "output_type": "stream",
     "text": [
      "/home/haoxin/anaconda3/envs/pytorch-geometric/lib/python3.7/site-packages/ipykernel_launcher.py:1: SettingWithCopyWarning: \n",
      "A value is trying to be set on a copy of a slice from a DataFrame.\n",
      "Try using .loc[row_indexer,col_indexer] = value instead\n",
      "\n",
      "See the caveats in the documentation: https://pandas.pydata.org/pandas-docs/stable/user_guide/indexing.html#returning-a-view-versus-a-copy\n",
      "  \"\"\"Entry point for launching an IPython kernel.\n",
      "/home/haoxin/anaconda3/envs/pytorch-geometric/lib/python3.7/site-packages/ipykernel_launcher.py:2: SettingWithCopyWarning: \n",
      "A value is trying to be set on a copy of a slice from a DataFrame.\n",
      "Try using .loc[row_indexer,col_indexer] = value instead\n",
      "\n",
      "See the caveats in the documentation: https://pandas.pydata.org/pandas-docs/stable/user_guide/indexing.html#returning-a-view-versus-a-copy\n",
      "  \n"
     ]
    }
   ],
   "source": [
    "decagon['drug1'] = decagon['drug1'].map(lambda x: int(x))\n",
    "decagon['drug2'] = decagon['drug2'].map(lambda x: int(x))"
   ]
  },
  {
   "cell_type": "code",
   "execution_count": 318,
   "metadata": {},
   "outputs": [],
   "source": [
    "url = 'https://raw.githubusercontent.com/dhimmel/drugbank/3e87872db5fca5ac427ce27464ab945c0ceb4ec6/data/mapping/pubchem.tsv'\n",
    "drugbank_map_df = pd.read_table(url)"
   ]
  },
  {
   "cell_type": "code",
   "execution_count": 319,
   "metadata": {},
   "outputs": [],
   "source": [
    "drugbank_vocab_dict = {pubid:drugbank for (pubid,drugbank) in \n",
    "                       zip(drugbank_map_df['pubchem_id'], drugbank_map_df['drugbank_id'])}"
   ]
  },
  {
   "cell_type": "markdown",
   "metadata": {},
   "source": [
    "map to Drugbank id"
   ]
  },
  {
   "cell_type": "code",
   "execution_count": 320,
   "metadata": {},
   "outputs": [
    {
     "name": "stderr",
     "output_type": "stream",
     "text": [
      "/home/haoxin/anaconda3/envs/pytorch-geometric/lib/python3.7/site-packages/ipykernel_launcher.py:1: SettingWithCopyWarning: \n",
      "A value is trying to be set on a copy of a slice from a DataFrame.\n",
      "Try using .loc[row_indexer,col_indexer] = value instead\n",
      "\n",
      "See the caveats in the documentation: https://pandas.pydata.org/pandas-docs/stable/user_guide/indexing.html#returning-a-view-versus-a-copy\n",
      "  \"\"\"Entry point for launching an IPython kernel.\n",
      "/home/haoxin/anaconda3/envs/pytorch-geometric/lib/python3.7/site-packages/ipykernel_launcher.py:2: SettingWithCopyWarning: \n",
      "A value is trying to be set on a copy of a slice from a DataFrame.\n",
      "Try using .loc[row_indexer,col_indexer] = value instead\n",
      "\n",
      "See the caveats in the documentation: https://pandas.pydata.org/pandas-docs/stable/user_guide/indexing.html#returning-a-view-versus-a-copy\n",
      "  \n"
     ]
    }
   ],
   "source": [
    "decagon['drug1'] = decagon['drug1'].map(drugbank_vocab_dict)\n",
    "decagon['drug2'] = decagon['drug2'].map(drugbank_vocab_dict)\n",
    "# decagon_final = decagon.dropna()"
   ]
  },
  {
   "cell_type": "code",
   "execution_count": 324,
   "metadata": {},
   "outputs": [],
   "source": [
    "decagon = decagon.dropna()"
   ]
  },
  {
   "cell_type": "code",
   "execution_count": 331,
   "metadata": {},
   "outputs": [],
   "source": [
    "decagon_final = decagon.drop_duplicates()"
   ]
  },
  {
   "cell_type": "code",
   "execution_count": 334,
   "metadata": {},
   "outputs": [],
   "source": [
    "decagon_final.to_csv('../data/clean/drug-drug-side_effects.edges',header=None, index=False)"
   ]
  },
  {
   "cell_type": "markdown",
   "metadata": {},
   "source": [
    "### StringDB"
   ]
  },
  {
   "cell_type": "code",
   "execution_count": 18,
   "metadata": {},
   "outputs": [],
   "source": [
    "stringdb_path = os.path.join('../data/raw', '9606.protein.actions.v11.0.txt.gz')\n",
    "with gzip.open(stringdb_path) as file:\n",
    "    stringdb_actions = pd.read_csv(file, sep='\\s', engine='python')"
   ]
  },
  {
   "cell_type": "code",
   "execution_count": 19,
   "metadata": {},
   "outputs": [
    {
     "data": {
      "text/html": [
       "<div>\n",
       "<style scoped>\n",
       "    .dataframe tbody tr th:only-of-type {\n",
       "        vertical-align: middle;\n",
       "    }\n",
       "\n",
       "    .dataframe tbody tr th {\n",
       "        vertical-align: top;\n",
       "    }\n",
       "\n",
       "    .dataframe thead th {\n",
       "        text-align: right;\n",
       "    }\n",
       "</style>\n",
       "<table border=\"1\" class=\"dataframe\">\n",
       "  <thead>\n",
       "    <tr style=\"text-align: right;\">\n",
       "      <th></th>\n",
       "      <th>item_id_a</th>\n",
       "      <th>item_id_b</th>\n",
       "      <th>mode</th>\n",
       "      <th>action</th>\n",
       "      <th>is_directional</th>\n",
       "      <th>a_is_acting</th>\n",
       "      <th>score</th>\n",
       "    </tr>\n",
       "  </thead>\n",
       "  <tbody>\n",
       "    <tr>\n",
       "      <th>0</th>\n",
       "      <td>9606.ENSP00000000233</td>\n",
       "      <td>9606.ENSP00000216366</td>\n",
       "      <td>binding</td>\n",
       "      <td>NaN</td>\n",
       "      <td>f</td>\n",
       "      <td>f</td>\n",
       "      <td>165</td>\n",
       "    </tr>\n",
       "    <tr>\n",
       "      <th>1</th>\n",
       "      <td>9606.ENSP00000000233</td>\n",
       "      <td>9606.ENSP00000216366</td>\n",
       "      <td>reaction</td>\n",
       "      <td>NaN</td>\n",
       "      <td>f</td>\n",
       "      <td>f</td>\n",
       "      <td>165</td>\n",
       "    </tr>\n",
       "    <tr>\n",
       "      <th>2</th>\n",
       "      <td>9606.ENSP00000000233</td>\n",
       "      <td>9606.ENSP00000216366</td>\n",
       "      <td>reaction</td>\n",
       "      <td>NaN</td>\n",
       "      <td>t</td>\n",
       "      <td>f</td>\n",
       "      <td>165</td>\n",
       "    </tr>\n",
       "    <tr>\n",
       "      <th>3</th>\n",
       "      <td>9606.ENSP00000000233</td>\n",
       "      <td>9606.ENSP00000216366</td>\n",
       "      <td>reaction</td>\n",
       "      <td>NaN</td>\n",
       "      <td>t</td>\n",
       "      <td>t</td>\n",
       "      <td>165</td>\n",
       "    </tr>\n",
       "    <tr>\n",
       "      <th>4</th>\n",
       "      <td>9606.ENSP00000000233</td>\n",
       "      <td>9606.ENSP00000222547</td>\n",
       "      <td>binding</td>\n",
       "      <td>NaN</td>\n",
       "      <td>f</td>\n",
       "      <td>f</td>\n",
       "      <td>913</td>\n",
       "    </tr>\n",
       "    <tr>\n",
       "      <th>...</th>\n",
       "      <td>...</td>\n",
       "      <td>...</td>\n",
       "      <td>...</td>\n",
       "      <td>...</td>\n",
       "      <td>...</td>\n",
       "      <td>...</td>\n",
       "      <td>...</td>\n",
       "    </tr>\n",
       "    <tr>\n",
       "      <th>3470901</th>\n",
       "      <td>9606.ENSP00000485678</td>\n",
       "      <td>9606.ENSP00000409581</td>\n",
       "      <td>inhibition</td>\n",
       "      <td>inhibition</td>\n",
       "      <td>f</td>\n",
       "      <td>f</td>\n",
       "      <td>600</td>\n",
       "    </tr>\n",
       "    <tr>\n",
       "      <th>3470902</th>\n",
       "      <td>9606.ENSP00000485678</td>\n",
       "      <td>9606.ENSP00000409581</td>\n",
       "      <td>ptmod</td>\n",
       "      <td>NaN</td>\n",
       "      <td>f</td>\n",
       "      <td>f</td>\n",
       "      <td>600</td>\n",
       "    </tr>\n",
       "    <tr>\n",
       "      <th>3470903</th>\n",
       "      <td>9606.ENSP00000485678</td>\n",
       "      <td>9606.ENSP00000438346</td>\n",
       "      <td>activation</td>\n",
       "      <td>activation</td>\n",
       "      <td>t</td>\n",
       "      <td>f</td>\n",
       "      <td>900</td>\n",
       "    </tr>\n",
       "    <tr>\n",
       "      <th>3470904</th>\n",
       "      <td>9606.ENSP00000485678</td>\n",
       "      <td>9606.ENSP00000481878</td>\n",
       "      <td>activation</td>\n",
       "      <td>activation</td>\n",
       "      <td>f</td>\n",
       "      <td>f</td>\n",
       "      <td>600</td>\n",
       "    </tr>\n",
       "    <tr>\n",
       "      <th>3470905</th>\n",
       "      <td>9606.ENSP00000485678</td>\n",
       "      <td>9606.ENSP00000481878</td>\n",
       "      <td>binding</td>\n",
       "      <td>NaN</td>\n",
       "      <td>f</td>\n",
       "      <td>f</td>\n",
       "      <td>900</td>\n",
       "    </tr>\n",
       "  </tbody>\n",
       "</table>\n",
       "<p>3470906 rows × 7 columns</p>\n",
       "</div>"
      ],
      "text/plain": [
       "                    item_id_a             item_id_b        mode      action  \\\n",
       "0        9606.ENSP00000000233  9606.ENSP00000216366     binding         NaN   \n",
       "1        9606.ENSP00000000233  9606.ENSP00000216366    reaction         NaN   \n",
       "2        9606.ENSP00000000233  9606.ENSP00000216366    reaction         NaN   \n",
       "3        9606.ENSP00000000233  9606.ENSP00000216366    reaction         NaN   \n",
       "4        9606.ENSP00000000233  9606.ENSP00000222547     binding         NaN   \n",
       "...                       ...                   ...         ...         ...   \n",
       "3470901  9606.ENSP00000485678  9606.ENSP00000409581  inhibition  inhibition   \n",
       "3470902  9606.ENSP00000485678  9606.ENSP00000409581       ptmod         NaN   \n",
       "3470903  9606.ENSP00000485678  9606.ENSP00000438346  activation  activation   \n",
       "3470904  9606.ENSP00000485678  9606.ENSP00000481878  activation  activation   \n",
       "3470905  9606.ENSP00000485678  9606.ENSP00000481878     binding         NaN   \n",
       "\n",
       "        is_directional a_is_acting  score  \n",
       "0                    f           f    165  \n",
       "1                    f           f    165  \n",
       "2                    t           f    165  \n",
       "3                    t           t    165  \n",
       "4                    f           f    913  \n",
       "...                ...         ...    ...  \n",
       "3470901              f           f    600  \n",
       "3470902              f           f    600  \n",
       "3470903              t           f    900  \n",
       "3470904              f           f    600  \n",
       "3470905              f           f    900  \n",
       "\n",
       "[3470906 rows x 7 columns]"
      ]
     },
     "execution_count": 19,
     "metadata": {},
     "output_type": "execute_result"
    }
   ],
   "source": [
    "stringdb_actions"
   ]
  },
  {
   "cell_type": "code",
   "execution_count": 20,
   "metadata": {},
   "outputs": [
    {
     "data": {
      "text/plain": [
       "array(['binding', 'reaction', 'catalysis', 'activation', 'inhibition',\n",
       "       'ptmod', 'expression'], dtype=object)"
      ]
     },
     "execution_count": 20,
     "metadata": {},
     "output_type": "execute_result"
    }
   ],
   "source": [
    "pd.unique(stringdb_actions['mode'])"
   ]
  },
  {
   "cell_type": "code",
   "execution_count": 21,
   "metadata": {},
   "outputs": [],
   "source": [
    "stringdb_actions = stringdb_actions[['item_id_a', 'item_id_b', 'mode']]\n",
    "stringdb_actions.columns = ['gene1','gene2','mode']"
   ]
  },
  {
   "cell_type": "code",
   "execution_count": 22,
   "metadata": {},
   "outputs": [
    {
     "name": "stderr",
     "output_type": "stream",
     "text": [
      "/home/haoxin/anaconda3/envs/pytorch-geometric/lib/python3.7/site-packages/ipykernel_launcher.py:1: SettingWithCopyWarning: \n",
      "A value is trying to be set on a copy of a slice from a DataFrame.\n",
      "Try using .loc[row_indexer,col_indexer] = value instead\n",
      "\n",
      "See the caveats in the documentation: https://pandas.pydata.org/pandas-docs/stable/user_guide/indexing.html#returning-a-view-versus-a-copy\n",
      "  \"\"\"Entry point for launching an IPython kernel.\n",
      "/home/haoxin/anaconda3/envs/pytorch-geometric/lib/python3.7/site-packages/ipykernel_launcher.py:2: SettingWithCopyWarning: \n",
      "A value is trying to be set on a copy of a slice from a DataFrame.\n",
      "Try using .loc[row_indexer,col_indexer] = value instead\n",
      "\n",
      "See the caveats in the documentation: https://pandas.pydata.org/pandas-docs/stable/user_guide/indexing.html#returning-a-view-versus-a-copy\n",
      "  \n"
     ]
    }
   ],
   "source": [
    "stringdb_actions['gene1'] = stringdb_actions['gene1'].str.split('.',expand=True)[1]\n",
    "stringdb_actions['gene2'] = stringdb_actions['gene2'].str.split('.',expand=True)[1]"
   ]
  },
  {
   "cell_type": "code",
   "execution_count": 23,
   "metadata": {},
   "outputs": [
    {
     "name": "stderr",
     "output_type": "stream",
     "text": [
      "/home/haoxin/anaconda3/envs/pytorch-geometric/lib/python3.7/site-packages/ipykernel_launcher.py:1: SettingWithCopyWarning: \n",
      "A value is trying to be set on a copy of a slice from a DataFrame.\n",
      "Try using .loc[row_indexer,col_indexer] = value instead\n",
      "\n",
      "See the caveats in the documentation: https://pandas.pydata.org/pandas-docs/stable/user_guide/indexing.html#returning-a-view-versus-a-copy\n",
      "  \"\"\"Entry point for launching an IPython kernel.\n",
      "/home/haoxin/anaconda3/envs/pytorch-geometric/lib/python3.7/site-packages/ipykernel_launcher.py:2: SettingWithCopyWarning: \n",
      "A value is trying to be set on a copy of a slice from a DataFrame.\n",
      "Try using .loc[row_indexer,col_indexer] = value instead\n",
      "\n",
      "See the caveats in the documentation: https://pandas.pydata.org/pandas-docs/stable/user_guide/indexing.html#returning-a-view-versus-a-copy\n",
      "  \n"
     ]
    }
   ],
   "source": [
    "stringdb_actions['gene1'] = stringdb_actions['gene1'].map(gene_mapping)\n",
    "stringdb_actions['gene2'] = stringdb_actions['gene2'].map(gene_mapping)"
   ]
  },
  {
   "cell_type": "code",
   "execution_count": 24,
   "metadata": {},
   "outputs": [],
   "source": [
    "# filter genes 1\n",
    "stringdb_actions = stringdb_actions[(stringdb_actions['gene1'].isin(all_genes[0]))]\n",
    "\n",
    "# filter disease\n",
    "stringdb_actions = stringdb_actions[(stringdb_actions['gene2'].isin(all_genes[0]))]"
   ]
  },
  {
   "cell_type": "code",
   "execution_count": 25,
   "metadata": {},
   "outputs": [],
   "source": [
    "stringdb_actions = stringdb_actions.drop_duplicates()"
   ]
  },
  {
   "cell_type": "code",
   "execution_count": 26,
   "metadata": {},
   "outputs": [],
   "source": [
    "stringdb_actions.to_csv('../data/clean/gene-gene-association.edges',header=None, index=False)"
   ]
  },
  {
   "cell_type": "code",
   "execution_count": null,
   "metadata": {},
   "outputs": [],
   "source": []
  }
 ],
 "metadata": {
  "kernelspec": {
   "display_name": "Python 3",
   "language": "python",
   "name": "python3"
  },
  "language_info": {
   "codemirror_mode": {
    "name": "ipython",
    "version": 3
   },
   "file_extension": ".py",
   "mimetype": "text/x-python",
   "name": "python",
   "nbconvert_exporter": "python",
   "pygments_lexer": "ipython3",
   "version": "3.7.6"
  }
 },
 "nbformat": 4,
 "nbformat_minor": 4
}
