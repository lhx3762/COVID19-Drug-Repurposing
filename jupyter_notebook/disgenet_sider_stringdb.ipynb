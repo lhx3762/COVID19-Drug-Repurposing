{
 "cells": [
  {
   "cell_type": "code",
   "execution_count": 15,
   "metadata": {},
   "outputs": [],
   "source": [
    "import pandas as pd\n",
    "import os\n",
    "from zipfile import ZipFile \n",
    "import re\n",
    "import collections\n",
    "import numpy as np\n",
    "import xmltodict\n",
    "import gzip"
   ]
  },
  {
   "cell_type": "code",
   "execution_count": 16,
   "metadata": {},
   "outputs": [],
   "source": [
    "ENSP_geneid_path = os.path.join('../data/raw', 'ENSP_geneid.csv')\n",
    "ENSP_geneid = pd.read_csv(ENSP_geneid_path)"
   ]
  },
  {
   "cell_type": "code",
   "execution_count": 17,
   "metadata": {},
   "outputs": [],
   "source": [
    "gene_mapping = {ensp:geneid for (ensp, geneid) in zip(ENSP_geneid['initial_alias'], (ENSP_geneid['name']))}"
   ]
  },
  {
   "cell_type": "markdown",
   "metadata": {},
   "source": [
    "### get possible genes, disease drugs from other file"
   ]
  },
  {
   "cell_type": "code",
   "execution_count": 5,
   "metadata": {},
   "outputs": [],
   "source": [
    "all_genes = pd.read_csv('../data/clean/genes.nodes',header=None)"
   ]
  },
  {
   "cell_type": "code",
   "execution_count": 6,
   "metadata": {},
   "outputs": [
    {
     "data": {
      "text/html": [
       "<div>\n",
       "<style scoped>\n",
       "    .dataframe tbody tr th:only-of-type {\n",
       "        vertical-align: middle;\n",
       "    }\n",
       "\n",
       "    .dataframe tbody tr th {\n",
       "        vertical-align: top;\n",
       "    }\n",
       "\n",
       "    .dataframe thead th {\n",
       "        text-align: right;\n",
       "    }\n",
       "</style>\n",
       "<table border=\"1\" class=\"dataframe\">\n",
       "  <thead>\n",
       "    <tr style=\"text-align: right;\">\n",
       "      <th></th>\n",
       "      <th>0</th>\n",
       "    </tr>\n",
       "  </thead>\n",
       "  <tbody>\n",
       "    <tr>\n",
       "      <th>0</th>\n",
       "      <td>A1BG</td>\n",
       "    </tr>\n",
       "    <tr>\n",
       "      <th>1</th>\n",
       "      <td>A1CF</td>\n",
       "    </tr>\n",
       "    <tr>\n",
       "      <th>2</th>\n",
       "      <td>AACS</td>\n",
       "    </tr>\n",
       "    <tr>\n",
       "      <th>3</th>\n",
       "      <td>AADAC</td>\n",
       "    </tr>\n",
       "    <tr>\n",
       "      <th>4</th>\n",
       "      <td>AADACL2</td>\n",
       "    </tr>\n",
       "  </tbody>\n",
       "</table>\n",
       "</div>"
      ],
      "text/plain": [
       "         0\n",
       "0     A1BG\n",
       "1     A1CF\n",
       "2     AACS\n",
       "3    AADAC\n",
       "4  AADACL2"
      ]
     },
     "execution_count": 6,
     "metadata": {},
     "output_type": "execute_result"
    }
   ],
   "source": [
    "all_genes.head()"
   ]
  },
  {
   "cell_type": "code",
   "execution_count": 7,
   "metadata": {},
   "outputs": [
    {
     "data": {
      "text/html": [
       "<div>\n",
       "<style scoped>\n",
       "    .dataframe tbody tr th:only-of-type {\n",
       "        vertical-align: middle;\n",
       "    }\n",
       "\n",
       "    .dataframe tbody tr th {\n",
       "        vertical-align: top;\n",
       "    }\n",
       "\n",
       "    .dataframe thead th {\n",
       "        text-align: right;\n",
       "    }\n",
       "</style>\n",
       "<table border=\"1\" class=\"dataframe\">\n",
       "  <thead>\n",
       "    <tr style=\"text-align: right;\">\n",
       "      <th></th>\n",
       "      <th>0</th>\n",
       "    </tr>\n",
       "  </thead>\n",
       "  <tbody>\n",
       "    <tr>\n",
       "      <th>0</th>\n",
       "      <td>C0000737</td>\n",
       "    </tr>\n",
       "    <tr>\n",
       "      <th>1</th>\n",
       "      <td>C0000810</td>\n",
       "    </tr>\n",
       "    <tr>\n",
       "      <th>2</th>\n",
       "      <td>C0000880</td>\n",
       "    </tr>\n",
       "    <tr>\n",
       "      <th>3</th>\n",
       "      <td>C0001126</td>\n",
       "    </tr>\n",
       "    <tr>\n",
       "      <th>4</th>\n",
       "      <td>C0001144</td>\n",
       "    </tr>\n",
       "  </tbody>\n",
       "</table>\n",
       "</div>"
      ],
      "text/plain": [
       "          0\n",
       "0  C0000737\n",
       "1  C0000810\n",
       "2  C0000880\n",
       "3  C0001126\n",
       "4  C0001144"
      ]
     },
     "execution_count": 7,
     "metadata": {},
     "output_type": "execute_result"
    }
   ],
   "source": [
    "all_disease = pd.read_csv('../data/clean/diseases.nodes',header=None)\n",
    "all_disease.head()"
   ]
  },
  {
   "cell_type": "code",
   "execution_count": 8,
   "metadata": {},
   "outputs": [
    {
     "data": {
      "text/html": [
       "<div>\n",
       "<style scoped>\n",
       "    .dataframe tbody tr th:only-of-type {\n",
       "        vertical-align: middle;\n",
       "    }\n",
       "\n",
       "    .dataframe tbody tr th {\n",
       "        vertical-align: top;\n",
       "    }\n",
       "\n",
       "    .dataframe thead th {\n",
       "        text-align: right;\n",
       "    }\n",
       "</style>\n",
       "<table border=\"1\" class=\"dataframe\">\n",
       "  <thead>\n",
       "    <tr style=\"text-align: right;\">\n",
       "      <th></th>\n",
       "      <th>0</th>\n",
       "    </tr>\n",
       "  </thead>\n",
       "  <tbody>\n",
       "    <tr>\n",
       "      <th>0</th>\n",
       "      <td>1</td>\n",
       "    </tr>\n",
       "    <tr>\n",
       "      <th>1</th>\n",
       "      <td>137</td>\n",
       "    </tr>\n",
       "    <tr>\n",
       "      <th>2</th>\n",
       "      <td>174</td>\n",
       "    </tr>\n",
       "    <tr>\n",
       "      <th>3</th>\n",
       "      <td>176</td>\n",
       "    </tr>\n",
       "    <tr>\n",
       "      <th>4</th>\n",
       "      <td>204</td>\n",
       "    </tr>\n",
       "    <tr>\n",
       "      <th>...</th>\n",
       "      <td>...</td>\n",
       "    </tr>\n",
       "    <tr>\n",
       "      <th>2518</th>\n",
       "      <td>139031013</td>\n",
       "    </tr>\n",
       "    <tr>\n",
       "      <th>2519</th>\n",
       "      <td>139266768</td>\n",
       "    </tr>\n",
       "    <tr>\n",
       "      <th>2520</th>\n",
       "      <td>139595263</td>\n",
       "    </tr>\n",
       "    <tr>\n",
       "      <th>2521</th>\n",
       "      <td>145712321</td>\n",
       "    </tr>\n",
       "    <tr>\n",
       "      <th>2522</th>\n",
       "      <td>145721395</td>\n",
       "    </tr>\n",
       "  </tbody>\n",
       "</table>\n",
       "<p>2523 rows × 1 columns</p>\n",
       "</div>"
      ],
      "text/plain": [
       "              0\n",
       "0             1\n",
       "1           137\n",
       "2           174\n",
       "3           176\n",
       "4           204\n",
       "...         ...\n",
       "2518  139031013\n",
       "2519  139266768\n",
       "2520  139595263\n",
       "2521  145712321\n",
       "2522  145721395\n",
       "\n",
       "[2523 rows x 1 columns]"
      ]
     },
     "execution_count": 8,
     "metadata": {},
     "output_type": "execute_result"
    }
   ],
   "source": [
    "all_drugs = pd.read_csv('../data/clean/drugs.nodes',header=None)\n",
    "all_drugs"
   ]
  },
  {
   "cell_type": "markdown",
   "metadata": {},
   "source": [
    "### Disgenet"
   ]
  },
  {
   "cell_type": "code",
   "execution_count": 9,
   "metadata": {},
   "outputs": [],
   "source": [
    "disgenet_path = os.path.join('../data/raw', 'curated_gene_disease_associations.tsv.gz')\n",
    "with gzip.open(disgenet_path) as file:\n",
    "    disgenet = pd.read_csv(file, sep='\\t', engine='python')"
   ]
  },
  {
   "cell_type": "code",
   "execution_count": 10,
   "metadata": {},
   "outputs": [],
   "source": [
    "disgenet = disgenet[['geneSymbol', 'diseaseId', 'diseaseSemanticType']]"
   ]
  },
  {
   "cell_type": "code",
   "execution_count": 11,
   "metadata": {},
   "outputs": [],
   "source": [
    "# filter genes\n",
    "disgenet = disgenet[(disgenet['geneSymbol'].isin(all_genes[0]))]\n",
    "\n",
    "# filter disease\n",
    "disgenet = disgenet[disgenet['diseaseId'].isin(all_disease[0])]"
   ]
  },
  {
   "cell_type": "code",
   "execution_count": 12,
   "metadata": {},
   "outputs": [
    {
     "data": {
      "text/html": [
       "<div>\n",
       "<style scoped>\n",
       "    .dataframe tbody tr th:only-of-type {\n",
       "        vertical-align: middle;\n",
       "    }\n",
       "\n",
       "    .dataframe tbody tr th {\n",
       "        vertical-align: top;\n",
       "    }\n",
       "\n",
       "    .dataframe thead th {\n",
       "        text-align: right;\n",
       "    }\n",
       "</style>\n",
       "<table border=\"1\" class=\"dataframe\">\n",
       "  <thead>\n",
       "    <tr style=\"text-align: right;\">\n",
       "      <th></th>\n",
       "      <th>geneSymbol</th>\n",
       "      <th>diseaseId</th>\n",
       "      <th>diseaseSemanticType</th>\n",
       "    </tr>\n",
       "  </thead>\n",
       "  <tbody>\n",
       "    <tr>\n",
       "      <th>1</th>\n",
       "      <td>A1BG</td>\n",
       "      <td>C0036341</td>\n",
       "      <td>Mental or Behavioral Dysfunction</td>\n",
       "    </tr>\n",
       "    <tr>\n",
       "      <th>28</th>\n",
       "      <td>NAT1</td>\n",
       "      <td>C0001973</td>\n",
       "      <td>Mental or Behavioral Dysfunction</td>\n",
       "    </tr>\n",
       "    <tr>\n",
       "      <th>30</th>\n",
       "      <td>NAT1</td>\n",
       "      <td>C0005684</td>\n",
       "      <td>Neoplastic Process</td>\n",
       "    </tr>\n",
       "    <tr>\n",
       "      <th>37</th>\n",
       "      <td>NAT1</td>\n",
       "      <td>C0033578</td>\n",
       "      <td>Neoplastic Process</td>\n",
       "    </tr>\n",
       "    <tr>\n",
       "      <th>41</th>\n",
       "      <td>NAT1</td>\n",
       "      <td>C0376358</td>\n",
       "      <td>Neoplastic Process</td>\n",
       "    </tr>\n",
       "    <tr>\n",
       "      <th>...</th>\n",
       "      <td>...</td>\n",
       "      <td>...</td>\n",
       "      <td>...</td>\n",
       "    </tr>\n",
       "    <tr>\n",
       "      <th>81564</th>\n",
       "      <td>OCLN</td>\n",
       "      <td>C0006142</td>\n",
       "      <td>Neoplastic Process</td>\n",
       "    </tr>\n",
       "    <tr>\n",
       "      <th>81567</th>\n",
       "      <td>OCLN</td>\n",
       "      <td>C0007820</td>\n",
       "      <td>Disease or Syndrome</td>\n",
       "    </tr>\n",
       "    <tr>\n",
       "      <th>81568</th>\n",
       "      <td>OCLN</td>\n",
       "      <td>C0019156</td>\n",
       "      <td>Disease or Syndrome</td>\n",
       "    </tr>\n",
       "    <tr>\n",
       "      <th>81576</th>\n",
       "      <td>OCLN</td>\n",
       "      <td>C0678222</td>\n",
       "      <td>Neoplastic Process</td>\n",
       "    </tr>\n",
       "    <tr>\n",
       "      <th>81585</th>\n",
       "      <td>CASP12</td>\n",
       "      <td>C0011854</td>\n",
       "      <td>Disease or Syndrome</td>\n",
       "    </tr>\n",
       "  </tbody>\n",
       "</table>\n",
       "<p>11413 rows × 3 columns</p>\n",
       "</div>"
      ],
      "text/plain": [
       "      geneSymbol diseaseId               diseaseSemanticType\n",
       "1           A1BG  C0036341  Mental or Behavioral Dysfunction\n",
       "28          NAT1  C0001973  Mental or Behavioral Dysfunction\n",
       "30          NAT1  C0005684                Neoplastic Process\n",
       "37          NAT1  C0033578                Neoplastic Process\n",
       "41          NAT1  C0376358                Neoplastic Process\n",
       "...          ...       ...                               ...\n",
       "81564       OCLN  C0006142                Neoplastic Process\n",
       "81567       OCLN  C0007820               Disease or Syndrome\n",
       "81568       OCLN  C0019156               Disease or Syndrome\n",
       "81576       OCLN  C0678222                Neoplastic Process\n",
       "81585     CASP12  C0011854               Disease or Syndrome\n",
       "\n",
       "[11413 rows x 3 columns]"
      ]
     },
     "execution_count": 12,
     "metadata": {},
     "output_type": "execute_result"
    }
   ],
   "source": [
    "disgenet"
   ]
  },
  {
   "cell_type": "code",
   "execution_count": 13,
   "metadata": {},
   "outputs": [],
   "source": [
    "disgenet[['geneSymbol', 'diseaseId']].to_csv('../data/clean/gene-disease-association.edges',header=None,index=False)"
   ]
  },
  {
   "cell_type": "markdown",
   "metadata": {},
   "source": [
    "After filtering, only 57526 overlap with STITCH and drugcentral"
   ]
  },
  {
   "cell_type": "markdown",
   "metadata": {},
   "source": [
    "### SIDER"
   ]
  },
  {
   "cell_type": "code",
   "execution_count": 347,
   "metadata": {},
   "outputs": [],
   "source": [
    "sider_path = os.path.join('../data/raw', 'meddra_all_se.tsv.gz')\n",
    "with gzip.open(sider_path) as file:\n",
    "    sider = pd.read_csv(file, sep='\\t', engine='python',header=None)"
   ]
  },
  {
   "cell_type": "code",
   "execution_count": 348,
   "metadata": {},
   "outputs": [],
   "source": [
    "sider = sider[[0, 1, 5]]\n",
    "sider.columns = ['drug1', 'drug2', 'side_effect']"
   ]
  },
  {
   "cell_type": "code",
   "execution_count": 349,
   "metadata": {},
   "outputs": [],
   "source": [
    "sider['drug1'] = pd.to_numeric(sider['drug1'].map(lambda x: x[4:]))\n",
    "sider['drug2'] = pd.to_numeric(sider['drug2'].map(lambda x: x[4:]))"
   ]
  },
  {
   "cell_type": "code",
   "execution_count": 354,
   "metadata": {},
   "outputs": [],
   "source": [
    "# drop duplicates\n",
    "sider =sider.iloc[sider[['drug1','drug2']].drop_duplicates().index]"
   ]
  },
  {
   "cell_type": "code",
   "execution_count": 355,
   "metadata": {},
   "outputs": [
    {
     "data": {
      "text/html": [
       "<div>\n",
       "<style scoped>\n",
       "    .dataframe tbody tr th:only-of-type {\n",
       "        vertical-align: middle;\n",
       "    }\n",
       "\n",
       "    .dataframe tbody tr th {\n",
       "        vertical-align: top;\n",
       "    }\n",
       "\n",
       "    .dataframe thead th {\n",
       "        text-align: right;\n",
       "    }\n",
       "</style>\n",
       "<table border=\"1\" class=\"dataframe\">\n",
       "  <thead>\n",
       "    <tr style=\"text-align: right;\">\n",
       "      <th></th>\n",
       "      <th>drug1</th>\n",
       "      <th>drug2</th>\n",
       "      <th>side_effect</th>\n",
       "    </tr>\n",
       "  </thead>\n",
       "  <tbody>\n",
       "    <tr>\n",
       "      <th>0</th>\n",
       "      <td>85</td>\n",
       "      <td>10917</td>\n",
       "      <td>Abdominal cramps</td>\n",
       "    </tr>\n",
       "    <tr>\n",
       "      <th>141</th>\n",
       "      <td>119</td>\n",
       "      <td>119</td>\n",
       "      <td>Anaphylactic shock</td>\n",
       "    </tr>\n",
       "    <tr>\n",
       "      <th>151</th>\n",
       "      <td>137</td>\n",
       "      <td>137</td>\n",
       "      <td>Anaemia</td>\n",
       "    </tr>\n",
       "    <tr>\n",
       "      <th>322</th>\n",
       "      <td>143</td>\n",
       "      <td>143</td>\n",
       "      <td>Alopecia</td>\n",
       "    </tr>\n",
       "    <tr>\n",
       "      <th>382</th>\n",
       "      <td>143</td>\n",
       "      <td>6006</td>\n",
       "      <td>Alopecia</td>\n",
       "    </tr>\n",
       "    <tr>\n",
       "      <th>...</th>\n",
       "      <td>...</td>\n",
       "      <td>...</td>\n",
       "      <td>...</td>\n",
       "    </tr>\n",
       "    <tr>\n",
       "      <th>308303</th>\n",
       "      <td>56603655</td>\n",
       "      <td>56603655</td>\n",
       "      <td>Anaphylactic shock</td>\n",
       "    </tr>\n",
       "    <tr>\n",
       "      <th>308570</th>\n",
       "      <td>56842239</td>\n",
       "      <td>56842239</td>\n",
       "      <td>Anaphylactic shock</td>\n",
       "    </tr>\n",
       "    <tr>\n",
       "      <th>308597</th>\n",
       "      <td>70683024</td>\n",
       "      <td>70683024</td>\n",
       "      <td>Angioedema</td>\n",
       "    </tr>\n",
       "    <tr>\n",
       "      <th>308668</th>\n",
       "      <td>70695640</td>\n",
       "      <td>70695640</td>\n",
       "      <td>Abdominal pain</td>\n",
       "    </tr>\n",
       "    <tr>\n",
       "      <th>308847</th>\n",
       "      <td>71306834</td>\n",
       "      <td>71306834</td>\n",
       "      <td>Abdominal distension</td>\n",
       "    </tr>\n",
       "  </tbody>\n",
       "</table>\n",
       "<p>1556 rows × 3 columns</p>\n",
       "</div>"
      ],
      "text/plain": [
       "           drug1     drug2           side_effect\n",
       "0             85     10917      Abdominal cramps\n",
       "141          119       119    Anaphylactic shock\n",
       "151          137       137               Anaemia\n",
       "322          143       143              Alopecia\n",
       "382          143      6006              Alopecia\n",
       "...          ...       ...                   ...\n",
       "308303  56603655  56603655    Anaphylactic shock\n",
       "308570  56842239  56842239    Anaphylactic shock\n",
       "308597  70683024  70683024            Angioedema\n",
       "308668  70695640  70695640        Abdominal pain\n",
       "308847  71306834  71306834  Abdominal distension\n",
       "\n",
       "[1556 rows x 3 columns]"
      ]
     },
     "execution_count": 355,
     "metadata": {},
     "output_type": "execute_result"
    }
   ],
   "source": [
    "sider"
   ]
  },
  {
   "cell_type": "code",
   "execution_count": 344,
   "metadata": {},
   "outputs": [],
   "source": [
    "sider = sider[(sider['drug1'].isin(all_drugs[0]))]\n",
    "sider = sider[(sider['drug2'].isin(all_drugs[0]))]"
   ]
  },
  {
   "cell_type": "code",
   "execution_count": 258,
   "metadata": {},
   "outputs": [],
   "source": [
    "sider['drug1'] = sider['drug1'].apply(lambda x:int(x))\n",
    "# sider['drug2'] = sider['drug2'].apply(lambda x:int(x))"
   ]
  },
  {
   "cell_type": "code",
   "execution_count": 248,
   "metadata": {},
   "outputs": [
    {
     "data": {
      "text/plain": [
       "130135"
      ]
     },
     "execution_count": 248,
     "metadata": {},
     "output_type": "execute_result"
    }
   ],
   "source": [
    "(sider['drug1'] == sider['drug2']).sum() "
   ]
  },
  {
   "cell_type": "code",
   "execution_count": 356,
   "metadata": {},
   "outputs": [
    {
     "data": {
      "text/plain": [
       "0"
      ]
     },
     "execution_count": 356,
     "metadata": {},
     "output_type": "execute_result"
    }
   ],
   "source": [
    "(all_drugs[0] == 119).sum()"
   ]
  },
  {
   "cell_type": "markdown",
   "metadata": {},
   "source": [
    "### StringDB"
   ]
  },
  {
   "cell_type": "code",
   "execution_count": 18,
   "metadata": {},
   "outputs": [],
   "source": [
    "stringdb_path = os.path.join('../data/raw', '9606.protein.actions.v11.0.txt.gz')\n",
    "with gzip.open(stringdb_path) as file:\n",
    "    stringdb_actions = pd.read_csv(file, sep='\\s', engine='python')"
   ]
  },
  {
   "cell_type": "code",
   "execution_count": 19,
   "metadata": {},
   "outputs": [
    {
     "data": {
      "text/html": [
       "<div>\n",
       "<style scoped>\n",
       "    .dataframe tbody tr th:only-of-type {\n",
       "        vertical-align: middle;\n",
       "    }\n",
       "\n",
       "    .dataframe tbody tr th {\n",
       "        vertical-align: top;\n",
       "    }\n",
       "\n",
       "    .dataframe thead th {\n",
       "        text-align: right;\n",
       "    }\n",
       "</style>\n",
       "<table border=\"1\" class=\"dataframe\">\n",
       "  <thead>\n",
       "    <tr style=\"text-align: right;\">\n",
       "      <th></th>\n",
       "      <th>item_id_a</th>\n",
       "      <th>item_id_b</th>\n",
       "      <th>mode</th>\n",
       "      <th>action</th>\n",
       "      <th>is_directional</th>\n",
       "      <th>a_is_acting</th>\n",
       "      <th>score</th>\n",
       "    </tr>\n",
       "  </thead>\n",
       "  <tbody>\n",
       "    <tr>\n",
       "      <th>0</th>\n",
       "      <td>9606.ENSP00000000233</td>\n",
       "      <td>9606.ENSP00000216366</td>\n",
       "      <td>binding</td>\n",
       "      <td>NaN</td>\n",
       "      <td>f</td>\n",
       "      <td>f</td>\n",
       "      <td>165</td>\n",
       "    </tr>\n",
       "    <tr>\n",
       "      <th>1</th>\n",
       "      <td>9606.ENSP00000000233</td>\n",
       "      <td>9606.ENSP00000216366</td>\n",
       "      <td>reaction</td>\n",
       "      <td>NaN</td>\n",
       "      <td>f</td>\n",
       "      <td>f</td>\n",
       "      <td>165</td>\n",
       "    </tr>\n",
       "    <tr>\n",
       "      <th>2</th>\n",
       "      <td>9606.ENSP00000000233</td>\n",
       "      <td>9606.ENSP00000216366</td>\n",
       "      <td>reaction</td>\n",
       "      <td>NaN</td>\n",
       "      <td>t</td>\n",
       "      <td>f</td>\n",
       "      <td>165</td>\n",
       "    </tr>\n",
       "    <tr>\n",
       "      <th>3</th>\n",
       "      <td>9606.ENSP00000000233</td>\n",
       "      <td>9606.ENSP00000216366</td>\n",
       "      <td>reaction</td>\n",
       "      <td>NaN</td>\n",
       "      <td>t</td>\n",
       "      <td>t</td>\n",
       "      <td>165</td>\n",
       "    </tr>\n",
       "    <tr>\n",
       "      <th>4</th>\n",
       "      <td>9606.ENSP00000000233</td>\n",
       "      <td>9606.ENSP00000222547</td>\n",
       "      <td>binding</td>\n",
       "      <td>NaN</td>\n",
       "      <td>f</td>\n",
       "      <td>f</td>\n",
       "      <td>913</td>\n",
       "    </tr>\n",
       "    <tr>\n",
       "      <th>...</th>\n",
       "      <td>...</td>\n",
       "      <td>...</td>\n",
       "      <td>...</td>\n",
       "      <td>...</td>\n",
       "      <td>...</td>\n",
       "      <td>...</td>\n",
       "      <td>...</td>\n",
       "    </tr>\n",
       "    <tr>\n",
       "      <th>3470901</th>\n",
       "      <td>9606.ENSP00000485678</td>\n",
       "      <td>9606.ENSP00000409581</td>\n",
       "      <td>inhibition</td>\n",
       "      <td>inhibition</td>\n",
       "      <td>f</td>\n",
       "      <td>f</td>\n",
       "      <td>600</td>\n",
       "    </tr>\n",
       "    <tr>\n",
       "      <th>3470902</th>\n",
       "      <td>9606.ENSP00000485678</td>\n",
       "      <td>9606.ENSP00000409581</td>\n",
       "      <td>ptmod</td>\n",
       "      <td>NaN</td>\n",
       "      <td>f</td>\n",
       "      <td>f</td>\n",
       "      <td>600</td>\n",
       "    </tr>\n",
       "    <tr>\n",
       "      <th>3470903</th>\n",
       "      <td>9606.ENSP00000485678</td>\n",
       "      <td>9606.ENSP00000438346</td>\n",
       "      <td>activation</td>\n",
       "      <td>activation</td>\n",
       "      <td>t</td>\n",
       "      <td>f</td>\n",
       "      <td>900</td>\n",
       "    </tr>\n",
       "    <tr>\n",
       "      <th>3470904</th>\n",
       "      <td>9606.ENSP00000485678</td>\n",
       "      <td>9606.ENSP00000481878</td>\n",
       "      <td>activation</td>\n",
       "      <td>activation</td>\n",
       "      <td>f</td>\n",
       "      <td>f</td>\n",
       "      <td>600</td>\n",
       "    </tr>\n",
       "    <tr>\n",
       "      <th>3470905</th>\n",
       "      <td>9606.ENSP00000485678</td>\n",
       "      <td>9606.ENSP00000481878</td>\n",
       "      <td>binding</td>\n",
       "      <td>NaN</td>\n",
       "      <td>f</td>\n",
       "      <td>f</td>\n",
       "      <td>900</td>\n",
       "    </tr>\n",
       "  </tbody>\n",
       "</table>\n",
       "<p>3470906 rows × 7 columns</p>\n",
       "</div>"
      ],
      "text/plain": [
       "                    item_id_a             item_id_b        mode      action  \\\n",
       "0        9606.ENSP00000000233  9606.ENSP00000216366     binding         NaN   \n",
       "1        9606.ENSP00000000233  9606.ENSP00000216366    reaction         NaN   \n",
       "2        9606.ENSP00000000233  9606.ENSP00000216366    reaction         NaN   \n",
       "3        9606.ENSP00000000233  9606.ENSP00000216366    reaction         NaN   \n",
       "4        9606.ENSP00000000233  9606.ENSP00000222547     binding         NaN   \n",
       "...                       ...                   ...         ...         ...   \n",
       "3470901  9606.ENSP00000485678  9606.ENSP00000409581  inhibition  inhibition   \n",
       "3470902  9606.ENSP00000485678  9606.ENSP00000409581       ptmod         NaN   \n",
       "3470903  9606.ENSP00000485678  9606.ENSP00000438346  activation  activation   \n",
       "3470904  9606.ENSP00000485678  9606.ENSP00000481878  activation  activation   \n",
       "3470905  9606.ENSP00000485678  9606.ENSP00000481878     binding         NaN   \n",
       "\n",
       "        is_directional a_is_acting  score  \n",
       "0                    f           f    165  \n",
       "1                    f           f    165  \n",
       "2                    t           f    165  \n",
       "3                    t           t    165  \n",
       "4                    f           f    913  \n",
       "...                ...         ...    ...  \n",
       "3470901              f           f    600  \n",
       "3470902              f           f    600  \n",
       "3470903              t           f    900  \n",
       "3470904              f           f    600  \n",
       "3470905              f           f    900  \n",
       "\n",
       "[3470906 rows x 7 columns]"
      ]
     },
     "execution_count": 19,
     "metadata": {},
     "output_type": "execute_result"
    }
   ],
   "source": [
    "stringdb_actions"
   ]
  },
  {
   "cell_type": "code",
   "execution_count": 20,
   "metadata": {},
   "outputs": [
    {
     "data": {
      "text/plain": [
       "array(['binding', 'reaction', 'catalysis', 'activation', 'inhibition',\n",
       "       'ptmod', 'expression'], dtype=object)"
      ]
     },
     "execution_count": 20,
     "metadata": {},
     "output_type": "execute_result"
    }
   ],
   "source": [
    "pd.unique(stringdb_actions['mode'])"
   ]
  },
  {
   "cell_type": "code",
   "execution_count": 21,
   "metadata": {},
   "outputs": [],
   "source": [
    "stringdb_actions = stringdb_actions[['item_id_a', 'item_id_b', 'mode']]\n",
    "stringdb_actions.columns = ['gene1','gene2','mode']"
   ]
  },
  {
   "cell_type": "code",
   "execution_count": 22,
   "metadata": {},
   "outputs": [
    {
     "name": "stderr",
     "output_type": "stream",
     "text": [
      "/home/haoxin/anaconda3/envs/pytorch-geometric/lib/python3.7/site-packages/ipykernel_launcher.py:1: SettingWithCopyWarning: \n",
      "A value is trying to be set on a copy of a slice from a DataFrame.\n",
      "Try using .loc[row_indexer,col_indexer] = value instead\n",
      "\n",
      "See the caveats in the documentation: https://pandas.pydata.org/pandas-docs/stable/user_guide/indexing.html#returning-a-view-versus-a-copy\n",
      "  \"\"\"Entry point for launching an IPython kernel.\n",
      "/home/haoxin/anaconda3/envs/pytorch-geometric/lib/python3.7/site-packages/ipykernel_launcher.py:2: SettingWithCopyWarning: \n",
      "A value is trying to be set on a copy of a slice from a DataFrame.\n",
      "Try using .loc[row_indexer,col_indexer] = value instead\n",
      "\n",
      "See the caveats in the documentation: https://pandas.pydata.org/pandas-docs/stable/user_guide/indexing.html#returning-a-view-versus-a-copy\n",
      "  \n"
     ]
    }
   ],
   "source": [
    "stringdb_actions['gene1'] = stringdb_actions['gene1'].str.split('.',expand=True)[1]\n",
    "stringdb_actions['gene2'] = stringdb_actions['gene2'].str.split('.',expand=True)[1]"
   ]
  },
  {
   "cell_type": "code",
   "execution_count": 23,
   "metadata": {},
   "outputs": [
    {
     "name": "stderr",
     "output_type": "stream",
     "text": [
      "/home/haoxin/anaconda3/envs/pytorch-geometric/lib/python3.7/site-packages/ipykernel_launcher.py:1: SettingWithCopyWarning: \n",
      "A value is trying to be set on a copy of a slice from a DataFrame.\n",
      "Try using .loc[row_indexer,col_indexer] = value instead\n",
      "\n",
      "See the caveats in the documentation: https://pandas.pydata.org/pandas-docs/stable/user_guide/indexing.html#returning-a-view-versus-a-copy\n",
      "  \"\"\"Entry point for launching an IPython kernel.\n",
      "/home/haoxin/anaconda3/envs/pytorch-geometric/lib/python3.7/site-packages/ipykernel_launcher.py:2: SettingWithCopyWarning: \n",
      "A value is trying to be set on a copy of a slice from a DataFrame.\n",
      "Try using .loc[row_indexer,col_indexer] = value instead\n",
      "\n",
      "See the caveats in the documentation: https://pandas.pydata.org/pandas-docs/stable/user_guide/indexing.html#returning-a-view-versus-a-copy\n",
      "  \n"
     ]
    }
   ],
   "source": [
    "stringdb_actions['gene1'] = stringdb_actions['gene1'].map(gene_mapping)\n",
    "stringdb_actions['gene2'] = stringdb_actions['gene2'].map(gene_mapping)"
   ]
  },
  {
   "cell_type": "code",
   "execution_count": 24,
   "metadata": {},
   "outputs": [],
   "source": [
    "# filter genes 1\n",
    "stringdb_actions = stringdb_actions[(stringdb_actions['gene1'].isin(all_genes[0]))]\n",
    "\n",
    "# filter disease\n",
    "stringdb_actions = stringdb_actions[(stringdb_actions['gene2'].isin(all_genes[0]))]"
   ]
  },
  {
   "cell_type": "code",
   "execution_count": 25,
   "metadata": {},
   "outputs": [],
   "source": [
    "stringdb_actions = stringdb_actions.drop_duplicates()"
   ]
  },
  {
   "cell_type": "code",
   "execution_count": 26,
   "metadata": {},
   "outputs": [],
   "source": [
    "stringdb_actions.to_csv('../data/clean/gene-gene-association.edges',header=None, index=False)"
   ]
  },
  {
   "cell_type": "code",
   "execution_count": null,
   "metadata": {},
   "outputs": [],
   "source": []
  }
 ],
 "metadata": {
  "kernelspec": {
   "display_name": "Python 3",
   "language": "python",
   "name": "python3"
  },
  "language_info": {
   "codemirror_mode": {
    "name": "ipython",
    "version": 3
   },
   "file_extension": ".py",
   "mimetype": "text/x-python",
   "name": "python",
   "nbconvert_exporter": "python",
   "pygments_lexer": "ipython3",
   "version": "3.7.6"
  }
 },
 "nbformat": 4,
 "nbformat_minor": 4
}
