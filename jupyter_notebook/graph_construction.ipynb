{
 "cells": [
  {
   "cell_type": "code",
   "execution_count": 114,
   "metadata": {},
   "outputs": [],
   "source": [
    "import dgl\n",
    "import numpy as np\n",
    "import pandas as pd\n",
    "import networkx as nx\n",
    "from dgl.data.utils import save_graphs"
   ]
  },
  {
   "cell_type": "code",
   "execution_count": 42,
   "metadata": {},
   "outputs": [],
   "source": [
    "drug_gene = pd.read_csv('../data/clean/drug-gene-all.edges')\n",
    "gene_disease = pd.read_csv('../data/clean/gene-disease-association.edges',header=None)\n",
    "gene_gene = pd.read_csv('../data/clean/gene-gene-association.edges',header=None)\n",
    "\n",
    "drug_disease = pd.read_csv('../data/clean/drug-disease-treat.edges')\n",
    "\n",
    "genes = pd.read_csv('../data/clean/genes.nodes', header=None)\n",
    "diseases = pd.read_csv('../data/clean/diseases.nodes', header=None)"
   ]
  },
  {
   "cell_type": "markdown",
   "metadata": {},
   "source": [
    "### Map gene names to numbers"
   ]
  },
  {
   "cell_type": "code",
   "execution_count": 43,
   "metadata": {},
   "outputs": [],
   "source": [
    "gene_num_dict = {gene:num for (gene, num) in zip(genes[0], range(genes.shape[0]))}"
   ]
  },
  {
   "cell_type": "code",
   "execution_count": 44,
   "metadata": {},
   "outputs": [
    {
     "data": {
      "text/html": [
       "<div>\n",
       "<style scoped>\n",
       "    .dataframe tbody tr th:only-of-type {\n",
       "        vertical-align: middle;\n",
       "    }\n",
       "\n",
       "    .dataframe tbody tr th {\n",
       "        vertical-align: top;\n",
       "    }\n",
       "\n",
       "    .dataframe thead th {\n",
       "        text-align: right;\n",
       "    }\n",
       "</style>\n",
       "<table border=\"1\" class=\"dataframe\">\n",
       "  <thead>\n",
       "    <tr style=\"text-align: right;\">\n",
       "      <th></th>\n",
       "      <th>compound_id</th>\n",
       "      <th>gene_names</th>\n",
       "      <th>mode</th>\n",
       "      <th>gene_num</th>\n",
       "    </tr>\n",
       "  </thead>\n",
       "  <tbody>\n",
       "    <tr>\n",
       "      <th>0</th>\n",
       "      <td>4768</td>\n",
       "      <td>LTB4R</td>\n",
       "      <td>binding</td>\n",
       "      <td>4032</td>\n",
       "    </tr>\n",
       "    <tr>\n",
       "      <th>1</th>\n",
       "      <td>5709</td>\n",
       "      <td>CCKBR</td>\n",
       "      <td>binding</td>\n",
       "      <td>1152</td>\n",
       "    </tr>\n",
       "    <tr>\n",
       "      <th>2</th>\n",
       "      <td>21800</td>\n",
       "      <td>PPARA</td>\n",
       "      <td>binding</td>\n",
       "      <td>5453</td>\n",
       "    </tr>\n",
       "    <tr>\n",
       "      <th>3</th>\n",
       "      <td>3878</td>\n",
       "      <td>TMPRSS7</td>\n",
       "      <td>inhibition</td>\n",
       "      <td>7201</td>\n",
       "    </tr>\n",
       "    <tr>\n",
       "      <th>4</th>\n",
       "      <td>5361092</td>\n",
       "      <td>OPRK1</td>\n",
       "      <td>binding</td>\n",
       "      <td>4914</td>\n",
       "    </tr>\n",
       "  </tbody>\n",
       "</table>\n",
       "</div>"
      ],
      "text/plain": [
       "   compound_id gene_names        mode  gene_num\n",
       "0         4768      LTB4R     binding      4032\n",
       "1         5709      CCKBR     binding      1152\n",
       "2        21800      PPARA     binding      5453\n",
       "3         3878    TMPRSS7  inhibition      7201\n",
       "4      5361092      OPRK1     binding      4914"
      ]
     },
     "execution_count": 44,
     "metadata": {},
     "output_type": "execute_result"
    }
   ],
   "source": [
    "drug_gene['gene_num'] = drug_gene['gene_names'].map(gene_num_dict)\n",
    "drug_gene.head()"
   ]
  },
  {
   "cell_type": "code",
   "execution_count": 46,
   "metadata": {},
   "outputs": [
    {
     "data": {
      "text/html": [
       "<div>\n",
       "<style scoped>\n",
       "    .dataframe tbody tr th:only-of-type {\n",
       "        vertical-align: middle;\n",
       "    }\n",
       "\n",
       "    .dataframe tbody tr th {\n",
       "        vertical-align: top;\n",
       "    }\n",
       "\n",
       "    .dataframe thead th {\n",
       "        text-align: right;\n",
       "    }\n",
       "</style>\n",
       "<table border=\"1\" class=\"dataframe\">\n",
       "  <thead>\n",
       "    <tr style=\"text-align: right;\">\n",
       "      <th></th>\n",
       "      <th>0</th>\n",
       "      <th>1</th>\n",
       "      <th>2</th>\n",
       "      <th>gene1_num</th>\n",
       "      <th>gene2_num</th>\n",
       "    </tr>\n",
       "  </thead>\n",
       "  <tbody>\n",
       "    <tr>\n",
       "      <th>0</th>\n",
       "      <td>ARF5</td>\n",
       "      <td>AP4S1</td>\n",
       "      <td>binding</td>\n",
       "      <td>661</td>\n",
       "      <td>618</td>\n",
       "    </tr>\n",
       "    <tr>\n",
       "      <th>1</th>\n",
       "      <td>ARF5</td>\n",
       "      <td>AP4S1</td>\n",
       "      <td>reaction</td>\n",
       "      <td>661</td>\n",
       "      <td>618</td>\n",
       "    </tr>\n",
       "    <tr>\n",
       "      <th>2</th>\n",
       "      <td>ARF5</td>\n",
       "      <td>YKT6</td>\n",
       "      <td>binding</td>\n",
       "      <td>661</td>\n",
       "      <td>7747</td>\n",
       "    </tr>\n",
       "    <tr>\n",
       "      <th>3</th>\n",
       "      <td>ARF5</td>\n",
       "      <td>YKT6</td>\n",
       "      <td>catalysis</td>\n",
       "      <td>661</td>\n",
       "      <td>7747</td>\n",
       "    </tr>\n",
       "    <tr>\n",
       "      <th>4</th>\n",
       "      <td>ARF5</td>\n",
       "      <td>YKT6</td>\n",
       "      <td>reaction</td>\n",
       "      <td>661</td>\n",
       "      <td>7747</td>\n",
       "    </tr>\n",
       "  </tbody>\n",
       "</table>\n",
       "</div>"
      ],
      "text/plain": [
       "      0      1          2  gene1_num  gene2_num\n",
       "0  ARF5  AP4S1    binding        661        618\n",
       "1  ARF5  AP4S1   reaction        661        618\n",
       "2  ARF5   YKT6    binding        661       7747\n",
       "3  ARF5   YKT6  catalysis        661       7747\n",
       "4  ARF5   YKT6   reaction        661       7747"
      ]
     },
     "execution_count": 46,
     "metadata": {},
     "output_type": "execute_result"
    }
   ],
   "source": [
    "gene_gene['gene1_num'] = gene_gene[0].map(gene_num_dict)\n",
    "gene_gene['gene2_num'] = gene_gene[1].map(gene_num_dict)\n",
    "gene_gene.head()"
   ]
  },
  {
   "cell_type": "markdown",
   "metadata": {},
   "source": [
    "### Map diseases to numbers"
   ]
  },
  {
   "cell_type": "code",
   "execution_count": 48,
   "metadata": {},
   "outputs": [],
   "source": [
    "diseases_num_dict = {disease:num for (disease, num) in zip(diseases[0], range(diseases.shape[0]))}"
   ]
  },
  {
   "cell_type": "code",
   "execution_count": 51,
   "metadata": {},
   "outputs": [
    {
     "data": {
      "text/html": [
       "<div>\n",
       "<style scoped>\n",
       "    .dataframe tbody tr th:only-of-type {\n",
       "        vertical-align: middle;\n",
       "    }\n",
       "\n",
       "    .dataframe tbody tr th {\n",
       "        vertical-align: top;\n",
       "    }\n",
       "\n",
       "    .dataframe thead th {\n",
       "        text-align: right;\n",
       "    }\n",
       "</style>\n",
       "<table border=\"1\" class=\"dataframe\">\n",
       "  <thead>\n",
       "    <tr style=\"text-align: right;\">\n",
       "      <th></th>\n",
       "      <th>0</th>\n",
       "      <th>1</th>\n",
       "      <th>gene_num</th>\n",
       "      <th>disease_num</th>\n",
       "    </tr>\n",
       "  </thead>\n",
       "  <tbody>\n",
       "    <tr>\n",
       "      <th>0</th>\n",
       "      <td>A1BG</td>\n",
       "      <td>C0036341</td>\n",
       "      <td>0</td>\n",
       "      <td>523</td>\n",
       "    </tr>\n",
       "    <tr>\n",
       "      <th>1</th>\n",
       "      <td>NAT1</td>\n",
       "      <td>C0001973</td>\n",
       "      <td>4545</td>\n",
       "      <td>14</td>\n",
       "    </tr>\n",
       "    <tr>\n",
       "      <th>2</th>\n",
       "      <td>NAT1</td>\n",
       "      <td>C0005684</td>\n",
       "      <td>4545</td>\n",
       "      <td>74</td>\n",
       "    </tr>\n",
       "    <tr>\n",
       "      <th>3</th>\n",
       "      <td>NAT1</td>\n",
       "      <td>C0033578</td>\n",
       "      <td>4545</td>\n",
       "      <td>474</td>\n",
       "    </tr>\n",
       "    <tr>\n",
       "      <th>4</th>\n",
       "      <td>NAT1</td>\n",
       "      <td>C0376358</td>\n",
       "      <td>4545</td>\n",
       "      <td>982</td>\n",
       "    </tr>\n",
       "  </tbody>\n",
       "</table>\n",
       "</div>"
      ],
      "text/plain": [
       "      0         1  gene_num  disease_num\n",
       "0  A1BG  C0036341         0          523\n",
       "1  NAT1  C0001973      4545           14\n",
       "2  NAT1  C0005684      4545           74\n",
       "3  NAT1  C0033578      4545          474\n",
       "4  NAT1  C0376358      4545          982"
      ]
     },
     "execution_count": 51,
     "metadata": {},
     "output_type": "execute_result"
    }
   ],
   "source": [
    "gene_disease['disease_num'] = gene_disease[1].map(diseases_num_dict)\n",
    "gene_disease.head()"
   ]
  },
  {
   "cell_type": "code",
   "execution_count": 54,
   "metadata": {},
   "outputs": [
    {
     "data": {
      "text/html": [
       "<div>\n",
       "<style scoped>\n",
       "    .dataframe tbody tr th:only-of-type {\n",
       "        vertical-align: middle;\n",
       "    }\n",
       "\n",
       "    .dataframe tbody tr th {\n",
       "        vertical-align: top;\n",
       "    }\n",
       "\n",
       "    .dataframe thead th {\n",
       "        text-align: right;\n",
       "    }\n",
       "</style>\n",
       "<table border=\"1\" class=\"dataframe\">\n",
       "  <thead>\n",
       "    <tr style=\"text-align: right;\">\n",
       "      <th></th>\n",
       "      <th>compound_id</th>\n",
       "      <th>diseases</th>\n",
       "      <th>disease_num</th>\n",
       "    </tr>\n",
       "  </thead>\n",
       "  <tbody>\n",
       "    <tr>\n",
       "      <th>0</th>\n",
       "      <td>224004</td>\n",
       "      <td>C0006142</td>\n",
       "      <td>84</td>\n",
       "    </tr>\n",
       "    <tr>\n",
       "      <th>1</th>\n",
       "      <td>2333</td>\n",
       "      <td>C0018099</td>\n",
       "      <td>233</td>\n",
       "    </tr>\n",
       "    <tr>\n",
       "      <th>2</th>\n",
       "      <td>2333</td>\n",
       "      <td>C0740394</td>\n",
       "      <td>1091</td>\n",
       "    </tr>\n",
       "    <tr>\n",
       "      <th>3</th>\n",
       "      <td>15671</td>\n",
       "      <td>C0020538</td>\n",
       "      <td>276</td>\n",
       "    </tr>\n",
       "    <tr>\n",
       "      <th>4</th>\n",
       "      <td>115358</td>\n",
       "      <td>C0024530</td>\n",
       "      <td>357</td>\n",
       "    </tr>\n",
       "  </tbody>\n",
       "</table>\n",
       "</div>"
      ],
      "text/plain": [
       "   compound_id  diseases  disease_num\n",
       "0       224004  C0006142           84\n",
       "1         2333  C0018099          233\n",
       "2         2333  C0740394         1091\n",
       "3        15671  C0020538          276\n",
       "4       115358  C0024530          357"
      ]
     },
     "execution_count": 54,
     "metadata": {},
     "output_type": "execute_result"
    }
   ],
   "source": [
    "drug_disease['disease_num'] = drug_disease['diseases'].map(diseases_num_dict)\n",
    "drug_disease.head()"
   ]
  },
  {
   "cell_type": "markdown",
   "metadata": {},
   "source": [
    "### Construct graph using dgl"
   ]
  },
  {
   "cell_type": "code",
   "execution_count": 87,
   "metadata": {},
   "outputs": [],
   "source": [
    "graph_dict = {}"
   ]
  },
  {
   "cell_type": "code",
   "execution_count": 88,
   "metadata": {},
   "outputs": [
    {
     "data": {
      "text/plain": [
       "[(0, 523),\n",
       " (4545, 14),\n",
       " (4545, 74),\n",
       " (4545, 474),\n",
       " (4545, 982),\n",
       " (4546, 74),\n",
       " (4546, 84),\n",
       " (4546, 474),\n",
       " (4546, 962),\n",
       " (4546, 982)]"
      ]
     },
     "execution_count": 88,
     "metadata": {},
     "output_type": "execute_result"
    }
   ],
   "source": [
    "gene_disease_list = [(gene_num, disease_num) for (gene_num, disease_num) in \n",
    "                    zip(gene_disease['gene_num'], gene_disease['disease_num'])]\n",
    "gene_disease_list[:10]"
   ]
  },
  {
   "cell_type": "code",
   "execution_count": 89,
   "metadata": {},
   "outputs": [],
   "source": [
    "graph_dict['gene', 'associate', 'disease'] = gene_disease_list"
   ]
  },
  {
   "cell_type": "markdown",
   "metadata": {},
   "source": [
    "#### gene-gene interaction"
   ]
  },
  {
   "cell_type": "code",
   "execution_count": 90,
   "metadata": {},
   "outputs": [
    {
     "data": {
      "text/plain": [
       "[(661, 618),\n",
       " (661, 618),\n",
       " (661, 7747),\n",
       " (661, 7747),\n",
       " (661, 7747),\n",
       " (661, 7626),\n",
       " (661, 7626),\n",
       " (661, 659),\n",
       " (661, 659),\n",
       " (661, 659)]"
      ]
     },
     "execution_count": 90,
     "metadata": {},
     "output_type": "execute_result"
    }
   ],
   "source": [
    "gene_gene_list = [(gene_num1, gene_num2) for (gene_num1, gene_num2) in \n",
    "                    zip(gene_gene['gene1_num'], gene_gene['gene2_num'])]\n",
    "gene_gene_list[:10]"
   ]
  },
  {
   "cell_type": "code",
   "execution_count": 91,
   "metadata": {},
   "outputs": [
    {
     "data": {
      "text/plain": [
       "array(['binding', 'reaction', 'catalysis', 'activation', 'inhibition',\n",
       "       'ptmod', 'expression'], dtype=object)"
      ]
     },
     "execution_count": 91,
     "metadata": {},
     "output_type": "execute_result"
    }
   ],
   "source": [
    "gene_interaction_types = gene_gene[2].unique()\n",
    "gene_interaction_types"
   ]
  },
  {
   "cell_type": "markdown",
   "metadata": {},
   "source": [
    "Subset gene_gene according to interaction type"
   ]
  },
  {
   "cell_type": "code",
   "execution_count": 92,
   "metadata": {},
   "outputs": [],
   "source": [
    "for interaction in gene_interaction_types:\n",
    "    subset = gene_gene[gene_gene[2] == interaction]\n",
    "    subset_list = [(gene_num1, gene_num2) for (gene_num1, gene_num2) in \n",
    "                    zip(subset['gene1_num'], subset['gene2_num'])]\n",
    "    graph_dict[('gene', interaction, 'gene')] = subset_list"
   ]
  },
  {
   "cell_type": "code",
   "execution_count": 93,
   "metadata": {},
   "outputs": [
    {
     "data": {
      "text/plain": [
       "dict_keys([('gene', 'associate', 'disease'), ('gene', 'binding', 'gene'), ('gene', 'reaction', 'gene'), ('gene', 'catalysis', 'gene'), ('gene', 'activation', 'gene'), ('gene', 'inhibition', 'gene'), ('gene', 'ptmod', 'gene'), ('gene', 'expression', 'gene')])"
      ]
     },
     "execution_count": 93,
     "metadata": {},
     "output_type": "execute_result"
    }
   ],
   "source": [
    "graph_dict.keys()"
   ]
  },
  {
   "cell_type": "code",
   "execution_count": 94,
   "metadata": {},
   "outputs": [],
   "source": [
    "g = dgl.heterograph(graph_dict)"
   ]
  },
  {
   "cell_type": "code",
   "execution_count": 118,
   "metadata": {},
   "outputs": [
    {
     "data": {
      "text/plain": [
       "Graph(num_nodes={'disease': 1246, 'gene': 8321},\n",
       "      num_edges={('gene', 'associate', 'disease'): 11413, ('gene', 'binding', 'gene'): 212652, ('gene', 'reaction', 'gene'): 224514, ('gene', 'catalysis', 'gene'): 207576, ('gene', 'activation', 'gene'): 67330, ('gene', 'inhibition', 'gene'): 22984, ('gene', 'ptmod', 'gene'): 25042, ('gene', 'expression', 'gene'): 14193},\n",
       "      metagraph=[('gene', 'disease'), ('gene', 'gene'), ('gene', 'gene'), ('gene', 'gene'), ('gene', 'gene'), ('gene', 'gene'), ('gene', 'gene'), ('gene', 'gene')])"
      ]
     },
     "execution_count": 118,
     "metadata": {},
     "output_type": "execute_result"
    }
   ],
   "source": [
    "g"
   ]
  },
  {
   "cell_type": "code",
   "execution_count": null,
   "metadata": {},
   "outputs": [],
   "source": []
  }
 ],
 "metadata": {
  "kernelspec": {
   "display_name": "Python 3",
   "language": "python",
   "name": "python3"
  },
  "language_info": {
   "codemirror_mode": {
    "name": "ipython",
    "version": 3
   },
   "file_extension": ".py",
   "mimetype": "text/x-python",
   "name": "python",
   "nbconvert_exporter": "python",
   "pygments_lexer": "ipython3",
   "version": "3.7.6"
  }
 },
 "nbformat": 4,
 "nbformat_minor": 4
}
