{
 "cells": [
  {
   "cell_type": "code",
   "execution_count": 1,
   "metadata": {},
   "outputs": [
    {
     "name": "stderr",
     "output_type": "stream",
     "text": [
      "Using backend: pytorch\n"
     ]
    }
   ],
   "source": [
    "import dgl\n",
    "import numpy as np\n",
    "import pandas as pd\n",
    "import networkx as nx\n",
    "from dgl.data.utils import save_graphs\n",
    "from utils import read_dict_file"
   ]
  },
  {
   "cell_type": "code",
   "execution_count": 2,
   "metadata": {},
   "outputs": [],
   "source": [
    "# nodes\n",
    "genes = pd.read_csv('../data/clean/genes.nodes', header=None)\n",
    "diseases = pd.read_csv('../data/clean/diseases.nodes', header=None)\n",
    "drugs = pd.read_csv('../data/clean/drugs.nodes', header=None)\n",
    "\n",
    "# edges\n",
    "drug_disease = pd.read_csv('../data/clean/drug-disease-treat.edges')\n",
    "drug_gene = {\n",
    "    'carrier'  : pd.read_csv('../data/clean/drug-gene-carrier.edges'),\n",
    "    'enzyme'   : pd.read_csv('../data/clean/drug-gene-enzyme.edges'),\n",
    "    'target'   : pd.read_csv('../data/clean/drug-gene-target.edges'),\n",
    "    'transport': pd.read_csv('../data/clean/drug-gene-transport.edges')\n",
    "}\n",
    "gene_gene = pd.read_csv('../data/clean/gene-gene-association.edges', header=None)\n",
    "gene_disease = pd.read_csv('../data/clean/gene-disease-association.edges', header=None)\n",
    "drug_drug = pd.read_csv('../data/clean/drug-drug-side_effects.edges', header=None)"
   ]
  },
  {
   "cell_type": "markdown",
   "metadata": {},
   "source": [
    "### Mapping to numbers"
   ]
  },
  {
   "cell_type": "code",
   "execution_count": 3,
   "metadata": {},
   "outputs": [],
   "source": [
    "# nodes\n",
    "gene_num_dict = {gene: num for (gene, num) in zip(genes[0], range(genes.shape[0]))}\n",
    "drug_num_dict = {drug: num for (drug, num) in zip(drugs[0], range(drugs.shape[0]))}\n",
    "disease_num_dict = {disease: num for (disease, num) in zip(diseases[0], range(diseases.shape[0]))}"
   ]
  },
  {
   "cell_type": "code",
   "execution_count": 4,
   "metadata": {},
   "outputs": [
    {
     "data": {
      "text/html": [
       "<div>\n",
       "<style scoped>\n",
       "    .dataframe tbody tr th:only-of-type {\n",
       "        vertical-align: middle;\n",
       "    }\n",
       "\n",
       "    .dataframe tbody tr th {\n",
       "        vertical-align: top;\n",
       "    }\n",
       "\n",
       "    .dataframe thead th {\n",
       "        text-align: right;\n",
       "    }\n",
       "</style>\n",
       "<table border=\"1\" class=\"dataframe\">\n",
       "  <thead>\n",
       "    <tr style=\"text-align: right;\">\n",
       "      <th></th>\n",
       "      <th>DRUGBANK_ID</th>\n",
       "      <th>UMLS_CUI</th>\n",
       "    </tr>\n",
       "  </thead>\n",
       "  <tbody>\n",
       "    <tr>\n",
       "      <th>0</th>\n",
       "      <td>DB14655</td>\n",
       "      <td>C0006142</td>\n",
       "    </tr>\n",
       "    <tr>\n",
       "      <th>1</th>\n",
       "      <td>DB12319</td>\n",
       "      <td>C0018099</td>\n",
       "    </tr>\n",
       "    <tr>\n",
       "      <th>2</th>\n",
       "      <td>DB12319</td>\n",
       "      <td>C0740394</td>\n",
       "    </tr>\n",
       "    <tr>\n",
       "      <th>3</th>\n",
       "      <td>DB13989</td>\n",
       "      <td>C0020538</td>\n",
       "    </tr>\n",
       "    <tr>\n",
       "      <th>4</th>\n",
       "      <td>DB06608</td>\n",
       "      <td>C0024530</td>\n",
       "    </tr>\n",
       "  </tbody>\n",
       "</table>\n",
       "</div>"
      ],
      "text/plain": [
       "  DRUGBANK_ID  UMLS_CUI\n",
       "0     DB14655  C0006142\n",
       "1     DB12319  C0018099\n",
       "2     DB12319  C0740394\n",
       "3     DB13989  C0020538\n",
       "4     DB06608  C0024530"
      ]
     },
     "execution_count": 4,
     "metadata": {},
     "output_type": "execute_result"
    }
   ],
   "source": [
    "# update drug-disease\n",
    "drug_disease.head()"
   ]
  },
  {
   "cell_type": "code",
   "execution_count": 5,
   "metadata": {},
   "outputs": [
    {
     "data": {
      "text/html": [
       "<div>\n",
       "<style scoped>\n",
       "    .dataframe tbody tr th:only-of-type {\n",
       "        vertical-align: middle;\n",
       "    }\n",
       "\n",
       "    .dataframe tbody tr th {\n",
       "        vertical-align: top;\n",
       "    }\n",
       "\n",
       "    .dataframe thead th {\n",
       "        text-align: right;\n",
       "    }\n",
       "</style>\n",
       "<table border=\"1\" class=\"dataframe\">\n",
       "  <thead>\n",
       "    <tr style=\"text-align: right;\">\n",
       "      <th></th>\n",
       "      <th>DRUGBANK_ID</th>\n",
       "      <th>UMLS_CUI</th>\n",
       "      <th>drug_num</th>\n",
       "      <th>disease_num</th>\n",
       "    </tr>\n",
       "  </thead>\n",
       "  <tbody>\n",
       "    <tr>\n",
       "      <th>0</th>\n",
       "      <td>DB14655</td>\n",
       "      <td>C0006142</td>\n",
       "      <td>8031</td>\n",
       "      <td>261</td>\n",
       "    </tr>\n",
       "    <tr>\n",
       "      <th>1</th>\n",
       "      <td>DB12319</td>\n",
       "      <td>C0018099</td>\n",
       "      <td>7520</td>\n",
       "      <td>759</td>\n",
       "    </tr>\n",
       "    <tr>\n",
       "      <th>2</th>\n",
       "      <td>DB12319</td>\n",
       "      <td>C0740394</td>\n",
       "      <td>7520</td>\n",
       "      <td>4617</td>\n",
       "    </tr>\n",
       "    <tr>\n",
       "      <th>3</th>\n",
       "      <td>DB13989</td>\n",
       "      <td>C0020538</td>\n",
       "      <td>7910</td>\n",
       "      <td>937</td>\n",
       "    </tr>\n",
       "    <tr>\n",
       "      <th>4</th>\n",
       "      <td>DB06608</td>\n",
       "      <td>C0024530</td>\n",
       "      <td>4783</td>\n",
       "      <td>1198</td>\n",
       "    </tr>\n",
       "    <tr>\n",
       "      <th>...</th>\n",
       "      <td>...</td>\n",
       "      <td>...</td>\n",
       "      <td>...</td>\n",
       "      <td>...</td>\n",
       "    </tr>\n",
       "    <tr>\n",
       "      <th>7903</th>\n",
       "      <td>DB15575</td>\n",
       "      <td>C0007112</td>\n",
       "      <td>8083</td>\n",
       "      <td>295</td>\n",
       "    </tr>\n",
       "    <tr>\n",
       "      <th>7904</th>\n",
       "      <td>DB11712</td>\n",
       "      <td>C0392164</td>\n",
       "      <td>7377</td>\n",
       "      <td>3947</td>\n",
       "    </tr>\n",
       "    <tr>\n",
       "      <th>7905</th>\n",
       "      <td>DB11799</td>\n",
       "      <td>C0019693</td>\n",
       "      <td>7410</td>\n",
       "      <td>880</td>\n",
       "    </tr>\n",
       "    <tr>\n",
       "      <th>7906</th>\n",
       "      <td>DB12486</td>\n",
       "      <td>C0401149</td>\n",
       "      <td>7558</td>\n",
       "      <td>4076</td>\n",
       "    </tr>\n",
       "    <tr>\n",
       "      <th>7907</th>\n",
       "      <td>DB11901</td>\n",
       "      <td>C0376358</td>\n",
       "      <td>7433</td>\n",
       "      <td>3928</td>\n",
       "    </tr>\n",
       "  </tbody>\n",
       "</table>\n",
       "<p>7908 rows × 4 columns</p>\n",
       "</div>"
      ],
      "text/plain": [
       "     DRUGBANK_ID  UMLS_CUI  drug_num  disease_num\n",
       "0        DB14655  C0006142      8031          261\n",
       "1        DB12319  C0018099      7520          759\n",
       "2        DB12319  C0740394      7520         4617\n",
       "3        DB13989  C0020538      7910          937\n",
       "4        DB06608  C0024530      4783         1198\n",
       "...          ...       ...       ...          ...\n",
       "7903     DB15575  C0007112      8083          295\n",
       "7904     DB11712  C0392164      7377         3947\n",
       "7905     DB11799  C0019693      7410          880\n",
       "7906     DB12486  C0401149      7558         4076\n",
       "7907     DB11901  C0376358      7433         3928\n",
       "\n",
       "[7908 rows x 4 columns]"
      ]
     },
     "execution_count": 5,
     "metadata": {},
     "output_type": "execute_result"
    }
   ],
   "source": [
    "drug_disease['drug_num'] = drug_disease['DRUGBANK_ID'].map(drug_num_dict)\n",
    "drug_disease['disease_num'] = drug_disease['UMLS_CUI'].map(disease_num_dict)\n",
    "drug_disease"
   ]
  },
  {
   "cell_type": "code",
   "execution_count": 6,
   "metadata": {},
   "outputs": [
    {
     "data": {
      "text/html": [
       "<div>\n",
       "<style scoped>\n",
       "    .dataframe tbody tr th:only-of-type {\n",
       "        vertical-align: middle;\n",
       "    }\n",
       "\n",
       "    .dataframe tbody tr th {\n",
       "        vertical-align: top;\n",
       "    }\n",
       "\n",
       "    .dataframe thead th {\n",
       "        text-align: right;\n",
       "    }\n",
       "</style>\n",
       "<table border=\"1\" class=\"dataframe\">\n",
       "  <thead>\n",
       "    <tr style=\"text-align: right;\">\n",
       "      <th></th>\n",
       "      <th>DRUGS</th>\n",
       "      <th>GENES</th>\n",
       "      <th>gene_num</th>\n",
       "      <th>drug_num</th>\n",
       "    </tr>\n",
       "  </thead>\n",
       "  <tbody>\n",
       "    <tr>\n",
       "      <th>0</th>\n",
       "      <td>DB00023</td>\n",
       "      <td>SERPINA7</td>\n",
       "      <td>14440</td>\n",
       "      <td>21</td>\n",
       "    </tr>\n",
       "    <tr>\n",
       "      <th>1</th>\n",
       "      <td>DB00059</td>\n",
       "      <td>SERPINA7</td>\n",
       "      <td>14440</td>\n",
       "      <td>55</td>\n",
       "    </tr>\n",
       "    <tr>\n",
       "      <th>2</th>\n",
       "      <td>DB00070</td>\n",
       "      <td>ALB</td>\n",
       "      <td>690</td>\n",
       "      <td>64</td>\n",
       "    </tr>\n",
       "    <tr>\n",
       "      <th>3</th>\n",
       "      <td>DB00126</td>\n",
       "      <td>ALB</td>\n",
       "      <td>690</td>\n",
       "      <td>114</td>\n",
       "    </tr>\n",
       "    <tr>\n",
       "      <th>4</th>\n",
       "      <td>DB00132</td>\n",
       "      <td>FABP7</td>\n",
       "      <td>5120</td>\n",
       "      <td>120</td>\n",
       "    </tr>\n",
       "  </tbody>\n",
       "</table>\n",
       "</div>"
      ],
      "text/plain": [
       "     DRUGS     GENES  gene_num  drug_num\n",
       "0  DB00023  SERPINA7     14440        21\n",
       "1  DB00059  SERPINA7     14440        55\n",
       "2  DB00070       ALB       690        64\n",
       "3  DB00126       ALB       690       114\n",
       "4  DB00132     FABP7      5120       120"
      ]
     },
     "execution_count": 6,
     "metadata": {},
     "output_type": "execute_result"
    }
   ],
   "source": [
    "# update drug-gene\n",
    "for action in drug_gene:\n",
    "    drug_gene[action]['gene_num'] = drug_gene[action]['GENES'].map(gene_num_dict)\n",
    "    drug_gene[action]['drug_num'] = drug_gene[action]['DRUGS'].map(drug_num_dict)\n",
    "drug_gene['carrier'].head()"
   ]
  },
  {
   "cell_type": "code",
   "execution_count": 7,
   "metadata": {},
   "outputs": [
    {
     "data": {
      "text/html": [
       "<div>\n",
       "<style scoped>\n",
       "    .dataframe tbody tr th:only-of-type {\n",
       "        vertical-align: middle;\n",
       "    }\n",
       "\n",
       "    .dataframe tbody tr th {\n",
       "        vertical-align: top;\n",
       "    }\n",
       "\n",
       "    .dataframe thead th {\n",
       "        text-align: right;\n",
       "    }\n",
       "</style>\n",
       "<table border=\"1\" class=\"dataframe\">\n",
       "  <thead>\n",
       "    <tr style=\"text-align: right;\">\n",
       "      <th></th>\n",
       "      <th>0</th>\n",
       "      <th>1</th>\n",
       "      <th>2</th>\n",
       "      <th>gene1_num</th>\n",
       "      <th>gene2_num</th>\n",
       "    </tr>\n",
       "  </thead>\n",
       "  <tbody>\n",
       "    <tr>\n",
       "      <th>0</th>\n",
       "      <td>ARF5</td>\n",
       "      <td>AP4S1</td>\n",
       "      <td>binding</td>\n",
       "      <td>1083</td>\n",
       "      <td>986</td>\n",
       "    </tr>\n",
       "    <tr>\n",
       "      <th>1</th>\n",
       "      <td>ARF5</td>\n",
       "      <td>BET1</td>\n",
       "      <td>binding</td>\n",
       "      <td>1083</td>\n",
       "      <td>1701</td>\n",
       "    </tr>\n",
       "    <tr>\n",
       "      <th>2</th>\n",
       "      <td>ARF5</td>\n",
       "      <td>YKT6</td>\n",
       "      <td>binding</td>\n",
       "      <td>1083</td>\n",
       "      <td>17878</td>\n",
       "    </tr>\n",
       "    <tr>\n",
       "      <th>3</th>\n",
       "      <td>ARF5</td>\n",
       "      <td>VAMP4</td>\n",
       "      <td>binding</td>\n",
       "      <td>1083</td>\n",
       "      <td>17499</td>\n",
       "    </tr>\n",
       "    <tr>\n",
       "      <th>4</th>\n",
       "      <td>ARF5</td>\n",
       "      <td>CYTH4</td>\n",
       "      <td>activation</td>\n",
       "      <td>1083</td>\n",
       "      <td>3832</td>\n",
       "    </tr>\n",
       "  </tbody>\n",
       "</table>\n",
       "</div>"
      ],
      "text/plain": [
       "      0      1           2  gene1_num  gene2_num\n",
       "0  ARF5  AP4S1     binding       1083        986\n",
       "1  ARF5   BET1     binding       1083       1701\n",
       "2  ARF5   YKT6     binding       1083      17878\n",
       "3  ARF5  VAMP4     binding       1083      17499\n",
       "4  ARF5  CYTH4  activation       1083       3832"
      ]
     },
     "execution_count": 7,
     "metadata": {},
     "output_type": "execute_result"
    }
   ],
   "source": [
    "# update gene-gene\n",
    "gene_gene['gene1_num'] = gene_gene[0].map(gene_num_dict)\n",
    "gene_gene['gene2_num'] = gene_gene[1].map(gene_num_dict)\n",
    "gene_gene.head()"
   ]
  },
  {
   "cell_type": "code",
   "execution_count": 8,
   "metadata": {
    "scrolled": true
   },
   "outputs": [
    {
     "data": {
      "text/html": [
       "<div>\n",
       "<style scoped>\n",
       "    .dataframe tbody tr th:only-of-type {\n",
       "        vertical-align: middle;\n",
       "    }\n",
       "\n",
       "    .dataframe tbody tr th {\n",
       "        vertical-align: top;\n",
       "    }\n",
       "\n",
       "    .dataframe thead th {\n",
       "        text-align: right;\n",
       "    }\n",
       "</style>\n",
       "<table border=\"1\" class=\"dataframe\">\n",
       "  <thead>\n",
       "    <tr style=\"text-align: right;\">\n",
       "      <th></th>\n",
       "      <th>0</th>\n",
       "      <th>1</th>\n",
       "      <th>gene_num</th>\n",
       "      <th>disease_num</th>\n",
       "    </tr>\n",
       "  </thead>\n",
       "  <tbody>\n",
       "    <tr>\n",
       "      <th>0</th>\n",
       "      <td>A1BG</td>\n",
       "      <td>C0036341</td>\n",
       "      <td>12</td>\n",
       "      <td>1716</td>\n",
       "    </tr>\n",
       "    <tr>\n",
       "      <th>1</th>\n",
       "      <td>NAT1</td>\n",
       "      <td>C0001973</td>\n",
       "      <td>10183</td>\n",
       "      <td>54</td>\n",
       "    </tr>\n",
       "    <tr>\n",
       "      <th>2</th>\n",
       "      <td>NAT1</td>\n",
       "      <td>C0005684</td>\n",
       "      <td>10183</td>\n",
       "      <td>230</td>\n",
       "    </tr>\n",
       "    <tr>\n",
       "      <th>3</th>\n",
       "      <td>NAT1</td>\n",
       "      <td>C0033578</td>\n",
       "      <td>10183</td>\n",
       "      <td>1594</td>\n",
       "    </tr>\n",
       "    <tr>\n",
       "      <th>4</th>\n",
       "      <td>NAT1</td>\n",
       "      <td>C0376358</td>\n",
       "      <td>10183</td>\n",
       "      <td>3928</td>\n",
       "    </tr>\n",
       "  </tbody>\n",
       "</table>\n",
       "</div>"
      ],
      "text/plain": [
       "      0         1  gene_num  disease_num\n",
       "0  A1BG  C0036341        12         1716\n",
       "1  NAT1  C0001973     10183           54\n",
       "2  NAT1  C0005684     10183          230\n",
       "3  NAT1  C0033578     10183         1594\n",
       "4  NAT1  C0376358     10183         3928"
      ]
     },
     "execution_count": 8,
     "metadata": {},
     "output_type": "execute_result"
    }
   ],
   "source": [
    "# update gene-disease\n",
    "gene_disease['gene_num'] = gene_disease[0].map(gene_num_dict)\n",
    "gene_disease['disease_num'] = gene_disease[1].map(disease_num_dict)\n",
    "gene_disease.head()"
   ]
  },
  {
   "cell_type": "code",
   "execution_count": 9,
   "metadata": {},
   "outputs": [
    {
     "data": {
      "text/html": [
       "<div>\n",
       "<style scoped>\n",
       "    .dataframe tbody tr th:only-of-type {\n",
       "        vertical-align: middle;\n",
       "    }\n",
       "\n",
       "    .dataframe tbody tr th {\n",
       "        vertical-align: top;\n",
       "    }\n",
       "\n",
       "    .dataframe thead th {\n",
       "        text-align: right;\n",
       "    }\n",
       "</style>\n",
       "<table border=\"1\" class=\"dataframe\">\n",
       "  <thead>\n",
       "    <tr style=\"text-align: right;\">\n",
       "      <th></th>\n",
       "      <th>0</th>\n",
       "      <th>1</th>\n",
       "      <th>drug1_num</th>\n",
       "      <th>drug2_num</th>\n",
       "    </tr>\n",
       "  </thead>\n",
       "  <tbody>\n",
       "    <tr>\n",
       "      <th>0</th>\n",
       "      <td>DB00415</td>\n",
       "      <td>DB00813</td>\n",
       "      <td>398</td>\n",
       "      <td>788</td>\n",
       "    </tr>\n",
       "    <tr>\n",
       "      <th>1</th>\n",
       "      <td>DB01236</td>\n",
       "      <td>DB01223</td>\n",
       "      <td>1202</td>\n",
       "      <td>1189</td>\n",
       "    </tr>\n",
       "    <tr>\n",
       "      <th>2</th>\n",
       "      <td>DB00601</td>\n",
       "      <td>DB00303</td>\n",
       "      <td>580</td>\n",
       "      <td>288</td>\n",
       "    </tr>\n",
       "    <tr>\n",
       "      <th>3</th>\n",
       "      <td>DB08298</td>\n",
       "      <td>DB00811</td>\n",
       "      <td>6302</td>\n",
       "      <td>786</td>\n",
       "    </tr>\n",
       "    <tr>\n",
       "      <th>4</th>\n",
       "      <td>DB01173</td>\n",
       "      <td>DB00675</td>\n",
       "      <td>1140</td>\n",
       "      <td>652</td>\n",
       "    </tr>\n",
       "  </tbody>\n",
       "</table>\n",
       "</div>"
      ],
      "text/plain": [
       "         0        1  drug1_num  drug2_num\n",
       "0  DB00415  DB00813        398        788\n",
       "1  DB01236  DB01223       1202       1189\n",
       "2  DB00601  DB00303        580        288\n",
       "3  DB08298  DB00811       6302        786\n",
       "4  DB01173  DB00675       1140        652"
      ]
     },
     "execution_count": 9,
     "metadata": {},
     "output_type": "execute_result"
    }
   ],
   "source": [
    "# update drug-drug\n",
    "drug_drug['drug1_num'] = drug_drug[0].map(drug_num_dict)\n",
    "drug_drug['drug2_num'] = drug_drug[1].map(drug_num_dict)\n",
    "drug_drug.head()"
   ]
  },
  {
   "cell_type": "markdown",
   "metadata": {},
   "source": [
    "### Construct graph using dgl"
   ]
  },
  {
   "cell_type": "code",
   "execution_count": 10,
   "metadata": {},
   "outputs": [],
   "source": [
    "graph_dict = {}"
   ]
  },
  {
   "cell_type": "code",
   "execution_count": 11,
   "metadata": {},
   "outputs": [
    {
     "name": "stdout",
     "output_type": "stream",
     "text": [
      "[(8031, 261), (7520, 759), (7520, 4617), (7910, 937), (4783, 1198), (8046, 3385), (7691, 441), (7711, 384), (7719, 1433), (1363, 1991)]\n"
     ]
    }
   ],
   "source": [
    "# drug-disease\n",
    "drug_disease_list = [(drug_num, disease_num) for (drug_num, disease_num) in \n",
    "                    zip(drug_disease['drug_num'], drug_disease['disease_num'])]\n",
    "print(drug_disease_list[:10])\n",
    "graph_dict['drug', 'treat', 'disease'] = drug_disease_list"
   ]
  },
  {
   "cell_type": "code",
   "execution_count": 12,
   "metadata": {},
   "outputs": [
    {
     "data": {
      "text/plain": [
       "[(21, 14440),\n",
       " (55, 14440),\n",
       " (64, 690),\n",
       " (114, 690),\n",
       " (120, 5120),\n",
       " (124, 5880),\n",
       " (125, 690),\n",
       " (140, 690),\n",
       " (141, 5880),\n",
       " (142, 5120)]"
      ]
     },
     "execution_count": 12,
     "metadata": {},
     "output_type": "execute_result"
    }
   ],
   "source": [
    "# drug-gene\n",
    "for action in drug_gene:\n",
    "    drug_gene_list = [(drug_num, gene_num) for (drug_num, gene_num) in \n",
    "                     zip(drug_gene[action]['drug_num'], drug_gene[action]['gene_num'])]\n",
    "    graph_dict['drug', action, 'gene'] = drug_gene_list\n",
    "graph_dict['drug', 'carrier', 'gene'][:10]"
   ]
  },
  {
   "cell_type": "code",
   "execution_count": 13,
   "metadata": {},
   "outputs": [
    {
     "data": {
      "text/plain": [
       "[(1083, 986),\n",
       " (1083, 1701),\n",
       " (1083, 17878),\n",
       " (1083, 17499),\n",
       " (1083, 3832),\n",
       " (1083, 3319),\n",
       " (1083, 967),\n",
       " (1083, 976),\n",
       " (1083, 1081),\n",
       " (1083, 13159)]"
      ]
     },
     "execution_count": 13,
     "metadata": {},
     "output_type": "execute_result"
    }
   ],
   "source": [
    "# gene-gene\n",
    "gene_gene_list = [(gene_num1, gene_num2) for (gene_num1, gene_num2) in \n",
    "                    zip(gene_gene['gene1_num'], gene_gene['gene2_num'])]\n",
    "gene_gene_list[:10]"
   ]
  },
  {
   "cell_type": "code",
   "execution_count": 14,
   "metadata": {},
   "outputs": [
    {
     "data": {
      "text/plain": [
       "array(['binding', 'activation', 'catalysis', 'reaction', 'expression',\n",
       "       'inhibition', 'ptmod'], dtype=object)"
      ]
     },
     "execution_count": 14,
     "metadata": {},
     "output_type": "execute_result"
    }
   ],
   "source": [
    "gene_interaction_types = gene_gene[2].unique()\n",
    "gene_interaction_types"
   ]
  },
  {
   "cell_type": "code",
   "execution_count": 15,
   "metadata": {},
   "outputs": [],
   "source": [
    "# subset gene_gene according to interaction type\n",
    "for interaction in gene_interaction_types:\n",
    "    subset = gene_gene[gene_gene[2] == interaction]\n",
    "    subset_list = [(gene_num1, gene_num2) for (gene_num1, gene_num2) in \n",
    "                    zip(subset['gene1_num'], subset['gene2_num'])]\n",
    "    graph_dict[('gene', interaction, 'gene')] = subset_list"
   ]
  },
  {
   "cell_type": "code",
   "execution_count": 16,
   "metadata": {},
   "outputs": [
    {
     "name": "stdout",
     "output_type": "stream",
     "text": [
      "[(12, 1716), (10183, 54), (10183, 230), (10183, 1594), (10183, 3928), (10186, 230), (10186, 261), (10186, 1594), (10186, 3848), (10186, 3928)]\n"
     ]
    }
   ],
   "source": [
    "# gene-disease\n",
    "gene_disease_list = [(gene_num, disease_num) for (gene_num, disease_num) in \n",
    "                    zip(gene_disease['gene_num'], gene_disease['disease_num'])]\n",
    "print(gene_disease_list[:10])\n",
    "graph_dict['gene', 'associate', 'disease'] = gene_disease_list"
   ]
  },
  {
   "cell_type": "code",
   "execution_count": 17,
   "metadata": {},
   "outputs": [
    {
     "name": "stdout",
     "output_type": "stream",
     "text": [
      "[(398, 788), (1202, 1189), (580, 288), (6302, 786), (1140, 652), (513, 870), (218, 702), (1170, 1070), (4404, 478), (1986, 724)]\n"
     ]
    }
   ],
   "source": [
    "# drug-drug\n",
    "drug_drug_list = [(drug1_num, drug2_num) for (drug1_num, drug2_num) in \n",
    "                    zip(drug_drug['drug1_num'], drug_drug['drug2_num'])]\n",
    "print(drug_drug_list[:10])\n",
    "graph_dict['drug', 'side_effect', 'drug'] = drug_drug_list"
   ]
  },
  {
   "cell_type": "code",
   "execution_count": 19,
   "metadata": {},
   "outputs": [
    {
     "name": "stdout",
     "output_type": "stream",
     "text": [
      "('drug', 'treat', 'disease')\n",
      "('drug', 'carrier', 'gene')\n",
      "('drug', 'enzyme', 'gene')\n",
      "('drug', 'target', 'gene')\n",
      "('drug', 'transport', 'gene')\n",
      "('gene', 'binding', 'gene')\n",
      "('gene', 'activation', 'gene')\n",
      "('gene', 'catalysis', 'gene')\n",
      "('gene', 'reaction', 'gene')\n",
      "('gene', 'expression', 'gene')\n",
      "('gene', 'inhibition', 'gene')\n",
      "('gene', 'ptmod', 'gene')\n",
      "('gene', 'associate', 'disease')\n",
      "('drug', 'side_effect', 'drug')\n"
     ]
    }
   ],
   "source": [
    "for key in graph_dict:\n",
    "    print(key)"
   ]
  },
  {
   "cell_type": "code",
   "execution_count": 20,
   "metadata": {},
   "outputs": [],
   "source": [
    "g = dgl.heterograph(graph_dict)"
   ]
  },
  {
   "cell_type": "code",
   "execution_count": 21,
   "metadata": {},
   "outputs": [
    {
     "data": {
      "text/plain": [
       "<dgl.view.HeteroNodeView at 0xa2746e410>"
      ]
     },
     "execution_count": 21,
     "metadata": {},
     "output_type": "execute_result"
    }
   ],
   "source": [
    "g.nodes"
   ]
  },
  {
   "cell_type": "code",
   "execution_count": 32,
   "metadata": {},
   "outputs": [],
   "source": [
    "def save_dict_file(dictvar, file):\n",
    "    with open(file,'w') as f:\n",
    "        f.write(str(dictvar))"
   ]
  },
  {
   "cell_type": "code",
   "execution_count": 33,
   "metadata": {},
   "outputs": [],
   "source": [
    "# save dict to a file\n",
    "save_dict_file(graph_dict, '../data/clean/graph_dict.txt')"
   ]
  },
  {
   "cell_type": "code",
   "execution_count": 3,
   "metadata": {},
   "outputs": [],
   "source": [
    "def read_dict_file(file):\n",
    "    dic = ''\n",
    "    with open(file,'r') as f:\n",
    "        for line in f.readlines():\n",
    "            dic = line # string\n",
    "    dic = eval(dic)\n",
    "    return(dic)"
   ]
  },
  {
   "cell_type": "code",
   "execution_count": 2,
   "metadata": {},
   "outputs": [
    {
     "name": "stdout",
     "output_type": "stream",
     "text": [
      "dict_keys([('drug', 'treat', 'disease'), ('drug', 'carrier', 'gene'), ('drug', 'enzyme', 'gene'), ('drug', 'target', 'gene'), ('drug', 'transport', 'gene'), ('gene', 'binding', 'gene'), ('gene', 'activation', 'gene'), ('gene', 'catalysis', 'gene'), ('gene', 'reaction', 'gene'), ('gene', 'expression', 'gene'), ('gene', 'inhibition', 'gene'), ('gene', 'ptmod', 'gene'), ('gene', 'associate', 'disease'), ('drug', 'side_effect', 'drug')])\n"
     ]
    }
   ],
   "source": [
    "test_graph_dict = read_dict_file('../data/clean/graph_dict.txt')\n",
    "print(test_graph_dict.keys())"
   ]
  },
  {
   "cell_type": "code",
   "execution_count": 8,
   "metadata": {},
   "outputs": [
    {
     "ename": "AssertionError",
     "evalue": "",
     "output_type": "error",
     "traceback": [
      "\u001b[0;31m---------------------------------------------------------------------------\u001b[0m",
      "\u001b[0;31mAssertionError\u001b[0m                            Traceback (most recent call last)",
      "\u001b[0;32m<ipython-input-8-417c96596c45>\u001b[0m in \u001b[0;36m<module>\u001b[0;34m\u001b[0m\n\u001b[0;32m----> 1\u001b[0;31m \u001b[0mdgl\u001b[0m\u001b[0;34m.\u001b[0m\u001b[0mheterograph\u001b[0m\u001b[0;34m(\u001b[0m\u001b[0mtest_graph_dict\u001b[0m\u001b[0;34m)\u001b[0m\u001b[0;34m.\u001b[0m\u001b[0mto_networkx\u001b[0m\u001b[0;34m(\u001b[0m\u001b[0;34m)\u001b[0m\u001b[0;34m\u001b[0m\u001b[0;34m\u001b[0m\u001b[0m\n\u001b[0m",
      "\u001b[0;32m~/anaconda3/envs/pytorch-geometric/lib/python3.7/site-packages/dgl/heterograph.py\u001b[0m in \u001b[0;36mto_networkx\u001b[0;34m(self, node_attrs, edge_attrs)\u001b[0m\n\u001b[1;32m   3811\u001b[0m         \"\"\"\n\u001b[1;32m   3812\u001b[0m         \u001b[0;31m# TODO(minjie): multi-type support\u001b[0m\u001b[0;34m\u001b[0m\u001b[0;34m\u001b[0m\u001b[0;34m\u001b[0m\u001b[0m\n\u001b[0;32m-> 3813\u001b[0;31m         \u001b[0;32massert\u001b[0m \u001b[0mlen\u001b[0m\u001b[0;34m(\u001b[0m\u001b[0mself\u001b[0m\u001b[0;34m.\u001b[0m\u001b[0mntypes\u001b[0m\u001b[0;34m)\u001b[0m \u001b[0;34m==\u001b[0m \u001b[0;36m1\u001b[0m\u001b[0;34m\u001b[0m\u001b[0;34m\u001b[0m\u001b[0m\n\u001b[0m\u001b[1;32m   3814\u001b[0m         \u001b[0;32massert\u001b[0m \u001b[0mlen\u001b[0m\u001b[0;34m(\u001b[0m\u001b[0mself\u001b[0m\u001b[0;34m.\u001b[0m\u001b[0metypes\u001b[0m\u001b[0;34m)\u001b[0m \u001b[0;34m==\u001b[0m \u001b[0;36m1\u001b[0m\u001b[0;34m\u001b[0m\u001b[0;34m\u001b[0m\u001b[0m\n\u001b[1;32m   3815\u001b[0m         \u001b[0msrc\u001b[0m\u001b[0;34m,\u001b[0m \u001b[0mdst\u001b[0m \u001b[0;34m=\u001b[0m \u001b[0mself\u001b[0m\u001b[0;34m.\u001b[0m\u001b[0medges\u001b[0m\u001b[0;34m(\u001b[0m\u001b[0;34m)\u001b[0m\u001b[0;34m\u001b[0m\u001b[0;34m\u001b[0m\u001b[0m\n",
      "\u001b[0;31mAssertionError\u001b[0m: "
     ]
    }
   ],
   "source": [
    "dgl.heterograph(test_graph_dict).to_networkx()"
   ]
  },
  {
   "cell_type": "code",
   "execution_count": null,
   "metadata": {},
   "outputs": [],
   "source": []
  }
 ],
 "metadata": {
  "kernelspec": {
   "display_name": "Python 3",
   "language": "python",
   "name": "python3"
  },
  "language_info": {
   "codemirror_mode": {
    "name": "ipython",
    "version": 3
   },
   "file_extension": ".py",
   "mimetype": "text/x-python",
   "name": "python",
   "nbconvert_exporter": "python",
   "pygments_lexer": "ipython3",
   "version": "3.7.6"
  }
 },
 "nbformat": 4,
 "nbformat_minor": 4
}
