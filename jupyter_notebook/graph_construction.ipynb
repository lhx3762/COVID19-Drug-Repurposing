{
 "cells": [
  {
   "cell_type": "code",
   "execution_count": 258,
   "metadata": {},
   "outputs": [],
   "source": [
    "import dgl\n",
    "import numpy as np\n",
    "import pandas as pd\n",
    "import networkx as nx\n",
    "from dgl.data.utils import save_graphs"
   ]
  },
  {
   "cell_type": "code",
   "execution_count": 259,
   "metadata": {},
   "outputs": [],
   "source": [
    "# nodes\n",
    "genes = pd.read_csv('../data/clean/genes.nodes', header=None)\n",
    "diseases = pd.read_csv('../data/clean/diseases.nodes', header=None)\n",
    "drugs = pd.read_csv('../data/clean/drugs.nodes', header=None)\n",
    "\n",
    "# edges\n",
    "drug_disease = pd.read_csv('../data/clean/drug-disease-treat.edges')\n",
    "drug_gene = {\n",
    "    'carrier'  : pd.read_csv('../data/clean/drug-gene-carrier.edges'),\n",
    "    'enzyme'   : pd.read_csv('../data/clean/drug-gene-enzyme.edges'),\n",
    "    'target'   : pd.read_csv('../data/clean/drug-gene-target.edges'),\n",
    "    'transport': pd.read_csv('../data/clean/drug-gene-transport.edges')\n",
    "}\n",
    "gene_gene = pd.read_csv('../data/clean/gene-gene-association.edges', header=None)\n",
    "gene_disease = pd.read_csv('../data/clean/gene-disease-association.edges', header=None)\n",
    "drug_drug = pd.read_csv('../data/clean/drug-drug-side_effects.edges', header=None)"
   ]
  },
  {
   "cell_type": "code",
   "execution_count": 260,
   "metadata": {},
   "outputs": [],
   "source": [
    "num_drugs = drugs.shape[0]\n",
    "num_diseases = diseases.shape[0]\n",
    "num_gene = genes.shape[0]"
   ]
  },
  {
   "cell_type": "code",
   "execution_count": 261,
   "metadata": {},
   "outputs": [
    {
     "name": "stdout",
     "output_type": "stream",
     "text": [
      "number of drugs: 8094 \n",
      "number of diseases: 11171 \n",
      "number of gene 18643\n"
     ]
    }
   ],
   "source": [
    "print('number of drugs: {} \\nnumber of diseases: {} \\nnumber of gene {}'.format(num_drugs, num_diseases, num_gene))"
   ]
  },
  {
   "cell_type": "markdown",
   "metadata": {},
   "source": [
    "### Mapping to numbers"
   ]
  },
  {
   "cell_type": "code",
   "execution_count": 239,
   "metadata": {},
   "outputs": [],
   "source": [
    "# nodes\n",
    "drug_num_dict = {drug: num for (drug, num) in zip(drugs[0], range(num_drugs))}\n",
    "disease_num_dict = {disease: num for (disease, num) in zip(diseases[0], \n",
    "                                                           range(num_drugs, num_drugs + num_diseases))}\n",
    "gene_num_dict = {gene: num for (gene, num) in \n",
    "                 zip(genes[0], range(num_diseases+num_drugs, num_drugs+ num_diseases + num_gene))}"
   ]
  },
  {
   "cell_type": "code",
   "execution_count": 240,
   "metadata": {},
   "outputs": [
    {
     "data": {
      "text/html": [
       "<div>\n",
       "<style scoped>\n",
       "    .dataframe tbody tr th:only-of-type {\n",
       "        vertical-align: middle;\n",
       "    }\n",
       "\n",
       "    .dataframe tbody tr th {\n",
       "        vertical-align: top;\n",
       "    }\n",
       "\n",
       "    .dataframe thead th {\n",
       "        text-align: right;\n",
       "    }\n",
       "</style>\n",
       "<table border=\"1\" class=\"dataframe\">\n",
       "  <thead>\n",
       "    <tr style=\"text-align: right;\">\n",
       "      <th></th>\n",
       "      <th>DRUGBANK_ID</th>\n",
       "      <th>UMLS_CUI</th>\n",
       "    </tr>\n",
       "  </thead>\n",
       "  <tbody>\n",
       "    <tr>\n",
       "      <th>0</th>\n",
       "      <td>DB14655</td>\n",
       "      <td>C0006142</td>\n",
       "    </tr>\n",
       "    <tr>\n",
       "      <th>1</th>\n",
       "      <td>DB12319</td>\n",
       "      <td>C0018099</td>\n",
       "    </tr>\n",
       "    <tr>\n",
       "      <th>2</th>\n",
       "      <td>DB12319</td>\n",
       "      <td>C0740394</td>\n",
       "    </tr>\n",
       "    <tr>\n",
       "      <th>3</th>\n",
       "      <td>DB13989</td>\n",
       "      <td>C0020538</td>\n",
       "    </tr>\n",
       "    <tr>\n",
       "      <th>4</th>\n",
       "      <td>DB06608</td>\n",
       "      <td>C0024530</td>\n",
       "    </tr>\n",
       "  </tbody>\n",
       "</table>\n",
       "</div>"
      ],
      "text/plain": [
       "  DRUGBANK_ID  UMLS_CUI\n",
       "0     DB14655  C0006142\n",
       "1     DB12319  C0018099\n",
       "2     DB12319  C0740394\n",
       "3     DB13989  C0020538\n",
       "4     DB06608  C0024530"
      ]
     },
     "execution_count": 240,
     "metadata": {},
     "output_type": "execute_result"
    }
   ],
   "source": [
    "# update drug-disease\n",
    "drug_disease.head()"
   ]
  },
  {
   "cell_type": "code",
   "execution_count": 241,
   "metadata": {},
   "outputs": [
    {
     "data": {
      "text/html": [
       "<div>\n",
       "<style scoped>\n",
       "    .dataframe tbody tr th:only-of-type {\n",
       "        vertical-align: middle;\n",
       "    }\n",
       "\n",
       "    .dataframe tbody tr th {\n",
       "        vertical-align: top;\n",
       "    }\n",
       "\n",
       "    .dataframe thead th {\n",
       "        text-align: right;\n",
       "    }\n",
       "</style>\n",
       "<table border=\"1\" class=\"dataframe\">\n",
       "  <thead>\n",
       "    <tr style=\"text-align: right;\">\n",
       "      <th></th>\n",
       "      <th>DRUGBANK_ID</th>\n",
       "      <th>UMLS_CUI</th>\n",
       "      <th>drug_num</th>\n",
       "      <th>disease_num</th>\n",
       "    </tr>\n",
       "  </thead>\n",
       "  <tbody>\n",
       "    <tr>\n",
       "      <th>0</th>\n",
       "      <td>DB14655</td>\n",
       "      <td>C0006142</td>\n",
       "      <td>8031</td>\n",
       "      <td>8355</td>\n",
       "    </tr>\n",
       "    <tr>\n",
       "      <th>1</th>\n",
       "      <td>DB12319</td>\n",
       "      <td>C0018099</td>\n",
       "      <td>7520</td>\n",
       "      <td>8853</td>\n",
       "    </tr>\n",
       "    <tr>\n",
       "      <th>2</th>\n",
       "      <td>DB12319</td>\n",
       "      <td>C0740394</td>\n",
       "      <td>7520</td>\n",
       "      <td>12711</td>\n",
       "    </tr>\n",
       "    <tr>\n",
       "      <th>3</th>\n",
       "      <td>DB13989</td>\n",
       "      <td>C0020538</td>\n",
       "      <td>7910</td>\n",
       "      <td>9031</td>\n",
       "    </tr>\n",
       "    <tr>\n",
       "      <th>4</th>\n",
       "      <td>DB06608</td>\n",
       "      <td>C0024530</td>\n",
       "      <td>4783</td>\n",
       "      <td>9292</td>\n",
       "    </tr>\n",
       "    <tr>\n",
       "      <th>...</th>\n",
       "      <td>...</td>\n",
       "      <td>...</td>\n",
       "      <td>...</td>\n",
       "      <td>...</td>\n",
       "    </tr>\n",
       "    <tr>\n",
       "      <th>7903</th>\n",
       "      <td>DB15575</td>\n",
       "      <td>C0007112</td>\n",
       "      <td>8083</td>\n",
       "      <td>8389</td>\n",
       "    </tr>\n",
       "    <tr>\n",
       "      <th>7904</th>\n",
       "      <td>DB11712</td>\n",
       "      <td>C0392164</td>\n",
       "      <td>7377</td>\n",
       "      <td>12041</td>\n",
       "    </tr>\n",
       "    <tr>\n",
       "      <th>7905</th>\n",
       "      <td>DB11799</td>\n",
       "      <td>C0019693</td>\n",
       "      <td>7410</td>\n",
       "      <td>8974</td>\n",
       "    </tr>\n",
       "    <tr>\n",
       "      <th>7906</th>\n",
       "      <td>DB12486</td>\n",
       "      <td>C0401149</td>\n",
       "      <td>7558</td>\n",
       "      <td>12170</td>\n",
       "    </tr>\n",
       "    <tr>\n",
       "      <th>7907</th>\n",
       "      <td>DB11901</td>\n",
       "      <td>C0376358</td>\n",
       "      <td>7433</td>\n",
       "      <td>12022</td>\n",
       "    </tr>\n",
       "  </tbody>\n",
       "</table>\n",
       "<p>7908 rows × 4 columns</p>\n",
       "</div>"
      ],
      "text/plain": [
       "     DRUGBANK_ID  UMLS_CUI  drug_num  disease_num\n",
       "0        DB14655  C0006142      8031         8355\n",
       "1        DB12319  C0018099      7520         8853\n",
       "2        DB12319  C0740394      7520        12711\n",
       "3        DB13989  C0020538      7910         9031\n",
       "4        DB06608  C0024530      4783         9292\n",
       "...          ...       ...       ...          ...\n",
       "7903     DB15575  C0007112      8083         8389\n",
       "7904     DB11712  C0392164      7377        12041\n",
       "7905     DB11799  C0019693      7410         8974\n",
       "7906     DB12486  C0401149      7558        12170\n",
       "7907     DB11901  C0376358      7433        12022\n",
       "\n",
       "[7908 rows x 4 columns]"
      ]
     },
     "execution_count": 241,
     "metadata": {},
     "output_type": "execute_result"
    }
   ],
   "source": [
    "drug_disease['drug_num'] = drug_disease['DRUGBANK_ID'].map(drug_num_dict)\n",
    "drug_disease['disease_num'] = drug_disease['UMLS_CUI'].map(disease_num_dict)\n",
    "drug_disease"
   ]
  },
  {
   "cell_type": "code",
   "execution_count": 242,
   "metadata": {},
   "outputs": [
    {
     "data": {
      "text/html": [
       "<div>\n",
       "<style scoped>\n",
       "    .dataframe tbody tr th:only-of-type {\n",
       "        vertical-align: middle;\n",
       "    }\n",
       "\n",
       "    .dataframe tbody tr th {\n",
       "        vertical-align: top;\n",
       "    }\n",
       "\n",
       "    .dataframe thead th {\n",
       "        text-align: right;\n",
       "    }\n",
       "</style>\n",
       "<table border=\"1\" class=\"dataframe\">\n",
       "  <thead>\n",
       "    <tr style=\"text-align: right;\">\n",
       "      <th></th>\n",
       "      <th>DRUGS</th>\n",
       "      <th>GENES</th>\n",
       "      <th>gene_num</th>\n",
       "      <th>drug_num</th>\n",
       "    </tr>\n",
       "  </thead>\n",
       "  <tbody>\n",
       "    <tr>\n",
       "      <th>0</th>\n",
       "      <td>DB00023</td>\n",
       "      <td>SERPINA7</td>\n",
       "      <td>33701</td>\n",
       "      <td>21</td>\n",
       "    </tr>\n",
       "    <tr>\n",
       "      <th>1</th>\n",
       "      <td>DB00059</td>\n",
       "      <td>SERPINA7</td>\n",
       "      <td>33701</td>\n",
       "      <td>55</td>\n",
       "    </tr>\n",
       "    <tr>\n",
       "      <th>2</th>\n",
       "      <td>DB00070</td>\n",
       "      <td>ALB</td>\n",
       "      <td>19955</td>\n",
       "      <td>64</td>\n",
       "    </tr>\n",
       "    <tr>\n",
       "      <th>3</th>\n",
       "      <td>DB00126</td>\n",
       "      <td>ALB</td>\n",
       "      <td>19955</td>\n",
       "      <td>114</td>\n",
       "    </tr>\n",
       "    <tr>\n",
       "      <th>4</th>\n",
       "      <td>DB00132</td>\n",
       "      <td>FABP7</td>\n",
       "      <td>24382</td>\n",
       "      <td>120</td>\n",
       "    </tr>\n",
       "  </tbody>\n",
       "</table>\n",
       "</div>"
      ],
      "text/plain": [
       "     DRUGS     GENES  gene_num  drug_num\n",
       "0  DB00023  SERPINA7     33701        21\n",
       "1  DB00059  SERPINA7     33701        55\n",
       "2  DB00070       ALB     19955        64\n",
       "3  DB00126       ALB     19955       114\n",
       "4  DB00132     FABP7     24382       120"
      ]
     },
     "execution_count": 242,
     "metadata": {},
     "output_type": "execute_result"
    }
   ],
   "source": [
    "# update drug-gene\n",
    "for action in drug_gene:\n",
    "    drug_gene[action]['gene_num'] = drug_gene[action]['GENES'].map(gene_num_dict)\n",
    "    drug_gene[action]['drug_num'] = drug_gene[action]['DRUGS'].map(drug_num_dict)\n",
    "drug_gene['carrier'].head()"
   ]
  },
  {
   "cell_type": "code",
   "execution_count": 243,
   "metadata": {},
   "outputs": [
    {
     "data": {
      "text/html": [
       "<div>\n",
       "<style scoped>\n",
       "    .dataframe tbody tr th:only-of-type {\n",
       "        vertical-align: middle;\n",
       "    }\n",
       "\n",
       "    .dataframe tbody tr th {\n",
       "        vertical-align: top;\n",
       "    }\n",
       "\n",
       "    .dataframe thead th {\n",
       "        text-align: right;\n",
       "    }\n",
       "</style>\n",
       "<table border=\"1\" class=\"dataframe\">\n",
       "  <thead>\n",
       "    <tr style=\"text-align: right;\">\n",
       "      <th></th>\n",
       "      <th>0</th>\n",
       "      <th>1</th>\n",
       "      <th>2</th>\n",
       "      <th>gene1_num</th>\n",
       "      <th>gene2_num</th>\n",
       "    </tr>\n",
       "  </thead>\n",
       "  <tbody>\n",
       "    <tr>\n",
       "      <th>0</th>\n",
       "      <td>ARF5</td>\n",
       "      <td>AP4S1</td>\n",
       "      <td>binding</td>\n",
       "      <td>20348</td>\n",
       "      <td>20251</td>\n",
       "    </tr>\n",
       "    <tr>\n",
       "      <th>1</th>\n",
       "      <td>ARF5</td>\n",
       "      <td>BET1</td>\n",
       "      <td>binding</td>\n",
       "      <td>20348</td>\n",
       "      <td>20966</td>\n",
       "    </tr>\n",
       "    <tr>\n",
       "      <th>2</th>\n",
       "      <td>ARF5</td>\n",
       "      <td>YKT6</td>\n",
       "      <td>binding</td>\n",
       "      <td>20348</td>\n",
       "      <td>37138</td>\n",
       "    </tr>\n",
       "    <tr>\n",
       "      <th>3</th>\n",
       "      <td>ARF5</td>\n",
       "      <td>VAMP4</td>\n",
       "      <td>binding</td>\n",
       "      <td>20348</td>\n",
       "      <td>36759</td>\n",
       "    </tr>\n",
       "    <tr>\n",
       "      <th>4</th>\n",
       "      <td>ARF5</td>\n",
       "      <td>CYTH4</td>\n",
       "      <td>activation</td>\n",
       "      <td>20348</td>\n",
       "      <td>23094</td>\n",
       "    </tr>\n",
       "  </tbody>\n",
       "</table>\n",
       "</div>"
      ],
      "text/plain": [
       "      0      1           2  gene1_num  gene2_num\n",
       "0  ARF5  AP4S1     binding      20348      20251\n",
       "1  ARF5   BET1     binding      20348      20966\n",
       "2  ARF5   YKT6     binding      20348      37138\n",
       "3  ARF5  VAMP4     binding      20348      36759\n",
       "4  ARF5  CYTH4  activation      20348      23094"
      ]
     },
     "execution_count": 243,
     "metadata": {},
     "output_type": "execute_result"
    }
   ],
   "source": [
    "# update gene-gene\n",
    "gene_gene['gene1_num'] = gene_gene[0].map(gene_num_dict)\n",
    "gene_gene['gene2_num'] = gene_gene[1].map(gene_num_dict)\n",
    "gene_gene.head()"
   ]
  },
  {
   "cell_type": "code",
   "execution_count": 244,
   "metadata": {
    "scrolled": true
   },
   "outputs": [
    {
     "data": {
      "text/html": [
       "<div>\n",
       "<style scoped>\n",
       "    .dataframe tbody tr th:only-of-type {\n",
       "        vertical-align: middle;\n",
       "    }\n",
       "\n",
       "    .dataframe tbody tr th {\n",
       "        vertical-align: top;\n",
       "    }\n",
       "\n",
       "    .dataframe thead th {\n",
       "        text-align: right;\n",
       "    }\n",
       "</style>\n",
       "<table border=\"1\" class=\"dataframe\">\n",
       "  <thead>\n",
       "    <tr style=\"text-align: right;\">\n",
       "      <th></th>\n",
       "      <th>0</th>\n",
       "      <th>1</th>\n",
       "      <th>gene_num</th>\n",
       "      <th>disease_num</th>\n",
       "    </tr>\n",
       "  </thead>\n",
       "  <tbody>\n",
       "    <tr>\n",
       "      <th>0</th>\n",
       "      <td>A1BG</td>\n",
       "      <td>C0019209</td>\n",
       "      <td>19277</td>\n",
       "      <td>8946</td>\n",
       "    </tr>\n",
       "    <tr>\n",
       "      <th>1</th>\n",
       "      <td>A1BG</td>\n",
       "      <td>C0036341</td>\n",
       "      <td>19277</td>\n",
       "      <td>9810</td>\n",
       "    </tr>\n",
       "    <tr>\n",
       "      <th>2</th>\n",
       "      <td>A2M</td>\n",
       "      <td>C0002395</td>\n",
       "      <td>19279</td>\n",
       "      <td>8159</td>\n",
       "    </tr>\n",
       "    <tr>\n",
       "      <th>3</th>\n",
       "      <td>A2M</td>\n",
       "      <td>C0007102</td>\n",
       "      <td>19279</td>\n",
       "      <td>8386</td>\n",
       "    </tr>\n",
       "    <tr>\n",
       "      <th>4</th>\n",
       "      <td>A2M</td>\n",
       "      <td>C0009375</td>\n",
       "      <td>19279</td>\n",
       "      <td>8498</td>\n",
       "    </tr>\n",
       "  </tbody>\n",
       "</table>\n",
       "</div>"
      ],
      "text/plain": [
       "      0         1  gene_num  disease_num\n",
       "0  A1BG  C0019209     19277         8946\n",
       "1  A1BG  C0036341     19277         9810\n",
       "2   A2M  C0002395     19279         8159\n",
       "3   A2M  C0007102     19279         8386\n",
       "4   A2M  C0009375     19279         8498"
      ]
     },
     "execution_count": 244,
     "metadata": {},
     "output_type": "execute_result"
    }
   ],
   "source": [
    "# update gene-disease\n",
    "gene_disease['gene_num'] = gene_disease[0].map(gene_num_dict)\n",
    "gene_disease['disease_num'] = gene_disease[1].map(disease_num_dict)\n",
    "gene_disease.head()"
   ]
  },
  {
   "cell_type": "code",
   "execution_count": 245,
   "metadata": {},
   "outputs": [
    {
     "data": {
      "text/html": [
       "<div>\n",
       "<style scoped>\n",
       "    .dataframe tbody tr th:only-of-type {\n",
       "        vertical-align: middle;\n",
       "    }\n",
       "\n",
       "    .dataframe tbody tr th {\n",
       "        vertical-align: top;\n",
       "    }\n",
       "\n",
       "    .dataframe thead th {\n",
       "        text-align: right;\n",
       "    }\n",
       "</style>\n",
       "<table border=\"1\" class=\"dataframe\">\n",
       "  <thead>\n",
       "    <tr style=\"text-align: right;\">\n",
       "      <th></th>\n",
       "      <th>0</th>\n",
       "      <th>1</th>\n",
       "      <th>drug1_num</th>\n",
       "      <th>drug2_num</th>\n",
       "    </tr>\n",
       "  </thead>\n",
       "  <tbody>\n",
       "    <tr>\n",
       "      <th>0</th>\n",
       "      <td>DB00415</td>\n",
       "      <td>DB00813</td>\n",
       "      <td>398</td>\n",
       "      <td>788</td>\n",
       "    </tr>\n",
       "    <tr>\n",
       "      <th>1</th>\n",
       "      <td>DB01236</td>\n",
       "      <td>DB01223</td>\n",
       "      <td>1202</td>\n",
       "      <td>1189</td>\n",
       "    </tr>\n",
       "    <tr>\n",
       "      <th>2</th>\n",
       "      <td>DB00601</td>\n",
       "      <td>DB00303</td>\n",
       "      <td>580</td>\n",
       "      <td>288</td>\n",
       "    </tr>\n",
       "    <tr>\n",
       "      <th>3</th>\n",
       "      <td>DB08298</td>\n",
       "      <td>DB00811</td>\n",
       "      <td>6302</td>\n",
       "      <td>786</td>\n",
       "    </tr>\n",
       "    <tr>\n",
       "      <th>4</th>\n",
       "      <td>DB01173</td>\n",
       "      <td>DB00675</td>\n",
       "      <td>1140</td>\n",
       "      <td>652</td>\n",
       "    </tr>\n",
       "  </tbody>\n",
       "</table>\n",
       "</div>"
      ],
      "text/plain": [
       "         0        1  drug1_num  drug2_num\n",
       "0  DB00415  DB00813        398        788\n",
       "1  DB01236  DB01223       1202       1189\n",
       "2  DB00601  DB00303        580        288\n",
       "3  DB08298  DB00811       6302        786\n",
       "4  DB01173  DB00675       1140        652"
      ]
     },
     "execution_count": 245,
     "metadata": {},
     "output_type": "execute_result"
    }
   ],
   "source": [
    "# update drug-drug\n",
    "drug_drug['drug1_num'] = drug_drug[0].map(drug_num_dict)\n",
    "drug_drug['drug2_num'] = drug_drug[1].map(drug_num_dict)\n",
    "drug_drug.head()"
   ]
  },
  {
   "cell_type": "markdown",
   "metadata": {},
   "source": [
    "### Construct graph as a np.array.\n",
    "first col: first entity\n",
    "second col: relation\n",
    "third col: second entity"
   ]
  },
  {
   "cell_type": "markdown",
   "metadata": {},
   "source": [
    "map relations to num"
   ]
  },
  {
   "cell_type": "code",
   "execution_count": 246,
   "metadata": {},
   "outputs": [],
   "source": [
    "treat_rel = 0\n",
    "drug_gene_dict = {rel:num for (rel, num) in zip(drug_gene.keys(), range(1,5))}\n",
    "gene_gene_dict = {rel:num for (rel, num) in zip(gene_gene[2].unique(), range(5, 12))}\n",
    "cause = 12\n",
    "se = 13"
   ]
  },
  {
   "cell_type": "code",
   "execution_count": 247,
   "metadata": {},
   "outputs": [],
   "source": [
    "# drug disease\n",
    "drug_disease_arr = np.array([[drug_num, treat_rel, disease_num] for (drug_num, disease_num) in \n",
    "                    zip(drug_disease['drug_num'], drug_disease['disease_num'])])"
   ]
  },
  {
   "cell_type": "code",
   "execution_count": 248,
   "metadata": {},
   "outputs": [],
   "source": [
    "# drug gene\n",
    "drug_gene_arr = []\n",
    "for action in drug_gene:\n",
    "    drug_gene_list = [[drug_num, drug_gene_dict[action], gene_num] for (drug_num, gene_num) in \n",
    "                     zip(drug_gene[action]['drug_num'], drug_gene[action]['gene_num'])]\n",
    "    drug_gene_arr.extend(drug_gene_list)\n",
    "drug_gene_arr = np.array(drug_gene_arr)"
   ]
  },
  {
   "cell_type": "code",
   "execution_count": 249,
   "metadata": {},
   "outputs": [],
   "source": [
    "# gene-gene\n",
    "\n",
    "gene_gene_arr = []\n",
    "for interaction in gene_gene_dict.keys():\n",
    "    subset = gene_gene[gene_gene[2] == interaction]\n",
    "    subset_list = [[gene_num1, gene_gene_dict[interaction], gene_num2] for (gene_num1, gene_num2) in \n",
    "                    zip(subset['gene1_num'], subset['gene2_num'])]\n",
    "    gene_gene_arr.extend(subset_list)\n",
    "gene_gene_arr = np.array(gene_gene_arr)"
   ]
  },
  {
   "cell_type": "code",
   "execution_count": 250,
   "metadata": {},
   "outputs": [],
   "source": [
    "# gene disease\n",
    "\n",
    "gene_disease_arr = np.array([(gene_num, cause, disease_num) for (gene_num, disease_num) in \n",
    "                    zip(gene_disease['gene_num'], gene_disease['disease_num'])])"
   ]
  },
  {
   "cell_type": "code",
   "execution_count": 251,
   "metadata": {},
   "outputs": [],
   "source": [
    "# drug-drug\n",
    "drug_drug_arr = np.array([(drug1_num, se, drug2_num) for (drug1_num, drug2_num) in \n",
    "                    zip(drug_drug['drug1_num'], drug_drug['drug2_num'])])"
   ]
  },
  {
   "cell_type": "code",
   "execution_count": 255,
   "metadata": {},
   "outputs": [],
   "source": [
    "graph_arr = np.concatenate([drug_disease_arr, drug_gene_arr, gene_gene_arr, gene_disease_arr, drug_drug_arr])"
   ]
  },
  {
   "cell_type": "code",
   "execution_count": 256,
   "metadata": {},
   "outputs": [
    {
     "data": {
      "text/plain": [
       "array([[ 8031,     0,  8355],\n",
       "       [ 7520,     0,  8853],\n",
       "       [ 7520,     0, 12711],\n",
       "       ...,\n",
       "       [  473,    13,   771],\n",
       "       [  737,    13,   992],\n",
       "       [  424,    13,   811]])"
      ]
     },
     "execution_count": 256,
     "metadata": {},
     "output_type": "execute_result"
    }
   ],
   "source": [
    "graph_arr"
   ]
  },
  {
   "cell_type": "code",
   "execution_count": 257,
   "metadata": {},
   "outputs": [],
   "source": [
    "np.save('../data/clean/graph', graph_arr)\n",
    "# graph_arr = np.load('../data/clean/graph.npy')"
   ]
  },
  {
   "cell_type": "markdown",
   "metadata": {},
   "source": [
    "### Construct graph using dgl"
   ]
  },
  {
   "cell_type": "code",
   "execution_count": 82,
   "metadata": {},
   "outputs": [],
   "source": [
    "graph_dict = {}"
   ]
  },
  {
   "cell_type": "code",
   "execution_count": 83,
   "metadata": {},
   "outputs": [
    {
     "name": "stdout",
     "output_type": "stream",
     "text": [
      "[(8031, 8355), (7520, 8853), (7520, 12711), (7910, 9031), (4783, 9292), (8046, 11479), (7691, 8535), (7711, 8478), (7719, 9527), (1363, 10085)]\n"
     ]
    }
   ],
   "source": [
    "# drug-disease\n",
    "drug_disease_list = [(drug_num, disease_num) for (drug_num, disease_num) in \n",
    "                    zip(drug_disease['drug_num'], drug_disease['disease_num'])]\n",
    "print(drug_disease_list[:10])\n",
    "graph_dict['drug', 'treat', 'disease'] = drug_disease_list"
   ]
  },
  {
   "cell_type": "code",
   "execution_count": 84,
   "metadata": {},
   "outputs": [
    {
     "data": {
      "text/plain": [
       "[(21, 33705),\n",
       " (55, 33705),\n",
       " (64, 19955),\n",
       " (114, 19955),\n",
       " (120, 24385),\n",
       " (124, 25145),\n",
       " (125, 19955),\n",
       " (140, 19955),\n",
       " (141, 25145),\n",
       " (142, 24385)]"
      ]
     },
     "execution_count": 84,
     "metadata": {},
     "output_type": "execute_result"
    }
   ],
   "source": [
    "# drug-gene\n",
    "for action in drug_gene:\n",
    "    drug_gene_list = [(drug_num, gene_num) for (drug_num, gene_num) in \n",
    "                     zip(drug_gene[action]['drug_num'], drug_gene[action]['gene_num'])]\n",
    "    graph_dict['drug', action, 'gene'] = drug_gene_list\n",
    "graph_dict['drug', 'carrier', 'gene'][:10]"
   ]
  },
  {
   "cell_type": "code",
   "execution_count": 85,
   "metadata": {},
   "outputs": [
    {
     "data": {
      "text/plain": [
       "[(20348, 20251),\n",
       " (20348, 20966),\n",
       " (20348, 37143),\n",
       " (20348, 36764),\n",
       " (20348, 23097),\n",
       " (20348, 22584),\n",
       " (20348, 20232),\n",
       " (20348, 20241),\n",
       " (20348, 20346),\n",
       " (20348, 32424)]"
      ]
     },
     "execution_count": 85,
     "metadata": {},
     "output_type": "execute_result"
    }
   ],
   "source": [
    "# gene-gene\n",
    "gene_gene_list = [(gene_num1, gene_num2) for (gene_num1, gene_num2) in \n",
    "                    zip(gene_gene['gene1_num'], gene_gene['gene2_num'])]\n",
    "gene_gene_list[:10]"
   ]
  },
  {
   "cell_type": "code",
   "execution_count": 86,
   "metadata": {},
   "outputs": [
    {
     "data": {
      "text/plain": [
       "array(['binding', 'activation', 'catalysis', 'reaction', 'expression',\n",
       "       'inhibition', 'ptmod'], dtype=object)"
      ]
     },
     "execution_count": 86,
     "metadata": {},
     "output_type": "execute_result"
    }
   ],
   "source": [
    "gene_interaction_types = gene_gene[2].unique()\n",
    "gene_interaction_types"
   ]
  },
  {
   "cell_type": "code",
   "execution_count": 87,
   "metadata": {},
   "outputs": [],
   "source": [
    "# subset gene_gene according to interaction type\n",
    "for interaction in gene_interaction_types:\n",
    "    subset = gene_gene[gene_gene[2] == interaction]\n",
    "    subset_list = [(gene_num1, gene_num2) for (gene_num1, gene_num2) in \n",
    "                    zip(subset['gene1_num'], subset['gene2_num'])]\n",
    "    graph_dict[('gene', interaction, 'gene')] = subset_list"
   ]
  },
  {
   "cell_type": "code",
   "execution_count": 88,
   "metadata": {},
   "outputs": [
    {
     "name": "stdout",
     "output_type": "stream",
     "text": [
      "[(19277, 9810), (29448, 8148), (29448, 8324), (29448, 9688), (29448, 12022), (29451, 8324), (29451, 8355), (29451, 9688), (29451, 11942), (29451, 12022)]\n"
     ]
    }
   ],
   "source": [
    "# gene-disease\n",
    "gene_disease_list = [(gene_num, disease_num) for (gene_num, disease_num) in \n",
    "                    zip(gene_disease['gene_num'], gene_disease['disease_num'])]\n",
    "print(gene_disease_list[:10])\n",
    "graph_dict['gene', 'associate', 'disease'] = gene_disease_list"
   ]
  },
  {
   "cell_type": "code",
   "execution_count": 89,
   "metadata": {},
   "outputs": [
    {
     "name": "stdout",
     "output_type": "stream",
     "text": [
      "[(398, 788), (1202, 1189), (580, 288), (6302, 786), (1140, 652), (513, 870), (218, 702), (1170, 1070), (4404, 478), (1986, 724)]\n"
     ]
    }
   ],
   "source": [
    "# drug-drug\n",
    "drug_drug_list = [(drug1_num, drug2_num) for (drug1_num, drug2_num) in \n",
    "                    zip(drug_drug['drug1_num'], drug_drug['drug2_num'])]\n",
    "print(drug_drug_list[:10])\n",
    "graph_dict['drug', 'side_effect', 'drug'] = drug_drug_list"
   ]
  },
  {
   "cell_type": "code",
   "execution_count": 90,
   "metadata": {},
   "outputs": [
    {
     "name": "stdout",
     "output_type": "stream",
     "text": [
      "('drug', 'treat', 'disease')\n",
      "('drug', 'carrier', 'gene')\n",
      "('drug', 'enzyme', 'gene')\n",
      "('drug', 'target', 'gene')\n",
      "('drug', 'transport', 'gene')\n",
      "('gene', 'binding', 'gene')\n",
      "('gene', 'activation', 'gene')\n",
      "('gene', 'catalysis', 'gene')\n",
      "('gene', 'reaction', 'gene')\n",
      "('gene', 'expression', 'gene')\n",
      "('gene', 'inhibition', 'gene')\n",
      "('gene', 'ptmod', 'gene')\n",
      "('gene', 'associate', 'disease')\n",
      "('drug', 'side_effect', 'drug')\n"
     ]
    }
   ],
   "source": [
    "for key in graph_dict:\n",
    "    print(key)"
   ]
  },
  {
   "cell_type": "code",
   "execution_count": 20,
   "metadata": {},
   "outputs": [],
   "source": [
    "g = dgl.heterograph(graph_dict)"
   ]
  },
  {
   "cell_type": "code",
   "execution_count": 21,
   "metadata": {},
   "outputs": [
    {
     "data": {
      "text/plain": [
       "<dgl.view.HeteroNodeView at 0xa2746e410>"
      ]
     },
     "execution_count": 21,
     "metadata": {},
     "output_type": "execute_result"
    }
   ],
   "source": [
    "g.nodes"
   ]
  },
  {
   "cell_type": "code",
   "execution_count": 92,
   "metadata": {},
   "outputs": [],
   "source": [
    "def save_dict_file(dictvar, file):\n",
    "    with open(file,'w') as f:\n",
    "        f.write(str(dictvar))"
   ]
  },
  {
   "cell_type": "code",
   "execution_count": 93,
   "metadata": {},
   "outputs": [],
   "source": [
    "# save dict to a file\n",
    "save_dict_file(graph_dict, '../data/clean/graph_dict.txt')"
   ]
  },
  {
   "cell_type": "code",
   "execution_count": 94,
   "metadata": {},
   "outputs": [],
   "source": [
    "def read_dict_file(file):\n",
    "    dic = ''\n",
    "    with open(file,'r') as f:\n",
    "        for line in f.readlines():\n",
    "            dic = line # string\n",
    "    dic = eval(dic)\n",
    "    return(dic)"
   ]
  },
  {
   "cell_type": "code",
   "execution_count": 95,
   "metadata": {},
   "outputs": [
    {
     "name": "stdout",
     "output_type": "stream",
     "text": [
      "dict_keys([('drug', 'treat', 'disease'), ('drug', 'carrier', 'gene'), ('drug', 'enzyme', 'gene'), ('drug', 'target', 'gene'), ('drug', 'transport', 'gene'), ('gene', 'binding', 'gene'), ('gene', 'activation', 'gene'), ('gene', 'catalysis', 'gene'), ('gene', 'reaction', 'gene'), ('gene', 'expression', 'gene'), ('gene', 'inhibition', 'gene'), ('gene', 'ptmod', 'gene'), ('gene', 'associate', 'disease'), ('drug', 'side_effect', 'drug')])\n"
     ]
    }
   ],
   "source": [
    "test_graph_dict = read_dict_file('../data/clean/graph_dict.txt')\n",
    "print(test_graph_dict.keys())"
   ]
  },
  {
   "cell_type": "code",
   "execution_count": null,
   "metadata": {},
   "outputs": [],
   "source": [
    "test_graph_dict"
   ]
  },
  {
   "cell_type": "code",
   "execution_count": null,
   "metadata": {},
   "outputs": [],
   "source": []
  }
 ],
 "metadata": {
  "kernelspec": {
   "display_name": "Python 3",
   "language": "python",
   "name": "python3"
  },
  "language_info": {
   "codemirror_mode": {
    "name": "ipython",
    "version": 3
   },
   "file_extension": ".py",
   "mimetype": "text/x-python",
   "name": "python",
   "nbconvert_exporter": "python",
   "pygments_lexer": "ipython3",
   "version": "3.7.6"
  }
 },
 "nbformat": 4,
 "nbformat_minor": 4
}
