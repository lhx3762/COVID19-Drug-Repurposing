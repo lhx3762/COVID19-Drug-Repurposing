{
 "cells": [
  {
   "cell_type": "markdown",
   "metadata": {},
   "source": [
    "### Loss plot"
   ]
  },
  {
   "cell_type": "code",
   "execution_count": 24,
   "metadata": {},
   "outputs": [],
   "source": [
    "import pandas as pd\n",
    "import seaborn as sns\n",
    "import matplotlib.pyplot as plt"
   ]
  },
  {
   "cell_type": "code",
   "execution_count": 22,
   "metadata": {},
   "outputs": [
    {
     "data": {
      "text/html": [
       "<div>\n",
       "<style scoped>\n",
       "    .dataframe tbody tr th:only-of-type {\n",
       "        vertical-align: middle;\n",
       "    }\n",
       "\n",
       "    .dataframe tbody tr th {\n",
       "        vertical-align: top;\n",
       "    }\n",
       "\n",
       "    .dataframe thead th {\n",
       "        text-align: right;\n",
       "    }\n",
       "</style>\n",
       "<table border=\"1\" class=\"dataframe\">\n",
       "  <thead>\n",
       "    <tr style=\"text-align: right;\">\n",
       "      <th></th>\n",
       "      <th>epoch</th>\n",
       "      <th>loss</th>\n",
       "    </tr>\n",
       "  </thead>\n",
       "  <tbody>\n",
       "    <tr>\n",
       "      <th>0</th>\n",
       "      <td>1</td>\n",
       "      <td>3.263271</td>\n",
       "    </tr>\n",
       "    <tr>\n",
       "      <th>1</th>\n",
       "      <td>2</td>\n",
       "      <td>2.761802</td>\n",
       "    </tr>\n",
       "    <tr>\n",
       "      <th>2</th>\n",
       "      <td>3</td>\n",
       "      <td>2.359528</td>\n",
       "    </tr>\n",
       "    <tr>\n",
       "      <th>3</th>\n",
       "      <td>4</td>\n",
       "      <td>2.086520</td>\n",
       "    </tr>\n",
       "    <tr>\n",
       "      <th>4</th>\n",
       "      <td>5</td>\n",
       "      <td>1.806247</td>\n",
       "    </tr>\n",
       "  </tbody>\n",
       "</table>\n",
       "</div>"
      ],
      "text/plain": [
       "   epoch      loss\n",
       "0      1  3.263271\n",
       "1      2  2.761802\n",
       "2      3  2.359528\n",
       "3      4  2.086520\n",
       "4      5  1.806247"
      ]
     },
     "execution_count": 22,
     "metadata": {},
     "output_type": "execute_result"
    }
   ],
   "source": [
    "loss = pd.read_csv('model_pruned_graph_1.1.loss.csv')\n",
    "loss.head()"
   ]
  },
  {
   "cell_type": "code",
   "execution_count": 23,
   "metadata": {},
   "outputs": [],
   "source": [
    "loss = loss[loss['epoch']<=1120]"
   ]
  },
  {
   "cell_type": "code",
   "execution_count": 25,
   "metadata": {},
   "outputs": [
    {
     "data": {
      "text/plain": [
       "Text(0.5, 1.0, 'Model Loss')"
      ]
     },
     "execution_count": 25,
     "metadata": {},
     "output_type": "execute_result"
    },
    {
     "data": {
      "image/png": "[encoded data removed]",
      "text/plain": [
       "<Figure size 432x288 with 1 Axes>"
      ]
     },
     "metadata": {
      "needs_background": "light"
     },
     "output_type": "display_data"
    }
   ],
   "source": [
    "ax = sns.lineplot(x='epoch', y='loss', data=loss)\n",
    "ax.set_title('Model Loss')"
   ]
  },
  {
   "cell_type": "code",
   "execution_count": 27,
   "metadata": {},
   "outputs": [
    {
     "data": {
      "text/plain": [
       "Text(0.5, 1.0, 'Model Evaluation')"
      ]
     },
     "execution_count": 27,
     "metadata": {},
     "output_type": "execute_result"
    },
    {
     "data": {
      "image/png": "[encoded data removed]",
      "text/plain": [
       "<Figure size 432x288 with 1 Axes>"
      ]
     },
     "metadata": {
      "needs_background": "light"
     },
     "output_type": "display_data"
    }
   ],
   "source": [
    "mrr = pd.read_csv('model_pruned_graph_1.1.mrr.csv')\n",
    "mrr = mrr[mrr['epoch'] <= 1120]\n",
    "ax = sns.lineplot(x='epoch', y='mrr', data=mrr)\n",
    "ax.set_ylabel('MRR')\n",
    "ax.set_title('Model Evaluation')"
   ]
  },
  {
   "cell_type": "markdown",
   "metadata": {},
   "source": [
    "### Evaluate model"
   ]
  },
  {
   "cell_type": "code",
   "execution_count": 1,
   "metadata": {},
   "outputs": [
    {
     "name": "stderr",
     "output_type": "stream",
     "text": [
      "Using backend: pytorch\n"
     ]
    }
   ],
   "source": [
    "import utils\n",
    "from model import LinkPredict\n",
    "from prune import prune_graph\n",
    "\n",
    "import torch\n",
    "import numpy as np\n",
    "import pandas as pd\n",
    "import json\n",
    "\n",
    "from sklearn.model_selection import train_test_split"
   ]
  },
  {
   "cell_type": "code",
   "execution_count": 2,
   "metadata": {},
   "outputs": [],
   "source": [
    "def node_norm_to_edge_norm(g, node_norm):\n",
    "    g = g.local_var()\n",
    "    # convert to edge norm\n",
    "    g.ndata['norm'] = node_norm\n",
    "    g.apply_edges(lambda edges : {'norm' : edges.dst['norm']})\n",
    "    return g.edata['norm']"
   ]
  },
  {
   "cell_type": "code",
   "execution_count": 3,
   "metadata": {},
   "outputs": [],
   "source": [
    "model_path = 'model_pruned_graph_1.1.model_state_gpu.pth'\n",
    "\n",
    "model_param = {\n",
    "    'h_dim'    : 80, # output feature size\n",
    "    'dropout'  : 0.2,\n",
    "    'num_bases': 30,\n",
    "    'num_hidden_layers': 4,\n",
    "    'use_cuda' : True,\n",
    "    'reg_param': 0.01\n",
    "}\n",
    "use_cuda = model_param['use_cuda']\n",
    "if use_cuda: torch.device('cuda')"
   ]
  },
  {
   "cell_type": "code",
   "execution_count": 4,
   "metadata": {},
   "outputs": [
    {
     "name": "stdout",
     "output_type": "stream",
     "text": [
      "There are 233 drugs\n"
     ]
    }
   ],
   "source": [
    "graph = np.load('./pruned_graph_1.npy')\n",
    "\n",
    "# map nodes\n",
    "all_nodes = sorted(list(set(graph[:,0].tolist() + graph[:,2].tolist())))\n",
    "node_map = {i: node for i, node in enumerate(all_nodes)}\n",
    "node_map_rev = {node: i for i, node in enumerate(all_nodes)}\n",
    "\n",
    "# map the nodes\n",
    "mapped_graph = np.zeros(graph.shape, dtype=int)\n",
    "for i, row in enumerate(graph):\n",
    "    mapped_graph[i] = [node_map_rev[row[0]], row[1], node_map_rev[row[2]]]\n",
    "\n",
    "diseases_nodes = list(set(mapped_graph[np.isin(mapped_graph[:,1], [0])][:,2]))\n",
    "drugs_nodes = list(set(mapped_graph[np.isin(mapped_graph[:,1], range(5))][:,0]))\n",
    "print('There are %d drugs' % len(drugs_nodes))"
   ]
  },
  {
   "cell_type": "code",
   "execution_count": 5,
   "metadata": {},
   "outputs": [],
   "source": [
    "covid_node = node_map_rev[37893]\n",
    "covid_test_data = np.zeros((len(drugs_nodes), 3), dtype=int)\n",
    "for i in range(len(covid_test_data)):\n",
    "    covid_test_data[i] = [drugs_nodes[i], 0, covid_node]"
   ]
  },
  {
   "cell_type": "code",
   "execution_count": 6,
   "metadata": {},
   "outputs": [],
   "source": [
    "num_nodes = len(list(set(np.unique(mapped_graph[:,0])).union(set(np.unique(mapped_graph[:,2])))))\n",
    "num_rels = np.unique(mapped_graph[:,1]).shape[0]\n",
    "num_edges = mapped_graph.shape[0]\n",
    "\n",
    "# divide drug-treat-disease associations into test, train, and validation\n",
    "# initiate train data with non-treat edges (relation type: 0)\n",
    "train_data = mapped_graph[mapped_graph[:,1] != 0]\n",
    "full_treat_edges = mapped_graph[mapped_graph[:,1] == 0]\n",
    "treat_train_data, val_data = train_test_split(full_treat_edges, test_size=0.2, random_state=0)\n",
    "train_data = np.concatenate((train_data, treat_train_data), axis=0)"
   ]
  },
  {
   "cell_type": "code",
   "execution_count": 7,
   "metadata": {},
   "outputs": [
    {
     "name": "stdout",
     "output_type": "stream",
     "text": [
      "Test graph:\n",
      "# nodes: 6605, # edges: 573583\n"
     ]
    },
    {
     "name": "stderr",
     "output_type": "stream",
     "text": [
      "C:\\Users\\sucip\\OneDrive\\Harvard\\1_Spring2020\\HST956\\project\\COVID19-Drug-Repurposing\\model\\utils.py:122: RuntimeWarning: divide by zero encountered in true_divide\n",
      "  norm = 1.0 / in_deg\n"
     ]
    }
   ],
   "source": [
    "test_graph, test_rel, test_norm = utils.build_test_graph(\n",
    "        num_nodes, num_rels, train_data)\n",
    "test_deg = test_graph.in_degrees(range(test_graph.number_of_nodes())).float().view(-1, 1)\n",
    "test_node_id = torch.arange(0, num_nodes, dtype=torch.long).view(-1, 1)\n",
    "test_rel = torch.from_numpy(test_rel)\n",
    "test_norm = node_norm_to_edge_norm(test_graph, torch.from_numpy(test_norm).view(-1, 1))"
   ]
  },
  {
   "cell_type": "code",
   "execution_count": 8,
   "metadata": {
    "scrolled": true
   },
   "outputs": [],
   "source": [
    "# load model\n",
    "model = LinkPredict(in_dim   = num_nodes,\n",
    "                    h_dim    = model_param['h_dim'],\n",
    "                    num_rels = num_rels,\n",
    "                    num_bases= model_param['num_bases'],\n",
    "                    num_hidden_layers = model_param['num_hidden_layers'],\n",
    "                    dropout  = model_param['dropout'],\n",
    "                    use_cuda = model_param['use_cuda'],\n",
    "                    reg_param= model_param['reg_param'])\n",
    "model.load_state_dict(torch.load(model_path)['state_dict'])\n",
    "model.eval()\n",
    "\n",
    "embed = model(test_graph, test_node_id, test_rel, test_norm)"
   ]
  },
  {
   "cell_type": "code",
   "execution_count": 9,
   "metadata": {},
   "outputs": [
    {
     "name": "stdout",
     "output_type": "stream",
     "text": [
      "batch 0 / 1\n",
      "batch 0 / 1\n",
      "MRR (raw): 0.016338\n",
      "Hits (raw) @ 1: 0.008621\n",
      "Hits (raw) @ 10: 0.025862\n"
     ]
    },
    {
     "name": "stderr",
     "output_type": "stream",
     "text": [
      "..\\torch\\csrc\\utils\\python_arg_parser.cpp:756: UserWarning: This overload of nonzero is deprecated:\n",
      "\tnonzero(Tensor input, *, Tensor out)\n",
      "Consider using one of the following signatures instead:\n",
      "\tnonzero(Tensor input, *, bool as_tuple)\n"
     ]
    }
   ],
   "source": [
    "mrr = utils.calc_mrr(embed, model.w_relation, torch.LongTensor(train_data), [], torch.LongTensor(val_data),\n",
    "                    hits=[1,10], eval_bz=500, eval_p='raw')"
   ]
  },
  {
   "cell_type": "code",
   "execution_count": 12,
   "metadata": {},
   "outputs": [
    {
     "data": {
      "text/plain": [
       "array([[   0,    0, 6604],\n",
       "       [   1,    0, 6604],\n",
       "       [   2,    0, 6604],\n",
       "       [   3,    0, 6604],\n",
       "       [   4,    0, 6604],\n",
       "       [   5,    0, 6604],\n",
       "       [   6,    0, 6604],\n",
       "       [   7,    0, 6604],\n",
       "       [   8,    0, 6604],\n",
       "       [   9,    0, 6604],\n",
       "       [  10,    0, 6604],\n",
       "       [  11,    0, 6604],\n",
       "       [  12,    0, 6604],\n",
       "       [  13,    0, 6604],\n",
       "       [  14,    0, 6604],\n",
       "       [  15,    0, 6604],\n",
       "       [  16,    0, 6604],\n",
       "       [  17,    0, 6604],\n",
       "       [  18,    0, 6604],\n",
       "       [  19,    0, 6604],\n",
       "       [  20,    0, 6604],\n",
       "       [  21,    0, 6604],\n",
       "       [  22,    0, 6604],\n",
       "       [  23,    0, 6604],\n",
       "       [  24,    0, 6604],\n",
       "       [  25,    0, 6604],\n",
       "       [  26,    0, 6604],\n",
       "       [  27,    0, 6604],\n",
       "       [  28,    0, 6604],\n",
       "       [  29,    0, 6604],\n",
       "       [  30,    0, 6604],\n",
       "       [  31,    0, 6604],\n",
       "       [  32,    0, 6604],\n",
       "       [  33,    0, 6604],\n",
       "       [  34,    0, 6604],\n",
       "       [  35,    0, 6604],\n",
       "       [  36,    0, 6604],\n",
       "       [  37,    0, 6604],\n",
       "       [  38,    0, 6604],\n",
       "       [  39,    0, 6604],\n",
       "       [  40,    0, 6604],\n",
       "       [  41,    0, 6604],\n",
       "       [  42,    0, 6604],\n",
       "       [  43,    0, 6604],\n",
       "       [  44,    0, 6604],\n",
       "       [  45,    0, 6604],\n",
       "       [  46,    0, 6604],\n",
       "       [  47,    0, 6604],\n",
       "       [  48,    0, 6604],\n",
       "       [  49,    0, 6604],\n",
       "       [  50,    0, 6604],\n",
       "       [  51,    0, 6604],\n",
       "       [  52,    0, 6604],\n",
       "       [  53,    0, 6604],\n",
       "       [  54,    0, 6604],\n",
       "       [  55,    0, 6604],\n",
       "       [  56,    0, 6604],\n",
       "       [  57,    0, 6604],\n",
       "       [  58,    0, 6604],\n",
       "       [  59,    0, 6604],\n",
       "       [  60,    0, 6604],\n",
       "       [  61,    0, 6604],\n",
       "       [  62,    0, 6604],\n",
       "       [  63,    0, 6604],\n",
       "       [  64,    0, 6604],\n",
       "       [  65,    0, 6604],\n",
       "       [  66,    0, 6604],\n",
       "       [  67,    0, 6604],\n",
       "       [  68,    0, 6604],\n",
       "       [  69,    0, 6604],\n",
       "       [  70,    0, 6604],\n",
       "       [  71,    0, 6604],\n",
       "       [  72,    0, 6604],\n",
       "       [  73,    0, 6604],\n",
       "       [  74,    0, 6604],\n",
       "       [  75,    0, 6604],\n",
       "       [  76,    0, 6604],\n",
       "       [  77,    0, 6604],\n",
       "       [  78,    0, 6604],\n",
       "       [  79,    0, 6604],\n",
       "       [  80,    0, 6604],\n",
       "       [  81,    0, 6604],\n",
       "       [  82,    0, 6604],\n",
       "       [  83,    0, 6604],\n",
       "       [  84,    0, 6604],\n",
       "       [  85,    0, 6604],\n",
       "       [  86,    0, 6604],\n",
       "       [  87,    0, 6604],\n",
       "       [  88,    0, 6604],\n",
       "       [  89,    0, 6604],\n",
       "       [  90,    0, 6604],\n",
       "       [  91,    0, 6604],\n",
       "       [  92,    0, 6604],\n",
       "       [  93,    0, 6604],\n",
       "       [  94,    0, 6604],\n",
       "       [  95,    0, 6604],\n",
       "       [  96,    0, 6604],\n",
       "       [  97,    0, 6604],\n",
       "       [  98,    0, 6604],\n",
       "       [  99,    0, 6604],\n",
       "       [ 100,    0, 6604],\n",
       "       [ 101,    0, 6604],\n",
       "       [ 102,    0, 6604],\n",
       "       [ 103,    0, 6604],\n",
       "       [ 104,    0, 6604],\n",
       "       [ 105,    0, 6604],\n",
       "       [ 106,    0, 6604],\n",
       "       [ 107,    0, 6604],\n",
       "       [ 108,    0, 6604],\n",
       "       [ 109,    0, 6604],\n",
       "       [ 110,    0, 6604],\n",
       "       [ 111,    0, 6604],\n",
       "       [ 112,    0, 6604],\n",
       "       [ 113,    0, 6604],\n",
       "       [ 114,    0, 6604],\n",
       "       [ 115,    0, 6604],\n",
       "       [ 116,    0, 6604],\n",
       "       [ 117,    0, 6604],\n",
       "       [ 118,    0, 6604],\n",
       "       [ 119,    0, 6604],\n",
       "       [ 120,    0, 6604],\n",
       "       [ 121,    0, 6604],\n",
       "       [ 122,    0, 6604],\n",
       "       [ 123,    0, 6604],\n",
       "       [ 124,    0, 6604],\n",
       "       [ 125,    0, 6604],\n",
       "       [ 126,    0, 6604],\n",
       "       [ 127,    0, 6604],\n",
       "       [ 128,    0, 6604],\n",
       "       [ 129,    0, 6604],\n",
       "       [ 130,    0, 6604],\n",
       "       [ 131,    0, 6604],\n",
       "       [ 132,    0, 6604],\n",
       "       [ 133,    0, 6604],\n",
       "       [ 134,    0, 6604],\n",
       "       [ 135,    0, 6604],\n",
       "       [ 136,    0, 6604],\n",
       "       [ 137,    0, 6604],\n",
       "       [ 138,    0, 6604],\n",
       "       [ 139,    0, 6604],\n",
       "       [ 140,    0, 6604],\n",
       "       [ 141,    0, 6604],\n",
       "       [ 142,    0, 6604],\n",
       "       [ 143,    0, 6604],\n",
       "       [ 144,    0, 6604],\n",
       "       [ 145,    0, 6604],\n",
       "       [ 146,    0, 6604],\n",
       "       [ 147,    0, 6604],\n",
       "       [ 148,    0, 6604],\n",
       "       [ 149,    0, 6604],\n",
       "       [ 150,    0, 6604],\n",
       "       [ 151,    0, 6604],\n",
       "       [ 152,    0, 6604],\n",
       "       [ 153,    0, 6604],\n",
       "       [ 154,    0, 6604],\n",
       "       [ 155,    0, 6604],\n",
       "       [ 156,    0, 6604],\n",
       "       [ 157,    0, 6604],\n",
       "       [ 158,    0, 6604],\n",
       "       [ 159,    0, 6604],\n",
       "       [ 160,    0, 6604],\n",
       "       [ 161,    0, 6604],\n",
       "       [ 162,    0, 6604],\n",
       "       [ 163,    0, 6604],\n",
       "       [ 164,    0, 6604],\n",
       "       [ 165,    0, 6604],\n",
       "       [ 166,    0, 6604],\n",
       "       [ 167,    0, 6604],\n",
       "       [ 168,    0, 6604],\n",
       "       [ 169,    0, 6604],\n",
       "       [ 170,    0, 6604],\n",
       "       [ 171,    0, 6604],\n",
       "       [ 172,    0, 6604],\n",
       "       [ 173,    0, 6604],\n",
       "       [ 174,    0, 6604],\n",
       "       [ 175,    0, 6604],\n",
       "       [ 176,    0, 6604],\n",
       "       [ 177,    0, 6604],\n",
       "       [ 178,    0, 6604],\n",
       "       [ 179,    0, 6604],\n",
       "       [ 180,    0, 6604],\n",
       "       [ 181,    0, 6604],\n",
       "       [ 182,    0, 6604],\n",
       "       [ 183,    0, 6604],\n",
       "       [ 184,    0, 6604],\n",
       "       [ 185,    0, 6604],\n",
       "       [ 186,    0, 6604],\n",
       "       [ 187,    0, 6604],\n",
       "       [ 188,    0, 6604],\n",
       "       [ 189,    0, 6604],\n",
       "       [ 190,    0, 6604],\n",
       "       [ 191,    0, 6604],\n",
       "       [ 192,    0, 6604],\n",
       "       [ 193,    0, 6604],\n",
       "       [ 194,    0, 6604],\n",
       "       [ 195,    0, 6604],\n",
       "       [ 196,    0, 6604],\n",
       "       [ 197,    0, 6604],\n",
       "       [ 198,    0, 6604],\n",
       "       [ 199,    0, 6604],\n",
       "       [ 200,    0, 6604],\n",
       "       [ 201,    0, 6604],\n",
       "       [ 202,    0, 6604],\n",
       "       [ 203,    0, 6604],\n",
       "       [ 204,    0, 6604],\n",
       "       [ 205,    0, 6604],\n",
       "       [ 206,    0, 6604],\n",
       "       [ 207,    0, 6604],\n",
       "       [ 208,    0, 6604],\n",
       "       [ 209,    0, 6604],\n",
       "       [ 210,    0, 6604],\n",
       "       [ 211,    0, 6604],\n",
       "       [ 212,    0, 6604],\n",
       "       [ 213,    0, 6604],\n",
       "       [ 214,    0, 6604],\n",
       "       [ 215,    0, 6604],\n",
       "       [ 216,    0, 6604],\n",
       "       [ 217,    0, 6604],\n",
       "       [ 218,    0, 6604],\n",
       "       [ 219,    0, 6604],\n",
       "       [ 220,    0, 6604],\n",
       "       [ 221,    0, 6604],\n",
       "       [ 222,    0, 6604],\n",
       "       [ 223,    0, 6604],\n",
       "       [ 224,    0, 6604],\n",
       "       [ 225,    0, 6604],\n",
       "       [ 226,    0, 6604],\n",
       "       [ 227,    0, 6604],\n",
       "       [ 228,    0, 6604],\n",
       "       [ 229,    0, 6604],\n",
       "       [ 230,    0, 6604],\n",
       "       [ 231,    0, 6604],\n",
       "       [ 232,    0, 6604]])"
      ]
     },
     "execution_count": 12,
     "metadata": {},
     "output_type": "execute_result"
    }
   ],
   "source": [
    "covid_test_data"
   ]
  },
  {
   "cell_type": "code",
   "execution_count": 15,
   "metadata": {},
   "outputs": [],
   "source": [
    "covid_scores = model.calc_score(embed, covid_test_data).detach().numpy()\n",
    "potent_drugs = [(node_map[e[0]], covid_scores[i]) for i, e in enumerate(covid_test_data)]\n",
    "potent_drugs.sort(key = lambda x:x[1], reverse=True)"
   ]
  },
  {
   "cell_type": "code",
   "execution_count": 16,
   "metadata": {},
   "outputs": [],
   "source": [
    "drugs = pd.read_csv('../data/clean/drugs.wse.nodes', header=None)\n",
    "drug_id_name_dict = json.load(open('../data/clean/drugs-name-dict.json'))\n",
    "\n",
    "num_drugs = drugs.shape[0]\n",
    "drug_num_dict = {num: drug for (num, drug) in zip(range(num_drugs), drugs[0])}\n",
    "potent_drugs = [(drug_num_dict[drug[0]], drug[1]) for drug in potent_drugs] "
   ]
  },
  {
   "cell_type": "code",
   "execution_count": 17,
   "metadata": {},
   "outputs": [
    {
     "data": {
      "text/html": [
       "<div>\n",
       "<style scoped>\n",
       "    .dataframe tbody tr th:only-of-type {\n",
       "        vertical-align: middle;\n",
       "    }\n",
       "\n",
       "    .dataframe tbody tr th {\n",
       "        vertical-align: top;\n",
       "    }\n",
       "\n",
       "    .dataframe thead th {\n",
       "        text-align: right;\n",
       "    }\n",
       "</style>\n",
       "<table border=\"1\" class=\"dataframe\">\n",
       "  <thead>\n",
       "    <tr style=\"text-align: right;\">\n",
       "      <th></th>\n",
       "      <th>0</th>\n",
       "      <th>1</th>\n",
       "    </tr>\n",
       "  </thead>\n",
       "  <tbody>\n",
       "    <tr>\n",
       "      <th>0</th>\n",
       "      <td>DB00313</td>\n",
       "      <td>Valproic acid</td>\n",
       "    </tr>\n",
       "    <tr>\n",
       "      <th>1</th>\n",
       "      <td>DB12207</td>\n",
       "      <td>Verdinexor</td>\n",
       "    </tr>\n",
       "    <tr>\n",
       "      <th>2</th>\n",
       "      <td>DB06733</td>\n",
       "      <td>Bafilomycin A1</td>\n",
       "    </tr>\n",
       "    <tr>\n",
       "      <th>3</th>\n",
       "      <td>DB08912</td>\n",
       "      <td>Dabrafenib</td>\n",
       "    </tr>\n",
       "    <tr>\n",
       "      <th>4</th>\n",
       "      <td>DB00608</td>\n",
       "      <td>Chloroquine</td>\n",
       "    </tr>\n",
       "  </tbody>\n",
       "</table>\n",
       "</div>"
      ],
      "text/plain": [
       "         0               1\n",
       "0  DB00313   Valproic acid\n",
       "1  DB12207      Verdinexor\n",
       "2  DB06733  Bafilomycin A1\n",
       "3  DB08912      Dabrafenib\n",
       "4  DB00608     Chloroquine"
      ]
     },
     "execution_count": 17,
     "metadata": {},
     "output_type": "execute_result"
    }
   ],
   "source": [
    "covid_drugs = pd.read_csv('../data/clean/covid-drugs', header=None)\n",
    "covid_drugs.head()"
   ]
  },
  {
   "cell_type": "code",
   "execution_count": 18,
   "metadata": {
    "scrolled": true
   },
   "outputs": [
    {
     "data": {
      "text/plain": [
       "{'DB00313': 'Valproic acid',\n",
       " 'DB12207': 'Verdinexor',\n",
       " 'DB06733': 'Bafilomycin A1',\n",
       " 'DB08912': 'Dabrafenib',\n",
       " 'DB00608': 'Chloroquine',\n",
       " 'DB00446': 'Chloramphenicol',\n",
       " 'DB00328': 'Indomethacin',\n",
       " 'DB00494': 'Entacapone',\n",
       " 'DB05018': 'Migalastat',\n",
       " 'DB00331': 'Metformin',\n",
       " 'DB07995': 'H-89',\n",
       " 'DB04862': 'Merimepodib',\n",
       " 'DB00560': 'Tigecycline',\n",
       " 'DB00601': 'Linezolid',\n",
       " 'DB00811': 'Ribavirin',\n",
       " 'DB01024': 'Mycophenolic acid',\n",
       " 'DB08901': 'Ponatinib',\n",
       " 'DB00877': 'Rapamycin',\n",
       " 'DB11836': 'Sapanisertib',\n",
       " 'DB12000': 'Apabetalone',\n",
       " 'DB15408': 'Silmitasertib',\n",
       " 'DB00661': 'Verapamil',\n",
       " 'DB00694': 'Daunorubicin',\n",
       " 'DB00502': 'Haloperidol',\n",
       " 'DB06595': 'Midostaurin',\n",
       " 'DB08877': 'Ruxolitinib',\n",
       " 'DB11759': 'Pevonedistat',\n",
       " 'DB13729': 'Camostat',\n",
       " 'DB12598': 'Nafamostat',\n",
       " 'DB01197': 'Captoril',\n",
       " 'DB00722': 'Lisinopril',\n",
       " 'DB15219': 'Tomivosertib'}"
      ]
     },
     "execution_count": 18,
     "metadata": {},
     "output_type": "execute_result"
    }
   ],
   "source": [
    "covid_drugs_dict = {id: name for (id, name) in zip(covid_drugs[0], covid_drugs[1])}\n",
    "covid_drugs_dict"
   ]
  },
  {
   "cell_type": "code",
   "execution_count": 19,
   "metadata": {},
   "outputs": [
    {
     "name": "stdout",
     "output_type": "stream",
     "text": [
      "\t DB01033 Mercaptopurine\n",
      "\t DB01045 Rifampicin\n",
      "2 DB01024 Mycophenolic acid\n",
      "\t DB09213 Dexibuprofen\n",
      "4 DB08901 Ponatinib\n",
      "\t DB00163 Vitamin E\n",
      "\t DB00688 Mycophenolate mofetil\n",
      "\t DB00171 ATP\n",
      "\t DB04216 Quercetin\n",
      "\t DB14481 Calcium phosphate dihydrate\n",
      "\t DB00977 Ethinylestradiol\n",
      "\t DB00503 Ritonavir\n",
      "\t DB00773 Etoposide\n",
      "\t DB01232 Saquinavir\n",
      "\t DB00635 Prednisone\n",
      "\t DB00252 Phenytoin\n",
      "\t DB01262 Decitabine\n",
      "\t DB11632 Opicapone\n",
      "\t DB00762 Irinotecan\n",
      "\t DB02703 Fusidic acid\n",
      "\t DB00541 Vincristine\n",
      "\t DB06103 VX-148\n",
      "\t DB04348 Taurocholic acid\n",
      "\t DB04315 Guanosine-5'-Diphosphate\n",
      "\t DB00166 Lipoic acid\n",
      "\t DB01104 Sertraline\n",
      "\t DB08881 Vemurafenib\n",
      "\t DB14003 alpha-Tocopherol acetate\n",
      "\t DB13783 Acemetacin\n",
      "\t DB04786 Suramin\n",
      "\t DB00721 Procaine\n",
      "\t DB00421 Spironolactone\n",
      "\t DB03478 2'-O-Acetyl Adenosine-5-Diphosphoribose\n",
      "\t DB02379 Beta-D-Glucose\n",
      "\t DB00255 Diethylstilbestrol\n",
      "\t DB14548 Zinc sulfate, unspecified form\n",
      "\t DB09061 Cannabidiol\n",
      "\t DB00537 Ciprofloxacin\n",
      "\t DB01593 Zinc\n",
      "39 DB06595 Midostaurin\n",
      "\t DB00988 Dopamine\n",
      "\t DB01174 Phenobarbital\n",
      "\t DB00555 Lamotrigine\n",
      "\t DB11635 Tocofersolan\n",
      "\t DB01248 Docetaxel\n",
      "\t DB00898 Ethanol\n",
      "46 DB00661 Verapamil\n",
      "\t DB00563 Methotrexate\n",
      "\t DB01708 Prasterone\n",
      "\t DB00201 Caffeine\n"
     ]
    }
   ],
   "source": [
    "rank = []\n",
    "for i, drug in enumerate(potent_drugs[:50]):\n",
    "    if drug[0] in covid_drugs_dict:\n",
    "        print(i, drug[0], drug_id_name_dict[drug[0]])\n",
    "    else:\n",
    "        print('\\t', drug[0], drug_id_name_dict[drug[0]])"
   ]
  },
  {
   "cell_type": "code",
   "execution_count": null,
   "metadata": {},
   "outputs": [],
   "source": []
  }
 ],
 "metadata": {
  "kernelspec": {
   "display_name": "graph_gpu",
   "language": "python",
   "name": "graph_gpu"
  },
  "language_info": {
   "codemirror_mode": {
    "name": "ipython",
    "version": 3
   },
   "file_extension": ".py",
   "mimetype": "text/x-python",
   "name": "python",
   "nbconvert_exporter": "python",
   "pygments_lexer": "ipython3",
   "version": "3.8.2"
  }
 },
 "nbformat": 4,
 "nbformat_minor": 2
}
