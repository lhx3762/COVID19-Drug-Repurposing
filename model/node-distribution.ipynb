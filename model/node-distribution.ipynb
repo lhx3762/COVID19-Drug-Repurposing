{
 "cells": [
  {
   "cell_type": "code",
   "execution_count": null,
   "metadata": {},
   "outputs": [],
   "source": [
    "graph = np.load('../data/clean/graph.npy')"
   ]
  },
  {
   "cell_type": "code",
   "execution_count": null,
   "metadata": {},
   "outputs": [],
   "source": [
    "def generate_deg_dist(graph, data_type='whole',title='for the whole graph'):\n",
    "    if data_type == \"whole\":\n",
    "        edges1 = Counter(list(Counter(graph[:,0]).values()))\n",
    "        edges2 = Counter(list(Counter(graph[:,2]).values()))\n",
    "    \n",
    "    elif data_type == \"gene\":\n",
    "        graph1 = graph[graph[:,0]>=11171+8079]\n",
    "        graph2 = graph[graph[:,2]>=11171+8079+18643]\n",
    "        edges1 = Counter(list(Counter(graph1[:,0]).values()))\n",
    "        edges2 = Counter(list(Counter(graph2[:,2]).values()))\n",
    "        \n",
    "    elif data_type == \"disease\":\n",
    "        graph1 = graph[(graph[:,0]>=8079) & (graph[:,0]<11171+8079)]\n",
    "        graph2 = graph[(graph[:,2]>=8079) & (graph[:,2]<11171+8079)]\n",
    "        edges1 = Counter(list(Counter(graph1[:,0]).values()))\n",
    "        edges2 = Counter(list(Counter(graph2[:,2]).values()))\n",
    "    elif data_type == \"drug\":\n",
    "        graph1 = graph[graph[:,0]<8079]\n",
    "        graph2 = graph[graph[:,2]<8079]\n",
    "        edges1 = Counter(list(Counter(graph1[:,0]).values()))\n",
    "        edges2 = Counter(list(Counter(graph2[:,2]).values()))\n",
    "    edges = edges1+edges2\n",
    "    plt.scatter(list(edges.keys()),list(edges.values()))\n",
    "    plt.title('Degree Distribution '+title)\n",
    "    plt.xlabel('Node Degree')\n",
    "    plt.ylabel('Number of Nodes')\n",
    "    plt.yscale('log')\n",
    "    "
   ]
  },
  {
   "cell_type": "code",
   "execution_count": null,
   "metadata": {},
   "outputs": [],
   "source": [
    "generate_deg_dist(graph, title='for the whole graph')"
   ]
  },
  {
   "cell_type": "code",
   "execution_count": null,
   "metadata": {},
   "outputs": [],
   "source": [
    "graph_gene = graph[((graph[:,0]>=num_diseases+num_drugs) | (graph[:,2]>=num_diseases+num_drugs)),:]\n",
    "graph_disease = graph[(((graph[:,0]>=num_drugs) & (graph[:,0]<num_diseases+num_drugs)) \n",
    "                       | (graph[:,2]>=8079) & (graph[:,2]<num_diseases+num_drugs)),:]\n",
    "graph_drug = graph[((graph[:,0]<num_drugs) | (graph[:,2]<num_drugs)),:]"
   ]
  },
  {
   "cell_type": "code",
   "execution_count": null,
   "metadata": {},
   "outputs": [],
   "source": [
    "generate_deg_dist(graph_gene, 'gene', title='for all gene nodes')"
   ]
  },
  {
   "cell_type": "code",
   "execution_count": null,
   "metadata": {},
   "outputs": [],
   "source": [
    "generate_deg_dist(graph_disease, 'disease',title='for all disease nodes')"
   ]
  },
  {
   "cell_type": "code",
   "execution_count": null,
   "metadata": {},
   "outputs": [],
   "source": [
    "generate_deg_dist(graph,'drug', title='for the drug nodes')"
   ]
  }
 ],
 "metadata": {
  "kernelspec": {
   "display_name": "Python 3",
   "language": "python",
   "name": "python3"
  },
  "language_info": {
   "codemirror_mode": {
    "name": "ipython",
    "version": 3
   },
   "file_extension": ".py",
   "mimetype": "text/x-python",
   "name": "python",
   "nbconvert_exporter": "python",
   "pygments_lexer": "ipython3",
   "version": "3.5.6"
  }
 },
 "nbformat": 4,
 "nbformat_minor": 4
}
