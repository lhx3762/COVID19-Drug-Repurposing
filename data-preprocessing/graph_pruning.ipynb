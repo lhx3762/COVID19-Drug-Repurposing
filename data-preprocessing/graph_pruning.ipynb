{
 "cells": [
  {
   "cell_type": "code",
   "execution_count": 1,
   "metadata": {},
   "outputs": [],
   "source": [
    "import numpy as np\n",
    "import pandas as pd\n",
    "\n",
    "import networkx as nx\n",
    "from collections import Counter\n",
    "import matplotlib.pyplot as plt\n",
    "import json"
   ]
  },
  {
   "cell_type": "code",
   "execution_count": 2,
   "metadata": {
    "scrolled": true
   },
   "outputs": [
    {
     "data": {
      "text/plain": [
       "(1159831, 3)"
      ]
     },
     "execution_count": 2,
     "metadata": {},
     "output_type": "execute_result"
    }
   ],
   "source": [
    "graph = np.load('../data/clean/graph.wse.npy')\n",
    "graph.shape"
   ]
  },
  {
   "cell_type": "markdown",
   "metadata": {},
   "source": [
    "# Node degree exploration\n",
    "\n",
    "The code mainly is from Haoxin's."
   ]
  },
  {
   "cell_type": "code",
   "execution_count": 3,
   "metadata": {},
   "outputs": [],
   "source": [
    "# explore node degree distribution\n",
    "def generate_deg_dist(graph, data_type='whole',title='for the whole graph'):\n",
    "    if data_type == \"whole\":\n",
    "        edges1 = Counter(list(Counter(graph[:,0]).values()))\n",
    "        edges2 = Counter(list(Counter(graph[:,2]).values()))\n",
    "    \n",
    "    elif data_type == \"gene\":\n",
    "        graph1 = graph[graph[:,0]>=11171+8079]\n",
    "        graph2 = graph[graph[:,2]>=11171+8079+18643]\n",
    "        edges1 = Counter(list(Counter(graph1[:,0]).values()))\n",
    "        edges2 = Counter(list(Counter(graph2[:,2]).values()))\n",
    "        \n",
    "    elif data_type == \"disease\":\n",
    "        graph1 = graph[(graph[:,0]>=8079) & (graph[:,0]<11171+8079)]\n",
    "        graph2 = graph[(graph[:,2]>=8079) & (graph[:,2]<11171+8079)]\n",
    "        edges1 = Counter(list(Counter(graph1[:,0]).values()))\n",
    "        edges2 = Counter(list(Counter(graph2[:,2]).values()))\n",
    "    elif data_type == \"drug\":\n",
    "        graph1 = graph[graph[:,0]<8079]\n",
    "        graph2 = graph[graph[:,2]<8079]\n",
    "        edges1 = Counter(list(Counter(graph1[:,0]).values()))\n",
    "        edges2 = Counter(list(Counter(graph2[:,2]).values()))\n",
    "    edges = edges1+edges2\n",
    "    plt.scatter(list(edges.keys()),list(edges.values()))\n",
    "    plt.title('Degree Distribution '+title)\n",
    "    plt.xlabel('Node Degree')\n",
    "    plt.ylabel('Number of Nodes')\n",
    "    plt.yscale('log')"
   ]
  },
  {
   "cell_type": "code",
   "execution_count": 4,
   "metadata": {},
   "outputs": [
    {
     "data": {
      "image/png": "[encoded data removed]",
      "text/plain": [
       "<Figure size 432x288 with 1 Axes>"
      ]
     },
     "metadata": {
      "needs_background": "light"
     },
     "output_type": "display_data"
    }
   ],
   "source": [
    "generate_deg_dist(graph, title='for the whole graph')"
   ]
  },
  {
   "cell_type": "code",
   "execution_count": 22,
   "metadata": {},
   "outputs": [
    {
     "data": {
      "text/plain": [
       "37892"
      ]
     },
     "execution_count": 22,
     "metadata": {},
     "output_type": "execute_result"
    }
   ],
   "source": [
    "max_node = np.max(graph[:,0])\n",
    "max_node"
   ]
  },
  {
   "cell_type": "code",
   "execution_count": 23,
   "metadata": {},
   "outputs": [
    {
     "data": {
      "text/plain": [
       "37893"
      ]
     },
     "execution_count": 23,
     "metadata": {},
     "output_type": "execute_result"
    }
   ],
   "source": [
    "drug_num = 8079 # 1st in edges\n",
    "disease_num = 11171 # 2nd in edges\n",
    "gene_num = 18643 # 3rd in edges\n",
    "drug_num + disease_num + gene_num"
   ]
  },
  {
   "cell_type": "markdown",
   "metadata": {},
   "source": [
    "# Pruning"
   ]
  },
  {
   "cell_type": "code",
   "execution_count": 3,
   "metadata": {},
   "outputs": [],
   "source": [
    "covid_gene_dict = json.load(open('../data/clean/covid-gene-num-dict.wse.json'))\n",
    "covid_num_gene_dict = {num:gene for (gene, num) in covid_gene_dict.items()}\n",
    "covid_genes = covid_gene_dict.values()"
   ]
  },
  {
   "cell_type": "code",
   "execution_count": 4,
   "metadata": {},
   "outputs": [
    {
     "name": "stdout",
     "output_type": "stream",
     "text": [
      "['NDUFAF2', 'CSNK2A2', 'ZYG11B', 'NUP98', 'F2RL1', 'ABCC1', 'TOR1A', 'OS9', 'EIF4E2', 'FKBP7', 'NUP214', 'PLOD2', 'MRPS25', 'MARK3', 'UGGT2', 'SIGMAR1', 'NUP58', 'RBX1', 'EDEM3', 'BRD2', 'TMEM97', 'MARK2', 'NUP210', 'PRKACA', 'FKBP10', 'NDUFAF1', 'GLA', 'NEK9', 'ELOC', 'PTGES2', 'FKBP15', 'NUP54', 'SIL1', 'DCTPP1', 'TBK1', 'MRPS2', 'IMPDH2', 'COMT', 'RAE1', 'NDUFB9', 'HDAC2', 'DNMT1', 'LOX', 'CUL2', 'HYOU1', 'FOXRED2', 'ERLEC1', 'NUP88', 'SDF2', 'ELOB', 'RIPK1', 'NGLY1', 'ERO1B', 'CSNK2B', 'LARP1', 'MRPS27', 'EIF4H', 'MRPS5', 'BRD4', 'CEP250', 'NUP62', 'ATP6AP1']\n"
     ]
    }
   ],
   "source": [
    "gene_drug_targets = pd.read_csv('../data/clean/covid-gene-drug-targets', header=None)\n",
    "gene_drug_targets = list(set(gene_drug_targets[0].tolist()))\n",
    "print(gene_drug_targets)"
   ]
  },
  {
   "cell_type": "code",
   "execution_count": 8,
   "metadata": {},
   "outputs": [
    {
     "data": {
      "text/plain": [
       "Counter({1: 1,\n",
       "         2: 46,\n",
       "         3: 222,\n",
       "         4: 73,\n",
       "         5: 31766,\n",
       "         6: 9212,\n",
       "         7: 10352,\n",
       "         8: 4366,\n",
       "         9: 342,\n",
       "         10: 1294,\n",
       "         11: 270,\n",
       "         12: 1703})"
      ]
     },
     "execution_count": 8,
     "metadata": {},
     "output_type": "execute_result"
    }
   ],
   "source": [
    "covid_graph = graph[np.isin(graph[:,0], list(covid_genes)) | np.isin(graph[:,2], list(covid_genes))]\n",
    "Counter(covid_graph[:,1])"
   ]
  },
  {
   "cell_type": "code",
   "execution_count": 9,
   "metadata": {},
   "outputs": [],
   "source": [
    "G = nx.Graph()\n",
    "nx_edges = [(node1, node2) for (node1, node2) in zip(graph[:,0],graph[:,2])]\n",
    "G.add_edges_from(nx_edges)\n",
    "degrees = dict(G.degree())"
   ]
  },
  {
   "cell_type": "code",
   "execution_count": 10,
   "metadata": {},
   "outputs": [
    {
     "data": {
      "text/plain": [
       "638289"
      ]
     },
     "execution_count": 10,
     "metadata": {},
     "output_type": "execute_result"
    }
   ],
   "source": [
    "len(list(G.edges()))"
   ]
  },
  {
   "cell_type": "code",
   "execution_count": 11,
   "metadata": {},
   "outputs": [],
   "source": [
    "DEGREE_THRESH = 500\n",
    "HOPS = 2"
   ]
  },
  {
   "cell_type": "code",
   "execution_count": 13,
   "metadata": {},
   "outputs": [],
   "source": [
    "covid_neighbors = []\n",
    "def get_neighbors(node, hop, max_hops):\n",
    "    if node in covid_neighbors or hop > max_hops: return\n",
    "    covid_neighbors.append(node)\n",
    "    for neighbor in dict(G[node]).keys():\n",
    "        get_neighbors(neighbor, hop+1, max_hops)\n",
    "for gene_num in covid_genes:\n",
    "    get_neighbors(gene_num, 0, HOPS)"
   ]
  },
  {
   "cell_type": "code",
   "execution_count": 15,
   "metadata": {},
   "outputs": [
    {
     "data": {
      "text/plain": [
       "27015"
      ]
     },
     "execution_count": 15,
     "metadata": {},
     "output_type": "execute_result"
    }
   ],
   "source": [
    "remove_nodes = [node for node,degree in dict(G.degree()).items()\\\n",
    "                if degree < DEGREE_THRESH and\\\n",
    "                node not in covid_genes and node not in covid_neighbors]\n",
    "len(remove_nodes)"
   ]
  },
  {
   "cell_type": "code",
   "execution_count": 16,
   "metadata": {},
   "outputs": [
    {
     "data": {
      "text/plain": [
       "(880648, 3)"
      ]
     },
     "execution_count": 16,
     "metadata": {},
     "output_type": "execute_result"
    }
   ],
   "source": [
    "final_graph = graph[~((np.isin(graph[:,0], remove_nodes)) | (np.isin(graph[:,2], remove_nodes))),:]\n",
    "final_graph.shape"
   ]
  },
  {
   "cell_type": "code",
   "execution_count": 17,
   "metadata": {},
   "outputs": [
    {
     "data": {
      "text/plain": [
       "[10876, 2]"
      ]
     },
     "execution_count": 17,
     "metadata": {},
     "output_type": "execute_result"
    }
   ],
   "source": [
    "G2 = nx.Graph()\n",
    "G2.add_edges_from([(node1, node2) for (node1, node2) in zip(final_graph[:,0], final_graph[:,2])])\n",
    "[len(c) for c in sorted(nx.connected_components(G2), key=len, reverse=True)]"
   ]
  },
  {
   "cell_type": "code",
   "execution_count": 18,
   "metadata": {},
   "outputs": [],
   "source": [
    "for component in sorted(nx.connected_components(G2), key=len, reverse=True):\n",
    "    included_nodes = list(component)\n",
    "    break"
   ]
  },
  {
   "cell_type": "code",
   "execution_count": 19,
   "metadata": {},
   "outputs": [
    {
     "data": {
      "text/plain": [
       "(880646, 3)"
      ]
     },
     "execution_count": 19,
     "metadata": {},
     "output_type": "execute_result"
    }
   ],
   "source": [
    "final_graph_2 = final_graph[np.isin(final_graph[:,0], included_nodes) & np.isin(final_graph[:,2], included_nodes),:]\n",
    "final_graph_2.shape"
   ]
  },
  {
   "cell_type": "code",
   "execution_count": 20,
   "metadata": {},
   "outputs": [
    {
     "data": {
      "text/plain": [
       "Counter({2: 14,\n",
       "         3: 92,\n",
       "         4: 71,\n",
       "         5: 28950,\n",
       "         6: 8310,\n",
       "         7: 9314,\n",
       "         8: 4126,\n",
       "         9: 294,\n",
       "         10: 1192,\n",
       "         11: 242,\n",
       "         12: 1204})"
      ]
     },
     "execution_count": 20,
     "metadata": {},
     "output_type": "execute_result"
    }
   ],
   "source": [
    "covid_graph = final_graph_2[np.isin(final_graph_2[:,0], list(covid_genes)) | np.isin(final_graph_2[:,2], list(covid_genes))]\n",
    "Counter(covid_graph[:,1])"
   ]
  },
  {
   "cell_type": "code",
   "execution_count": null,
   "metadata": {},
   "outputs": [],
   "source": [
    "'''\n",
    "import numpy as np\n",
    "from prune import prune_graph\n",
    "graph = np.load('../data/clean/graph.wse.npy')\n",
    "prune_graph(graph, disease_degree_thresh=500, drug_degree_thresh=500)\n",
    "'''"
   ]
  }
 ],
 "metadata": {
  "kernelspec": {
   "display_name": "hst956",
   "language": "python",
   "name": "hst956"
  },
  "language_info": {
   "codemirror_mode": {
    "name": "ipython",
    "version": 3
   },
   "file_extension": ".py",
   "mimetype": "text/x-python",
   "name": "python",
   "nbconvert_exporter": "python",
   "pygments_lexer": "ipython3",
   "version": "3.7.7"
  }
 },
 "nbformat": 4,
 "nbformat_minor": 4
}
